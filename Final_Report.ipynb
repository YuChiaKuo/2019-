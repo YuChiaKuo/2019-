{
 "cells": [
  {
   "cell_type": "code",
   "execution_count": 1,
   "metadata": {},
   "outputs": [
    {
     "name": "stdout",
     "output_type": "stream",
     "text": [
      "Checking whether there is an H2O instance running at http://localhost:54321 . connected.\n"
     ]
    },
    {
     "data": {
      "text/html": [
       "<div style=\"overflow:auto\"><table style=\"width:50%\"><tr><td>H2O cluster uptime:</td>\n",
       "<td>10 hours 49 mins</td></tr>\n",
       "<tr><td>H2O cluster timezone:</td>\n",
       "<td>Asia/Taipei</td></tr>\n",
       "<tr><td>H2O data parsing timezone:</td>\n",
       "<td>UTC</td></tr>\n",
       "<tr><td>H2O cluster version:</td>\n",
       "<td>3.26.0.5</td></tr>\n",
       "<tr><td>H2O cluster version age:</td>\n",
       "<td>19 days </td></tr>\n",
       "<tr><td>H2O cluster name:</td>\n",
       "<td>H2O_from_python_ritakuo_jus54n</td></tr>\n",
       "<tr><td>H2O cluster total nodes:</td>\n",
       "<td>1</td></tr>\n",
       "<tr><td>H2O cluster free memory:</td>\n",
       "<td>1.457 Gb</td></tr>\n",
       "<tr><td>H2O cluster total cores:</td>\n",
       "<td>8</td></tr>\n",
       "<tr><td>H2O cluster allowed cores:</td>\n",
       "<td>8</td></tr>\n",
       "<tr><td>H2O cluster status:</td>\n",
       "<td>locked, healthy</td></tr>\n",
       "<tr><td>H2O connection url:</td>\n",
       "<td>http://localhost:54321</td></tr>\n",
       "<tr><td>H2O connection proxy:</td>\n",
       "<td>None</td></tr>\n",
       "<tr><td>H2O internal security:</td>\n",
       "<td>False</td></tr>\n",
       "<tr><td>H2O API Extensions:</td>\n",
       "<td>Amazon S3, XGBoost, Algos, AutoML, Core V3, TargetEncoder, Core V4</td></tr>\n",
       "<tr><td>Python version:</td>\n",
       "<td>3.6.9 final</td></tr></table></div>"
      ],
      "text/plain": [
       "--------------------------  ------------------------------------------------------------------\n",
       "H2O cluster uptime:         10 hours 49 mins\n",
       "H2O cluster timezone:       Asia/Taipei\n",
       "H2O data parsing timezone:  UTC\n",
       "H2O cluster version:        3.26.0.5\n",
       "H2O cluster version age:    19 days\n",
       "H2O cluster name:           H2O_from_python_ritakuo_jus54n\n",
       "H2O cluster total nodes:    1\n",
       "H2O cluster free memory:    1.457 Gb\n",
       "H2O cluster total cores:    8\n",
       "H2O cluster allowed cores:  8\n",
       "H2O cluster status:         locked, healthy\n",
       "H2O connection url:         http://localhost:54321\n",
       "H2O connection proxy:\n",
       "H2O internal security:      False\n",
       "H2O API Extensions:         Amazon S3, XGBoost, Algos, AutoML, Core V3, TargetEncoder, Core V4\n",
       "Python version:             3.6.9 final\n",
       "--------------------------  ------------------------------------------------------------------"
      ]
     },
     "metadata": {},
     "output_type": "display_data"
    }
   ],
   "source": [
    "import os\n",
    "import time\n",
    "import random\n",
    "import h2o\n",
    "from h2o.grid.grid_search import H2OGridSearch\n",
    "from h2o.estimators.glrm import H2OGeneralizedLowRankEstimator\n",
    "from h2o.model.regression import *\n",
    "from h2o.model.binomial import *\n",
    "import numpy as np\n",
    "import pandas as pd\n",
    "import xgboost as xgb\n",
    "import matplotlib.patches as mpatches\n",
    "import matplotlib.pyplot as plt\n",
    "from sklearn.model_selection import train_test_split\n",
    "from sklearn.metrics import mean_squared_error, accuracy_score\n",
    "from sklearn.feature_selection import RFE, RFECV\n",
    "from sklearn import model_selection\n",
    "h2o.init()"
   ]
  },
  {
   "cell_type": "markdown",
   "metadata": {},
   "source": [
    "## 一、匯入資料"
   ]
  },
  {
   "cell_type": "code",
   "execution_count": 2,
   "metadata": {},
   "outputs": [
    {
     "ename": "FileNotFoundError",
     "evalue": "[Errno 2] File b'train.csv' does not exist: b'train.csv'",
     "output_type": "error",
     "traceback": [
      "\u001b[0;31m---------------------------------------------------------------------------\u001b[0m",
      "\u001b[0;31mFileNotFoundError\u001b[0m                         Traceback (most recent call last)",
      "\u001b[0;32m<ipython-input-2-e4b93d6e0165>\u001b[0m in \u001b[0;36m<module>\u001b[0;34m\u001b[0m\n\u001b[0;32m----> 1\u001b[0;31m \u001b[0mdf\u001b[0m \u001b[0;34m=\u001b[0m \u001b[0mpd\u001b[0m\u001b[0;34m.\u001b[0m\u001b[0mread_csv\u001b[0m\u001b[0;34m(\u001b[0m\u001b[0;34m\"train.csv\"\u001b[0m\u001b[0;34m,\u001b[0m \u001b[0mencoding\u001b[0m \u001b[0;34m=\u001b[0m \u001b[0;34m'GB18030'\u001b[0m\u001b[0;34m)\u001b[0m  \u001b[0;31m#, na_filter = False\u001b[0m\u001b[0;34m\u001b[0m\u001b[0;34m\u001b[0m\u001b[0m\n\u001b[0m\u001b[1;32m      2\u001b[0m \u001b[0mdf\u001b[0m\u001b[0;34m.\u001b[0m\u001b[0mindex\u001b[0m \u001b[0;34m=\u001b[0m \u001b[0mdf\u001b[0m\u001b[0;34m[\u001b[0m\u001b[0;34m\"CUS_ID\"\u001b[0m\u001b[0;34m]\u001b[0m\u001b[0;34m\u001b[0m\u001b[0;34m\u001b[0m\u001b[0m\n\u001b[1;32m      3\u001b[0m \u001b[0mindex_df\u001b[0m \u001b[0;34m=\u001b[0m \u001b[0mdf\u001b[0m\u001b[0;34m.\u001b[0m\u001b[0mindex\u001b[0m\u001b[0;34m\u001b[0m\u001b[0;34m\u001b[0m\u001b[0m\n\u001b[1;32m      4\u001b[0m \u001b[0mdf\u001b[0m \u001b[0;34m=\u001b[0m \u001b[0mdf\u001b[0m\u001b[0;34m.\u001b[0m\u001b[0mdrop\u001b[0m\u001b[0;34m(\u001b[0m\u001b[0;34m\"Unnamed: 0\"\u001b[0m\u001b[0;34m,\u001b[0m \u001b[0maxis\u001b[0m\u001b[0;34m=\u001b[0m\u001b[0;36m1\u001b[0m\u001b[0;34m)\u001b[0m\u001b[0;34m\u001b[0m\u001b[0;34m\u001b[0m\u001b[0m\n\u001b[1;32m      5\u001b[0m \u001b[0mdf\u001b[0m \u001b[0;34m=\u001b[0m \u001b[0mdf\u001b[0m\u001b[0;34m.\u001b[0m\u001b[0mdrop\u001b[0m\u001b[0;34m(\u001b[0m\u001b[0;34m\"CUS_ID\"\u001b[0m\u001b[0;34m,\u001b[0m \u001b[0maxis\u001b[0m\u001b[0;34m=\u001b[0m\u001b[0;36m1\u001b[0m\u001b[0;34m)\u001b[0m\u001b[0;34m\u001b[0m\u001b[0;34m\u001b[0m\u001b[0m\n",
      "\u001b[0;32m/anaconda3/envs/h2o/lib/python3.6/site-packages/pandas/io/parsers.py\u001b[0m in \u001b[0;36mparser_f\u001b[0;34m(filepath_or_buffer, sep, delimiter, header, names, index_col, usecols, squeeze, prefix, mangle_dupe_cols, dtype, engine, converters, true_values, false_values, skipinitialspace, skiprows, skipfooter, nrows, na_values, keep_default_na, na_filter, verbose, skip_blank_lines, parse_dates, infer_datetime_format, keep_date_col, date_parser, dayfirst, cache_dates, iterator, chunksize, compression, thousands, decimal, lineterminator, quotechar, quoting, doublequote, escapechar, comment, encoding, dialect, error_bad_lines, warn_bad_lines, delim_whitespace, low_memory, memory_map, float_precision)\u001b[0m\n\u001b[1;32m    683\u001b[0m         )\n\u001b[1;32m    684\u001b[0m \u001b[0;34m\u001b[0m\u001b[0m\n\u001b[0;32m--> 685\u001b[0;31m         \u001b[0;32mreturn\u001b[0m \u001b[0m_read\u001b[0m\u001b[0;34m(\u001b[0m\u001b[0mfilepath_or_buffer\u001b[0m\u001b[0;34m,\u001b[0m \u001b[0mkwds\u001b[0m\u001b[0;34m)\u001b[0m\u001b[0;34m\u001b[0m\u001b[0;34m\u001b[0m\u001b[0m\n\u001b[0m\u001b[1;32m    686\u001b[0m \u001b[0;34m\u001b[0m\u001b[0m\n\u001b[1;32m    687\u001b[0m     \u001b[0mparser_f\u001b[0m\u001b[0;34m.\u001b[0m\u001b[0m__name__\u001b[0m \u001b[0;34m=\u001b[0m \u001b[0mname\u001b[0m\u001b[0;34m\u001b[0m\u001b[0;34m\u001b[0m\u001b[0m\n",
      "\u001b[0;32m/anaconda3/envs/h2o/lib/python3.6/site-packages/pandas/io/parsers.py\u001b[0m in \u001b[0;36m_read\u001b[0;34m(filepath_or_buffer, kwds)\u001b[0m\n\u001b[1;32m    455\u001b[0m \u001b[0;34m\u001b[0m\u001b[0m\n\u001b[1;32m    456\u001b[0m     \u001b[0;31m# Create the parser.\u001b[0m\u001b[0;34m\u001b[0m\u001b[0;34m\u001b[0m\u001b[0;34m\u001b[0m\u001b[0m\n\u001b[0;32m--> 457\u001b[0;31m     \u001b[0mparser\u001b[0m \u001b[0;34m=\u001b[0m \u001b[0mTextFileReader\u001b[0m\u001b[0;34m(\u001b[0m\u001b[0mfp_or_buf\u001b[0m\u001b[0;34m,\u001b[0m \u001b[0;34m**\u001b[0m\u001b[0mkwds\u001b[0m\u001b[0;34m)\u001b[0m\u001b[0;34m\u001b[0m\u001b[0;34m\u001b[0m\u001b[0m\n\u001b[0m\u001b[1;32m    458\u001b[0m \u001b[0;34m\u001b[0m\u001b[0m\n\u001b[1;32m    459\u001b[0m     \u001b[0;32mif\u001b[0m \u001b[0mchunksize\u001b[0m \u001b[0;32mor\u001b[0m \u001b[0miterator\u001b[0m\u001b[0;34m:\u001b[0m\u001b[0;34m\u001b[0m\u001b[0;34m\u001b[0m\u001b[0m\n",
      "\u001b[0;32m/anaconda3/envs/h2o/lib/python3.6/site-packages/pandas/io/parsers.py\u001b[0m in \u001b[0;36m__init__\u001b[0;34m(self, f, engine, **kwds)\u001b[0m\n\u001b[1;32m    893\u001b[0m             \u001b[0mself\u001b[0m\u001b[0;34m.\u001b[0m\u001b[0moptions\u001b[0m\u001b[0;34m[\u001b[0m\u001b[0;34m\"has_index_names\"\u001b[0m\u001b[0;34m]\u001b[0m \u001b[0;34m=\u001b[0m \u001b[0mkwds\u001b[0m\u001b[0;34m[\u001b[0m\u001b[0;34m\"has_index_names\"\u001b[0m\u001b[0;34m]\u001b[0m\u001b[0;34m\u001b[0m\u001b[0;34m\u001b[0m\u001b[0m\n\u001b[1;32m    894\u001b[0m \u001b[0;34m\u001b[0m\u001b[0m\n\u001b[0;32m--> 895\u001b[0;31m         \u001b[0mself\u001b[0m\u001b[0;34m.\u001b[0m\u001b[0m_make_engine\u001b[0m\u001b[0;34m(\u001b[0m\u001b[0mself\u001b[0m\u001b[0;34m.\u001b[0m\u001b[0mengine\u001b[0m\u001b[0;34m)\u001b[0m\u001b[0;34m\u001b[0m\u001b[0;34m\u001b[0m\u001b[0m\n\u001b[0m\u001b[1;32m    896\u001b[0m \u001b[0;34m\u001b[0m\u001b[0m\n\u001b[1;32m    897\u001b[0m     \u001b[0;32mdef\u001b[0m \u001b[0mclose\u001b[0m\u001b[0;34m(\u001b[0m\u001b[0mself\u001b[0m\u001b[0;34m)\u001b[0m\u001b[0;34m:\u001b[0m\u001b[0;34m\u001b[0m\u001b[0;34m\u001b[0m\u001b[0m\n",
      "\u001b[0;32m/anaconda3/envs/h2o/lib/python3.6/site-packages/pandas/io/parsers.py\u001b[0m in \u001b[0;36m_make_engine\u001b[0;34m(self, engine)\u001b[0m\n\u001b[1;32m   1133\u001b[0m     \u001b[0;32mdef\u001b[0m \u001b[0m_make_engine\u001b[0m\u001b[0;34m(\u001b[0m\u001b[0mself\u001b[0m\u001b[0;34m,\u001b[0m \u001b[0mengine\u001b[0m\u001b[0;34m=\u001b[0m\u001b[0;34m\"c\"\u001b[0m\u001b[0;34m)\u001b[0m\u001b[0;34m:\u001b[0m\u001b[0;34m\u001b[0m\u001b[0;34m\u001b[0m\u001b[0m\n\u001b[1;32m   1134\u001b[0m         \u001b[0;32mif\u001b[0m \u001b[0mengine\u001b[0m \u001b[0;34m==\u001b[0m \u001b[0;34m\"c\"\u001b[0m\u001b[0;34m:\u001b[0m\u001b[0;34m\u001b[0m\u001b[0;34m\u001b[0m\u001b[0m\n\u001b[0;32m-> 1135\u001b[0;31m             \u001b[0mself\u001b[0m\u001b[0;34m.\u001b[0m\u001b[0m_engine\u001b[0m \u001b[0;34m=\u001b[0m \u001b[0mCParserWrapper\u001b[0m\u001b[0;34m(\u001b[0m\u001b[0mself\u001b[0m\u001b[0;34m.\u001b[0m\u001b[0mf\u001b[0m\u001b[0;34m,\u001b[0m \u001b[0;34m**\u001b[0m\u001b[0mself\u001b[0m\u001b[0;34m.\u001b[0m\u001b[0moptions\u001b[0m\u001b[0;34m)\u001b[0m\u001b[0;34m\u001b[0m\u001b[0;34m\u001b[0m\u001b[0m\n\u001b[0m\u001b[1;32m   1136\u001b[0m         \u001b[0;32melse\u001b[0m\u001b[0;34m:\u001b[0m\u001b[0;34m\u001b[0m\u001b[0;34m\u001b[0m\u001b[0m\n\u001b[1;32m   1137\u001b[0m             \u001b[0;32mif\u001b[0m \u001b[0mengine\u001b[0m \u001b[0;34m==\u001b[0m \u001b[0;34m\"python\"\u001b[0m\u001b[0;34m:\u001b[0m\u001b[0;34m\u001b[0m\u001b[0;34m\u001b[0m\u001b[0m\n",
      "\u001b[0;32m/anaconda3/envs/h2o/lib/python3.6/site-packages/pandas/io/parsers.py\u001b[0m in \u001b[0;36m__init__\u001b[0;34m(self, src, **kwds)\u001b[0m\n\u001b[1;32m   1915\u001b[0m         \u001b[0mkwds\u001b[0m\u001b[0;34m[\u001b[0m\u001b[0;34m\"usecols\"\u001b[0m\u001b[0;34m]\u001b[0m \u001b[0;34m=\u001b[0m \u001b[0mself\u001b[0m\u001b[0;34m.\u001b[0m\u001b[0musecols\u001b[0m\u001b[0;34m\u001b[0m\u001b[0;34m\u001b[0m\u001b[0m\n\u001b[1;32m   1916\u001b[0m \u001b[0;34m\u001b[0m\u001b[0m\n\u001b[0;32m-> 1917\u001b[0;31m         \u001b[0mself\u001b[0m\u001b[0;34m.\u001b[0m\u001b[0m_reader\u001b[0m \u001b[0;34m=\u001b[0m \u001b[0mparsers\u001b[0m\u001b[0;34m.\u001b[0m\u001b[0mTextReader\u001b[0m\u001b[0;34m(\u001b[0m\u001b[0msrc\u001b[0m\u001b[0;34m,\u001b[0m \u001b[0;34m**\u001b[0m\u001b[0mkwds\u001b[0m\u001b[0;34m)\u001b[0m\u001b[0;34m\u001b[0m\u001b[0;34m\u001b[0m\u001b[0m\n\u001b[0m\u001b[1;32m   1918\u001b[0m         \u001b[0mself\u001b[0m\u001b[0;34m.\u001b[0m\u001b[0munnamed_cols\u001b[0m \u001b[0;34m=\u001b[0m \u001b[0mself\u001b[0m\u001b[0;34m.\u001b[0m\u001b[0m_reader\u001b[0m\u001b[0;34m.\u001b[0m\u001b[0munnamed_cols\u001b[0m\u001b[0;34m\u001b[0m\u001b[0;34m\u001b[0m\u001b[0m\n\u001b[1;32m   1919\u001b[0m \u001b[0;34m\u001b[0m\u001b[0m\n",
      "\u001b[0;32mpandas/_libs/parsers.pyx\u001b[0m in \u001b[0;36mpandas._libs.parsers.TextReader.__cinit__\u001b[0;34m()\u001b[0m\n",
      "\u001b[0;32mpandas/_libs/parsers.pyx\u001b[0m in \u001b[0;36mpandas._libs.parsers.TextReader._setup_parser_source\u001b[0;34m()\u001b[0m\n",
      "\u001b[0;31mFileNotFoundError\u001b[0m: [Errno 2] File b'train.csv' does not exist: b'train.csv'"
     ]
    }
   ],
   "source": [
    "df = pd.read_csv(\"train.csv\", encoding = 'GB18030')\n",
    "df.index = df[\"CUS_ID\"]\n",
    "index_df = df.index\n",
    "df = df.drop(\"Unnamed: 0\", axis=1)\n",
    "df = df.drop(\"CUS_ID\", axis=1)\n",
    "df.head()"
   ]
  },
  {
   "cell_type": "markdown",
   "metadata": {},
   "source": [
    "## 二、資料整理"
   ]
  },
  {
   "cell_type": "markdown",
   "metadata": {},
   "source": [
    "### 1. 將中文轉為英文"
   ]
  },
  {
   "cell_type": "code",
   "execution_count": null,
   "metadata": {},
   "outputs": [],
   "source": [
    "def is_contains_chinese(strs):\n",
    "    for _char in strs:\n",
    "        if '\\u4e00' <= _char <= '\\u9fa5':\n",
    "            return True\n",
    "    return False"
   ]
  },
  {
   "cell_type": "code",
   "execution_count": null,
   "metadata": {},
   "outputs": [],
   "source": [
    "names = df.columns\n",
    "grade_range = {'低':'low', '中':'medium' , '中高': 'medium high', '高': 'high' }\n",
    "for name in names:\n",
    "    try :\n",
    "        if is_contains_chinese(df[name].values):\n",
    "            df[name] = df[name].map(grade_range)\n",
    "    except:\n",
    "        continue"
   ]
  },
  {
   "cell_type": "markdown",
   "metadata": {},
   "source": [
    "### 2. 將 NaN 超過 79% 以上的刪除"
   ]
  },
  {
   "cell_type": "code",
   "execution_count": 14,
   "metadata": {},
   "outputs": [],
   "source": [
    "df = df.drop(\"A_IND\", axis=1)\n",
    "df = df.drop(\"B_IND\", axis=1)\n",
    "df = df.drop(\"C_IND\", axis=1)\n",
    "df = df.drop(\"L1YR_C_CNT\", axis=1)"
   ]
  },
  {
   "cell_type": "markdown",
   "metadata": {},
   "source": [
    "### 3. 區分連續、類別變數"
   ]
  },
  {
   "cell_type": "code",
   "execution_count": 15,
   "metadata": {},
   "outputs": [],
   "source": [
    "conti_vars = [\"L1YR_A_ISSUE_CNT\", \"L1YR_B_ISSUE_CNT\", \"CHANNEL_A_POL_CNT\", \"CHANNEL_B_POL_CNT\", \"APC_CNT\", \\\n",
    "              \"INSD_CNT\", \"APC_1ST_YEARDIF\", \"ANNUAL_PREMIUM_AMT\", \"AG_CNT\", \"AG_NOW_CNT\", \"CLC_CUR_NUM\", \\\n",
    "              \"IM_CNT\", \"ANNUAL_INCOME_AMT\", \"BANK_NUMBER_CNT\", \"INSD_LAST_YEARDIF_CNT\", \"BMI\", \\\n",
    "              \"TERMINATION_RATE\", \"TOOL_VISIT_1YEAR_CNT\", \"DIEBENEFIT_AMT\", \"DIEACCIDENT_AMT\", \"POLICY_VALUE_AMT\",\\\n",
    "             \"ANNUITY_AMT\", \"EXPIRATION_AMT\", \"ACCIDENT_HOSPITAL_REC_AMT\", \"DISEASES_HOSPITAL_REC_AMT\", \\\n",
    "             \"OUTPATIENT_SURGERY_AMT\", \"INPATIENT_SURGERY_AMT\", \"PAY_LIMIT_MED_MISC_AMT\", \"FIRST_CANCER_AMT\", \\\n",
    "             \"ILL_ACCELERATION_AMT\", \"ILL_ADDITIONAL_AMT\", \"LONG_TERM_CARE_AMT\", \"MONTHLY_CARE_AMT\", \\\n",
    "              \"LIFE_INSD_CNT\", \"L1YR_GROSS_PRE_AMT\"]"
   ]
  },
  {
   "cell_type": "code",
   "execution_count": 16,
   "metadata": {},
   "outputs": [
    {
     "name": "stdout",
     "output_type": "stream",
     "text": [
      "類別變數名稱：\n",
      "['GENDER', 'AGE', 'CHARGE_CITY_CD', 'CONTACT_CITY_CD', 'EDUCATION_CD', 'MARRIAGE_CD', 'LAST_A_CCONTACT_DT', 'LAST_A_ISSUE_DT', 'LAST_B_ISSUE_DT', 'OCCUPATION_CLASS_CD', 'APC_1ST_AGE', 'INSD_1ST_AGE', 'IF_2ND_GEN_IND', 'RFM_R', 'REBUY_TIMES_CNT', 'LEVEL', 'RFM_M_LEVEL', 'LIFE_CNT', 'IF_ISSUE_A_IND', 'IF_ISSUE_B_IND', 'IF_ISSUE_C_IND', 'IF_ISSUE_D_IND', 'IF_ISSUE_E_IND', 'IF_ISSUE_F_IND', 'IF_ISSUE_G_IND', 'IF_ISSUE_H_IND', 'IF_ISSUE_I_IND', 'IF_ISSUE_J_IND', 'IF_ISSUE_K_IND', 'IF_ISSUE_L_IND', 'IF_ISSUE_M_IND', 'IF_ISSUE_N_IND', 'IF_ISSUE_O_IND', 'IF_ISSUE_P_IND', 'IF_ISSUE_Q_IND', 'IF_ADD_F_IND', 'IF_ADD_L_IND', 'IF_ADD_Q_IND', 'IF_ADD_G_IND', 'IF_ADD_R_IND', 'IF_ADD_IND', 'L1YR_PAYMENT_REMINDER_IND', 'L1YR_LAPSE_IND', 'LAST_B_CONTACT_DT', 'LAST_C_DT', 'IF_S_REAL_IND', 'IF_Y_REAL_IND', 'IM_IS_A_IND', 'IM_IS_B_IND', 'IM_IS_C_IND', 'IM_IS_D_IND', 'X_A_IND', 'X_B_IND', 'X_C_IND', 'X_D_IND', 'X_E_IND', 'X_F_IND', 'X_G_IND', 'X_H_IND', 'IF_HOUSEHOLD_CLAIM_IND', 'IF_ISSUE_INSD_A_IND', 'IF_ISSUE_INSD_B_IND', 'IF_ISSUE_INSD_C_IND', 'IF_ISSUE_INSD_D_IND', 'IF_ISSUE_INSD_E_IND', 'IF_ISSUE_INSD_F_IND', 'IF_ISSUE_INSD_G_IND', 'IF_ISSUE_INSD_H_IND', 'IF_ISSUE_INSD_I_IND', 'IF_ISSUE_INSD_J_IND', 'IF_ISSUE_INSD_K_IND', 'IF_ISSUE_INSD_L_IND', 'IF_ISSUE_INSD_M_IND', 'IF_ISSUE_INSD_N_IND', 'IF_ISSUE_INSD_O_IND', 'IF_ISSUE_INSD_P_IND', 'IF_ISSUE_INSD_Q_IND', 'IF_ADD_INSD_F_IND', 'IF_ADD_INSD_L_IND', 'IF_ADD_INSD_Q_IND', 'IF_ADD_INSD_G_IND', 'IF_ADD_INSD_R_IND', 'IF_ADD_INSD_IND', 'CUST_9_SEGMENTS_CD', 'FINANCETOOLS_A', 'FINANCETOOLS_B', 'FINANCETOOLS_C', 'FINANCETOOLS_D', 'FINANCETOOLS_E', 'FINANCETOOLS_F', 'FINANCETOOLS_G']\n"
     ]
    }
   ],
   "source": [
    "names = df.columns\n",
    "categorical_vars = []\n",
    "for index in range(names.shape[0]-1):\n",
    "    categorical_vars.append(names[index])\n",
    "for i in range(len(conti_vars)):\n",
    "    categorical_vars.remove(conti_vars[i])\n",
    "print(\"類別變數名稱：\")\n",
    "print(categorical_vars)"
   ]
  },
  {
   "cell_type": "code",
   "execution_count": 17,
   "metadata": {},
   "outputs": [
    {
     "name": "stdout",
     "output_type": "stream",
     "text": [
      "二元類別變數名稱：\n",
      "['GENDER', 'LAST_A_CCONTACT_DT', 'LAST_A_ISSUE_DT', 'LAST_B_ISSUE_DT', 'IF_2ND_GEN_IND', 'IF_ISSUE_A_IND', 'IF_ISSUE_B_IND', 'IF_ISSUE_C_IND', 'IF_ISSUE_D_IND', 'IF_ISSUE_E_IND', 'IF_ISSUE_F_IND', 'IF_ISSUE_G_IND', 'IF_ISSUE_H_IND', 'IF_ISSUE_I_IND', 'IF_ISSUE_J_IND', 'IF_ISSUE_K_IND', 'IF_ISSUE_L_IND', 'IF_ISSUE_M_IND', 'IF_ISSUE_N_IND', 'IF_ISSUE_O_IND', 'IF_ISSUE_P_IND', 'IF_ISSUE_Q_IND', 'IF_ADD_F_IND', 'IF_ADD_L_IND', 'IF_ADD_Q_IND', 'IF_ADD_G_IND', 'IF_ADD_R_IND', 'IF_ADD_IND', 'L1YR_PAYMENT_REMINDER_IND', 'L1YR_LAPSE_IND', 'LAST_B_CONTACT_DT', 'LAST_C_DT', 'IF_S_REAL_IND', 'IF_Y_REAL_IND', 'IM_IS_A_IND', 'IM_IS_B_IND', 'IM_IS_C_IND', 'IM_IS_D_IND', 'X_A_IND', 'X_B_IND', 'X_C_IND', 'X_D_IND', 'X_E_IND', 'X_F_IND', 'X_G_IND', 'X_H_IND', 'IF_HOUSEHOLD_CLAIM_IND', 'IF_ISSUE_INSD_A_IND', 'IF_ISSUE_INSD_B_IND', 'IF_ISSUE_INSD_C_IND', 'IF_ISSUE_INSD_D_IND', 'IF_ISSUE_INSD_E_IND', 'IF_ISSUE_INSD_F_IND', 'IF_ISSUE_INSD_G_IND', 'IF_ISSUE_INSD_H_IND', 'IF_ISSUE_INSD_I_IND', 'IF_ISSUE_INSD_J_IND', 'IF_ISSUE_INSD_K_IND', 'IF_ISSUE_INSD_L_IND', 'IF_ISSUE_INSD_M_IND', 'IF_ISSUE_INSD_N_IND', 'IF_ISSUE_INSD_O_IND', 'IF_ISSUE_INSD_P_IND', 'IF_ISSUE_INSD_Q_IND', 'IF_ADD_INSD_F_IND', 'IF_ADD_INSD_L_IND', 'IF_ADD_INSD_Q_IND', 'IF_ADD_INSD_G_IND', 'IF_ADD_INSD_R_IND', 'IF_ADD_INSD_IND', 'FINANCETOOLS_A', 'FINANCETOOLS_B', 'FINANCETOOLS_C', 'FINANCETOOLS_D', 'FINANCETOOLS_E', 'FINANCETOOLS_F', 'FINANCETOOLS_G']\n"
     ]
    }
   ],
   "source": [
    "binary_vars = []\n",
    "for i in categorical_vars:\n",
    "    if df[i].unique().shape[0] == 2 or df[i].unique().shape[0] == 3:\n",
    "        if 'Y' in df[i].values or 'M' in df[i].values:\n",
    "            binary_vars.append(i)\n",
    "print(\"二元類別變數名稱：\")\n",
    "print(binary_vars)"
   ]
  },
  {
   "cell_type": "code",
   "execution_count": 18,
   "metadata": {},
   "outputs": [
    {
     "name": "stdout",
     "output_type": "stream",
     "text": [
      "多元類別變數名稱：\n",
      "['AGE', 'CHARGE_CITY_CD', 'CONTACT_CITY_CD', 'EDUCATION_CD', 'MARRIAGE_CD', 'OCCUPATION_CLASS_CD', 'APC_1ST_AGE', 'INSD_1ST_AGE', 'RFM_R', 'REBUY_TIMES_CNT', 'LEVEL', 'RFM_M_LEVEL', 'LIFE_CNT', 'CUST_9_SEGMENTS_CD']\n"
     ]
    }
   ],
   "source": [
    "multi_vars = []\n",
    "for index in range(len(categorical_vars)):\n",
    "    multi_vars.append(categorical_vars[index])\n",
    "for i in range(len(binary_vars)):\n",
    "    multi_vars.remove(binary_vars[i])\n",
    "    \n",
    "print(\"多元類別變數名稱：\")\n",
    "print((multi_vars))"
   ]
  },
  {
   "cell_type": "markdown",
   "metadata": {},
   "source": [
    "### 4. 將文字以數字表示"
   ]
  },
  {
   "cell_type": "code",
   "execution_count": 19,
   "metadata": {},
   "outputs": [
    {
     "data": {
      "text/html": [
       "<div>\n",
       "<style scoped>\n",
       "    .dataframe tbody tr th:only-of-type {\n",
       "        vertical-align: middle;\n",
       "    }\n",
       "\n",
       "    .dataframe tbody tr th {\n",
       "        vertical-align: top;\n",
       "    }\n",
       "\n",
       "    .dataframe thead th {\n",
       "        text-align: right;\n",
       "    }\n",
       "</style>\n",
       "<table border=\"1\" class=\"dataframe\">\n",
       "  <thead>\n",
       "    <tr style=\"text-align: right;\">\n",
       "      <th></th>\n",
       "      <th>GENDER</th>\n",
       "      <th>AGE</th>\n",
       "      <th>CHARGE_CITY_CD</th>\n",
       "      <th>CONTACT_CITY_CD</th>\n",
       "      <th>EDUCATION_CD</th>\n",
       "      <th>MARRIAGE_CD</th>\n",
       "      <th>LAST_A_CCONTACT_DT</th>\n",
       "      <th>L1YR_A_ISSUE_CNT</th>\n",
       "      <th>LAST_A_ISSUE_DT</th>\n",
       "      <th>L1YR_B_ISSUE_CNT</th>\n",
       "      <th>...</th>\n",
       "      <th>L1YR_GROSS_PRE_AMT</th>\n",
       "      <th>CUST_9_SEGMENTS_CD</th>\n",
       "      <th>FINANCETOOLS_A</th>\n",
       "      <th>FINANCETOOLS_B</th>\n",
       "      <th>FINANCETOOLS_C</th>\n",
       "      <th>FINANCETOOLS_D</th>\n",
       "      <th>FINANCETOOLS_E</th>\n",
       "      <th>FINANCETOOLS_F</th>\n",
       "      <th>FINANCETOOLS_G</th>\n",
       "      <th>Y1</th>\n",
       "    </tr>\n",
       "    <tr>\n",
       "      <th>CUS_ID</th>\n",
       "      <th></th>\n",
       "      <th></th>\n",
       "      <th></th>\n",
       "      <th></th>\n",
       "      <th></th>\n",
       "      <th></th>\n",
       "      <th></th>\n",
       "      <th></th>\n",
       "      <th></th>\n",
       "      <th></th>\n",
       "      <th></th>\n",
       "      <th></th>\n",
       "      <th></th>\n",
       "      <th></th>\n",
       "      <th></th>\n",
       "      <th></th>\n",
       "      <th></th>\n",
       "      <th></th>\n",
       "      <th></th>\n",
       "      <th></th>\n",
       "      <th></th>\n",
       "    </tr>\n",
       "  </thead>\n",
       "  <tbody>\n",
       "    <tr>\n",
       "      <td>3418</td>\n",
       "      <td>1.0</td>\n",
       "      <td>0</td>\n",
       "      <td>0</td>\n",
       "      <td>0</td>\n",
       "      <td>NaN</td>\n",
       "      <td>NaN</td>\n",
       "      <td>1</td>\n",
       "      <td>0</td>\n",
       "      <td>0</td>\n",
       "      <td>0</td>\n",
       "      <td>...</td>\n",
       "      <td>0.000174</td>\n",
       "      <td>2</td>\n",
       "      <td>NaN</td>\n",
       "      <td>NaN</td>\n",
       "      <td>NaN</td>\n",
       "      <td>NaN</td>\n",
       "      <td>NaN</td>\n",
       "      <td>NaN</td>\n",
       "      <td>NaN</td>\n",
       "      <td>0</td>\n",
       "    </tr>\n",
       "    <tr>\n",
       "      <td>4302</td>\n",
       "      <td>1.0</td>\n",
       "      <td>0</td>\n",
       "      <td>0</td>\n",
       "      <td>0</td>\n",
       "      <td>NaN</td>\n",
       "      <td>NaN</td>\n",
       "      <td>1</td>\n",
       "      <td>0</td>\n",
       "      <td>0</td>\n",
       "      <td>0</td>\n",
       "      <td>...</td>\n",
       "      <td>0.008724</td>\n",
       "      <td>0</td>\n",
       "      <td>NaN</td>\n",
       "      <td>NaN</td>\n",
       "      <td>NaN</td>\n",
       "      <td>NaN</td>\n",
       "      <td>NaN</td>\n",
       "      <td>NaN</td>\n",
       "      <td>NaN</td>\n",
       "      <td>0</td>\n",
       "    </tr>\n",
       "    <tr>\n",
       "      <td>5545</td>\n",
       "      <td>1.0</td>\n",
       "      <td>0</td>\n",
       "      <td>0</td>\n",
       "      <td>0</td>\n",
       "      <td>1.0</td>\n",
       "      <td>0.0</td>\n",
       "      <td>1</td>\n",
       "      <td>1</td>\n",
       "      <td>1</td>\n",
       "      <td>0</td>\n",
       "      <td>...</td>\n",
       "      <td>0.005359</td>\n",
       "      <td>0</td>\n",
       "      <td>1.0</td>\n",
       "      <td>0.0</td>\n",
       "      <td>0.0</td>\n",
       "      <td>0.0</td>\n",
       "      <td>0.0</td>\n",
       "      <td>0.0</td>\n",
       "      <td>0.0</td>\n",
       "      <td>0</td>\n",
       "    </tr>\n",
       "    <tr>\n",
       "      <td>7207</td>\n",
       "      <td>1.0</td>\n",
       "      <td>0</td>\n",
       "      <td>0</td>\n",
       "      <td>0</td>\n",
       "      <td>NaN</td>\n",
       "      <td>0.0</td>\n",
       "      <td>1</td>\n",
       "      <td>0</td>\n",
       "      <td>0</td>\n",
       "      <td>0</td>\n",
       "      <td>...</td>\n",
       "      <td>0.000000</td>\n",
       "      <td>2</td>\n",
       "      <td>NaN</td>\n",
       "      <td>NaN</td>\n",
       "      <td>NaN</td>\n",
       "      <td>NaN</td>\n",
       "      <td>NaN</td>\n",
       "      <td>NaN</td>\n",
       "      <td>NaN</td>\n",
       "      <td>0</td>\n",
       "    </tr>\n",
       "    <tr>\n",
       "      <td>7213</td>\n",
       "      <td>1.0</td>\n",
       "      <td>0</td>\n",
       "      <td>0</td>\n",
       "      <td>0</td>\n",
       "      <td>1.0</td>\n",
       "      <td>0.0</td>\n",
       "      <td>0</td>\n",
       "      <td>0</td>\n",
       "      <td>0</td>\n",
       "      <td>0</td>\n",
       "      <td>...</td>\n",
       "      <td>0.000603</td>\n",
       "      <td>2</td>\n",
       "      <td>NaN</td>\n",
       "      <td>NaN</td>\n",
       "      <td>NaN</td>\n",
       "      <td>NaN</td>\n",
       "      <td>NaN</td>\n",
       "      <td>NaN</td>\n",
       "      <td>NaN</td>\n",
       "      <td>0</td>\n",
       "    </tr>\n",
       "  </tbody>\n",
       "</table>\n",
       "<p>5 rows × 127 columns</p>\n",
       "</div>"
      ],
      "text/plain": [
       "        GENDER  AGE  CHARGE_CITY_CD  CONTACT_CITY_CD  EDUCATION_CD  \\\n",
       "CUS_ID                                                               \n",
       "3418       1.0    0               0                0           NaN   \n",
       "4302       1.0    0               0                0           NaN   \n",
       "5545       1.0    0               0                0           1.0   \n",
       "7207       1.0    0               0                0           NaN   \n",
       "7213       1.0    0               0                0           1.0   \n",
       "\n",
       "        MARRIAGE_CD  LAST_A_CCONTACT_DT  L1YR_A_ISSUE_CNT  LAST_A_ISSUE_DT  \\\n",
       "CUS_ID                                                                       \n",
       "3418            NaN                   1                 0                0   \n",
       "4302            NaN                   1                 0                0   \n",
       "5545            0.0                   1                 1                1   \n",
       "7207            0.0                   1                 0                0   \n",
       "7213            0.0                   0                 0                0   \n",
       "\n",
       "        L1YR_B_ISSUE_CNT  ...  L1YR_GROSS_PRE_AMT  CUST_9_SEGMENTS_CD  \\\n",
       "CUS_ID                    ...                                           \n",
       "3418                   0  ...            0.000174                   2   \n",
       "4302                   0  ...            0.008724                   0   \n",
       "5545                   0  ...            0.005359                   0   \n",
       "7207                   0  ...            0.000000                   2   \n",
       "7213                   0  ...            0.000603                   2   \n",
       "\n",
       "        FINANCETOOLS_A  FINANCETOOLS_B  FINANCETOOLS_C  FINANCETOOLS_D  \\\n",
       "CUS_ID                                                                   \n",
       "3418               NaN             NaN             NaN             NaN   \n",
       "4302               NaN             NaN             NaN             NaN   \n",
       "5545               1.0             0.0             0.0             0.0   \n",
       "7207               NaN             NaN             NaN             NaN   \n",
       "7213               NaN             NaN             NaN             NaN   \n",
       "\n",
       "        FINANCETOOLS_E  FINANCETOOLS_F  FINANCETOOLS_G  Y1  \n",
       "CUS_ID                                                      \n",
       "3418               NaN             NaN             NaN   0  \n",
       "4302               NaN             NaN             NaN   0  \n",
       "5545               0.0             0.0             0.0   0  \n",
       "7207               NaN             NaN             NaN   0  \n",
       "7213               NaN             NaN             NaN   0  \n",
       "\n",
       "[5 rows x 127 columns]"
      ]
     },
     "execution_count": 19,
     "metadata": {},
     "output_type": "execute_result"
    }
   ],
   "source": [
    "df = df.replace([\"Y\", \"N\"], [1, 0]) \n",
    "df = df.replace([\"M\", \"F\"], [1, 0])\n",
    "df = df.replace(['low', 'medium high', 'medium', 'high'], [0, 1, 2, 3])\n",
    "df = df.replace(['A1', 'A2', 'B1', 'B2', 'D', 'C1', 'C2', 'E'], [0, 1, 2, 3, 4, 5, 6, 7])\n",
    "df = df.replace(['A', 'B', 'C', 'D', 'E', 'F', 'G', 'H'], [0, 1, 2, 3, 4, 5, 6, 7])\n",
    "df.head()"
   ]
  },
  {
   "cell_type": "markdown",
   "metadata": {},
   "source": [
    "### 5. 查看遺失值個數：遺失值過多，進行補值"
   ]
  },
  {
   "cell_type": "code",
   "execution_count": null,
   "metadata": {},
   "outputs": [],
   "source": [
    "print('-'*10,'missing value summary','-'*10)\n",
    "pd.set_option('display.float_format', lambda x: '%.3f' % x)\n",
    "for i in df:\n",
    "    print(i)\n",
    "    print(df[i].isnull().sum() / len(df))"
   ]
  },
  {
   "cell_type": "markdown",
   "metadata": {},
   "source": [
    "## 三、用Generalized Low Rank Models (GLRM)做補值"
   ]
  },
  {
   "cell_type": "markdown",
   "metadata": {},
   "source": [
    "### 1. 使用H2O"
   ]
  },
  {
   "cell_type": "code",
   "execution_count": 20,
   "metadata": {},
   "outputs": [
    {
     "name": "stdout",
     "output_type": "stream",
     "text": [
      "Parse progress: |█████████████████████████████████████████████████████████| 100%\n",
      "Rows:100000\n",
      "Cols:127\n",
      "\n",
      "\n"
     ]
    },
    {
     "data": {
      "text/html": [
       "<table>\n",
       "<thead>\n",
       "<tr><th>       </th><th>GENDER             </th><th>AGE               </th><th>CHARGE_CITY_CD    </th><th>CONTACT_CITY_CD   </th><th>EDUCATION_CD      </th><th>MARRIAGE_CD        </th><th>LAST_A_CCONTACT_DT  </th><th>L1YR_A_ISSUE_CNT   </th><th>LAST_A_ISSUE_DT    </th><th>L1YR_B_ISSUE_CNT     </th><th>LAST_B_ISSUE_DT    </th><th>CHANNEL_A_POL_CNT  </th><th>CHANNEL_B_POL_CNT  </th><th>OCCUPATION_CLASS_CD  </th><th>APC_CNT           </th><th>INSD_CNT          </th><th>APC_1ST_AGE       </th><th>INSD_1ST_AGE      </th><th>IF_2ND_GEN_IND    </th><th>APC_1ST_YEARDIF    </th><th>RFM_R             </th><th>REBUY_TIMES_CNT   </th><th>LEVEL             </th><th>RFM_M_LEVEL      </th><th>LIFE_CNT          </th><th>IF_ISSUE_A_IND     </th><th>IF_ISSUE_B_IND     </th><th>IF_ISSUE_C_IND    </th><th>IF_ISSUE_D_IND     </th><th>IF_ISSUE_E_IND     </th><th>IF_ISSUE_F_IND    </th><th>IF_ISSUE_G_IND    </th><th>IF_ISSUE_H_IND      </th><th>IF_ISSUE_I_IND     </th><th>IF_ISSUE_J_IND    </th><th>IF_ISSUE_K_IND      </th><th>IF_ISSUE_L_IND     </th><th>IF_ISSUE_M_IND     </th><th>IF_ISSUE_N_IND    </th><th>IF_ISSUE_O_IND      </th><th>IF_ISSUE_P_IND     </th><th>IF_ISSUE_Q_IND     </th><th>IF_ADD_F_IND       </th><th>IF_ADD_L_IND       </th><th>IF_ADD_Q_IND       </th><th>IF_ADD_G_IND       </th><th>IF_ADD_R_IND      </th><th>IF_ADD_IND         </th><th>ANNUAL_PREMIUM_AMT   </th><th>AG_CNT            </th><th>AG_NOW_CNT        </th><th>CLC_CUR_NUM       </th><th>ANNUAL_INCOME_AMT    </th><th>L1YR_PAYMENT_REMINDER_IND  </th><th>L1YR_LAPSE_IND    </th><th>LAST_B_CONTACT_DT  </th><th>LAST_C_DT         </th><th>BANK_NUMBER_CNT     </th><th>INSD_LAST_YEARDIF_CNT  </th><th>BMI                </th><th>IF_S_REAL_IND      </th><th>IF_Y_REAL_IND     </th><th>IM_CNT             </th><th>IM_IS_A_IND        </th><th>IM_IS_B_IND       </th><th>IM_IS_C_IND        </th><th>IM_IS_D_IND       </th><th>TERMINATION_RATE  </th><th>X_A_IND             </th><th>X_B_IND           </th><th>X_C_IND            </th><th>X_D_IND            </th><th>X_E_IND            </th><th>X_F_IND              </th><th>X_G_IND              </th><th>X_H_IND            </th><th>TOOL_VISIT_1YEAR_CNT  </th><th>DIEBENEFIT_AMT       </th><th>DIEACCIDENT_AMT     </th><th>POLICY_VALUE_AMT     </th><th>ANNUITY_AMT          </th><th>EXPIRATION_AMT        </th><th>ACCIDENT_HOSPITAL_REC_AMT  </th><th>DISEASES_HOSPITAL_REC_AMT  </th><th>OUTPATIENT_SURGERY_AMT  </th><th>INPATIENT_SURGERY_AMT  </th><th>PAY_LIMIT_MED_MISC_AMT  </th><th>FIRST_CANCER_AMT    </th><th>ILL_ACCELERATION_AMT  </th><th>ILL_ADDITIONAL_AMT   </th><th>LONG_TERM_CARE_AMT  </th><th>MONTHLY_CARE_AMT   </th><th>IF_HOUSEHOLD_CLAIM_IND  </th><th>LIFE_INSD_CNT       </th><th>IF_ISSUE_INSD_A_IND  </th><th>IF_ISSUE_INSD_B_IND  </th><th>IF_ISSUE_INSD_C_IND  </th><th>IF_ISSUE_INSD_D_IND  </th><th>IF_ISSUE_INSD_E_IND  </th><th>IF_ISSUE_INSD_F_IND  </th><th>IF_ISSUE_INSD_G_IND  </th><th>IF_ISSUE_INSD_H_IND  </th><th>IF_ISSUE_INSD_I_IND  </th><th>IF_ISSUE_INSD_J_IND  </th><th>IF_ISSUE_INSD_K_IND  </th><th>IF_ISSUE_INSD_L_IND  </th><th>IF_ISSUE_INSD_M_IND  </th><th>IF_ISSUE_INSD_N_IND  </th><th>IF_ISSUE_INSD_O_IND  </th><th>IF_ISSUE_INSD_P_IND  </th><th>IF_ISSUE_INSD_Q_IND  </th><th>IF_ADD_INSD_F_IND  </th><th>IF_ADD_INSD_L_IND  </th><th>IF_ADD_INSD_Q_IND  </th><th>IF_ADD_INSD_G_IND  </th><th>IF_ADD_INSD_R_IND  </th><th>IF_ADD_INSD_IND    </th><th>L1YR_GROSS_PRE_AMT    </th><th>CUST_9_SEGMENTS_CD  </th><th>FINANCETOOLS_A    </th><th>FINANCETOOLS_B     </th><th>FINANCETOOLS_C     </th><th>FINANCETOOLS_D     </th><th>FINANCETOOLS_E      </th><th>FINANCETOOLS_F      </th><th>FINANCETOOLS_G     </th><th>Y1                 </th></tr>\n",
       "</thead>\n",
       "<tbody>\n",
       "<tr><td>type   </td><td>int                </td><td>int               </td><td>int               </td><td>int               </td><td>int               </td><td>int                </td><td>int                 </td><td>int                </td><td>int                </td><td>int                  </td><td>int                </td><td>int                </td><td>int                </td><td>int                  </td><td>int               </td><td>int               </td><td>int               </td><td>int               </td><td>int               </td><td>real               </td><td>int               </td><td>int               </td><td>int               </td><td>int              </td><td>int               </td><td>int                </td><td>int                </td><td>int               </td><td>int                </td><td>int                </td><td>int               </td><td>int               </td><td>int                 </td><td>int                </td><td>int               </td><td>int                 </td><td>int                </td><td>int                </td><td>int               </td><td>int                 </td><td>int                </td><td>int                </td><td>int                </td><td>int                </td><td>int                </td><td>int                </td><td>int               </td><td>int                </td><td>real                 </td><td>int               </td><td>int               </td><td>int               </td><td>real                 </td><td>int                        </td><td>int               </td><td>int                </td><td>int               </td><td>real                </td><td>real                   </td><td>real               </td><td>int                </td><td>int               </td><td>int                </td><td>int                </td><td>int               </td><td>int                </td><td>int               </td><td>real              </td><td>int                 </td><td>int               </td><td>int                </td><td>int                </td><td>int                </td><td>int                  </td><td>int                  </td><td>int                </td><td>int                   </td><td>real                 </td><td>real                </td><td>real                 </td><td>real                 </td><td>real                  </td><td>real                       </td><td>real                       </td><td>real                    </td><td>real                   </td><td>real                    </td><td>real                </td><td>real                  </td><td>real                 </td><td>real                </td><td>real               </td><td>int                     </td><td>real                </td><td>int                  </td><td>int                  </td><td>int                  </td><td>int                  </td><td>int                  </td><td>int                  </td><td>int                  </td><td>int                  </td><td>int                  </td><td>int                  </td><td>int                  </td><td>int                  </td><td>int                  </td><td>int                  </td><td>int                  </td><td>int                  </td><td>int                  </td><td>int                </td><td>int                </td><td>int                </td><td>int                </td><td>int                </td><td>int                </td><td>real                  </td><td>int                 </td><td>int               </td><td>int                </td><td>int                </td><td>int                </td><td>int                 </td><td>int                 </td><td>int                </td><td>int                </td></tr>\n",
       "<tr><td>mins   </td><td>0.0                </td><td>0.0               </td><td>0.0               </td><td>0.0               </td><td>1.0               </td><td>0.0                </td><td>0.0                 </td><td>0.0                </td><td>0.0                </td><td>0.0                  </td><td>0.0                </td><td>0.0                </td><td>0.0                </td><td>0.0                  </td><td>0.0               </td><td>0.0               </td><td>0.0               </td><td>0.0               </td><td>0.0               </td><td>0.0                </td><td>0.0               </td><td>0.0               </td><td>1.0               </td><td>3.0              </td><td>0.0               </td><td>0.0                </td><td>0.0                </td><td>0.0               </td><td>0.0                </td><td>0.0                </td><td>0.0               </td><td>0.0               </td><td>0.0                 </td><td>0.0                </td><td>0.0               </td><td>0.0                 </td><td>0.0                </td><td>0.0                </td><td>0.0               </td><td>0.0                 </td><td>0.0                </td><td>0.0                </td><td>0.0                </td><td>0.0                </td><td>0.0                </td><td>0.0                </td><td>0.0               </td><td>0.0                </td><td>0.0                  </td><td>0.0               </td><td>0.0               </td><td>0.0               </td><td>0.0                  </td><td>0.0                        </td><td>0.0               </td><td>0.0                </td><td>0.0               </td><td>0.0                 </td><td>0.0                    </td><td>0.0                </td><td>0.0                </td><td>0.0               </td><td>0.0                </td><td>0.0                </td><td>0.0               </td><td>0.0                </td><td>0.0               </td><td>0.0               </td><td>0.0                 </td><td>0.0               </td><td>0.0                </td><td>0.0                </td><td>0.0                </td><td>0.0                  </td><td>0.0                  </td><td>0.0                </td><td>0.0                   </td><td>0.0                  </td><td>0.0                 </td><td>0.0                  </td><td>0.0                  </td><td>0.0                   </td><td>0.0                        </td><td>0.0                        </td><td>0.0                     </td><td>0.0                    </td><td>0.0                     </td><td>0.0                 </td><td>0.0                   </td><td>0.0                  </td><td>0.0                 </td><td>0.0                </td><td>0.0                     </td><td>0.0                 </td><td>0.0                  </td><td>0.0                  </td><td>0.0                  </td><td>0.0                  </td><td>0.0                  </td><td>0.0                  </td><td>0.0                  </td><td>0.0                  </td><td>0.0                  </td><td>0.0                  </td><td>0.0                  </td><td>0.0                  </td><td>0.0                  </td><td>0.0                  </td><td>0.0                  </td><td>0.0                  </td><td>0.0                  </td><td>0.0                </td><td>0.0                </td><td>0.0                </td><td>0.0                </td><td>0.0                </td><td>0.0                </td><td>0.0                   </td><td>0.0                 </td><td>0.0               </td><td>0.0                </td><td>0.0                </td><td>0.0                </td><td>0.0                 </td><td>0.0                 </td><td>0.0                </td><td>0.0                </td></tr>\n",
       "<tr><td>mean   </td><td>0.46691905716040555</td><td>1.4773899999999989</td><td>2.205690000000001 </td><td>2.3616400000000013</td><td>2.16907525365694  </td><td>0.3152885962911059 </td><td>0.35405             </td><td>0.11817000000000004</td><td>0.11369            </td><td>0.0033300000000000005</td><td>0.00547            </td><td>1.6277299999999986 </td><td>0.03108            </td><td>1.3049666805497704   </td><td>0.6810699999999994</td><td>0.2836199999999997</td><td>1.38934729715434  </td><td>1.5056246180969457</td><td>0.54315           </td><td>0.25876859845935973</td><td>1.34160406306211  </td><td>1.0938855389823352</td><td>3.5579151600670276</td><td>5.644909905144756</td><td>1.06569           </td><td>0.01877            </td><td>0.00979            </td><td>0.03589           </td><td>0.0718             </td><td>0.00138            </td><td>0.02899           </td><td>0.02675           </td><td>0.00034             </td><td>0.05627            </td><td>0.1097            </td><td>0.00255             </td><td>0.00534            </td><td>0.001              </td><td>0.15122           </td><td>0.011649999999999997</td><td>0.15022            </td><td>0.18408            </td><td>0.1138             </td><td>0.18463            </td><td>0.18946            </td><td>0.00596            </td><td>0.14625           </td><td>0.24758            </td><td>0.001234560769564638 </td><td>0.9734            </td><td>0.4566699999999996</td><td>0.55733           </td><td>0.0006068425456175263</td><td>0.03528                    </td><td>0.08977           </td><td>0.19188            </td><td>0.17701           </td><td>0.056027499999999945</td><td>0.1724875816240972     </td><td>0.26424089736668477</td><td>0.31373            </td><td>0.17888           </td><td>0.38377999999999973</td><td>0.00634            </td><td>0.12481           </td><td>0.07316            </td><td>0.17947           </td><td>12.090984696216356</td><td>0.012564774614353454</td><td>0.3228026650127048</td><td>0.32856485464476504</td><td>0.08393189411976551</td><td>0.20137652307876994</td><td>0.0023008743322462536</td><td>0.0020207678917988836</td><td>0.23226826193953704</td><td>1.4091100000000005    </td><td>0.0030794101111371805</td><td>0.00440239658819487 </td><td>0.0008680706582031465</td><td>0.0023592098934446582</td><td>0.00032089133588186563</td><td>0.15162327515318813        </td><td>0.1366611101297957         </td><td>0.08992208609271322     </td><td>0.05882138620731433    </td><td>0.0944731576041954      </td><td>0.014284435642589029</td><td>0.0042836381236268295 </td><td>0.0022286882010764558</td><td>0.00239351356498758 </td><td>0.01891170087079769</td><td>0.51454                 </td><td>0.03147312499999999 </td><td>0.029655767859153873 </td><td>0.02462554900709486  </td><td>0.082835942290126    </td><td>0.15220791571255177  </td><td>0.0020020771550483627</td><td>0.055682770874782586 </td><td>0.04803733873894165  </td><td>0.000425441395447777 </td><td>0.11399326801556615  </td><td>0.2564535705794762   </td><td>0.006656906540535806 </td><td>0.009647509290889297 </td><td>0.002064642066143624 </td><td>0.3034773577586746   </td><td>0.01883203823967366  </td><td>0.3447201471526709   </td><td>0.4407948246305542   </td><td>0.5024921083236418 </td><td>0.7566040870576508 </td><td>0.7714113640139558 </td><td>0.01524339591294235</td><td>0.3590297391593288 </td><td>0.48058179486922636</td><td>0.0005254029457600003 </td><td>3.7922700000000047  </td><td>0.7081559998929308</td><td>0.09456891244412324</td><td>0.33518027784469606</td><td>0.08166706817634305</td><td>0.006557991380925614</td><td>0.032067239487138306</td><td>0.08720790171043122</td><td>0.02               </td></tr>\n",
       "<tr><td>maxs   </td><td>1.0                </td><td>3.0               </td><td>7.0               </td><td>7.0               </td><td>4.0               </td><td>2.0                </td><td>1.0                 </td><td>22.0               </td><td>1.0                </td><td>4.0                  </td><td>1.0                </td><td>97.0               </td><td>17.0               </td><td>6.0                  </td><td>4.0               </td><td>19.0              </td><td>3.0               </td><td>3.0               </td><td>1.0               </td><td>0.9302326          </td><td>3.0               </td><td>3.0               </td><td>5.0               </td><td>10.0             </td><td>3.0               </td><td>1.0                </td><td>1.0                </td><td>1.0               </td><td>1.0                </td><td>1.0                </td><td>1.0               </td><td>1.0               </td><td>1.0                 </td><td>1.0                </td><td>1.0               </td><td>1.0                 </td><td>1.0                </td><td>1.0                </td><td>1.0               </td><td>1.0                 </td><td>1.0                </td><td>1.0                </td><td>1.0                </td><td>1.0                </td><td>1.0                </td><td>1.0                </td><td>1.0               </td><td>1.0                </td><td>0.3788604            </td><td>18.0              </td><td>10.0              </td><td>8.0               </td><td>0.25                 </td><td>1.0                        </td><td>1.0               </td><td>1.0                </td><td>1.0               </td><td>0.875               </td><td>1.0                    </td><td>0.925              </td><td>1.0                </td><td>1.0               </td><td>4.0                </td><td>1.0                </td><td>1.0               </td><td>1.0                </td><td>1.0               </td><td>100.0             </td><td>1.0                 </td><td>1.0               </td><td>1.0                </td><td>1.0                </td><td>1.0                </td><td>1.0                  </td><td>1.0                  </td><td>1.0                </td><td>176.0                 </td><td>0.3622524            </td><td>0.3622524           </td><td>0.3785324            </td><td>0.3773450999999999   </td><td>0.2875879000000001    </td><td>0.8079999999999999         </td><td>0.8602151                  </td><td>0.952381                </td><td>0.8242424              </td><td>1.0                     </td><td>0.7345911999999999  </td><td>0.666666667           </td><td>0.3                  </td><td>0.8095238           </td><td>0.8591065000000001 </td><td>1.0                     </td><td>0.921875            </td><td>1.0                  </td><td>1.0                  </td><td>1.0                  </td><td>1.0                  </td><td>1.0                  </td><td>1.0                  </td><td>1.0                  </td><td>1.0                  </td><td>1.0                  </td><td>1.0                  </td><td>1.0                  </td><td>1.0                  </td><td>1.0                  </td><td>1.0                  </td><td>1.0                  </td><td>1.0                  </td><td>1.0                  </td><td>1.0                </td><td>1.0                </td><td>1.0                </td><td>1.0                </td><td>1.0                </td><td>1.0                </td><td>0.3278146             </td><td>7.0                 </td><td>1.0               </td><td>1.0                </td><td>1.0                </td><td>1.0                </td><td>1.0                 </td><td>1.0                 </td><td>1.0                </td><td>1.0                </td></tr>\n",
       "<tr><td>sigma  </td><td>0.49890696268919343</td><td>1.1277417727099845</td><td>1.6538164877004187</td><td>2.12791489271021  </td><td>0.9294522279353136</td><td>0.48967807411625225</td><td>0.4782268128292736  </td><td>0.5617552908429686 </td><td>0.31743596449664546</td><td>0.0624415734066727   </td><td>0.07375726066859462</td><td>3.3657983203221398 </td><td>0.26232560253855797</td><td>0.7117691638841888   </td><td>0.6148474896056375</td><td>0.7472384353422893</td><td>1.1567171948737331</td><td>1.1200798155907696</td><td>0.4981370884662063</td><td>0.1829683153194408 </td><td>1.1295720969470187</td><td>1.1966496145475538</td><td>1.6907713914210174</td><td>2.451038567831574</td><td>1.2328138635658754</td><td>0.13571245808219962</td><td>0.09845939692344467</td><td>0.1860168108600382</td><td>0.25815775497603116</td><td>0.03712289564532663</td><td>0.1677792043091574</td><td>0.1613527125491805</td><td>0.018436046183441523</td><td>0.23044352484324965</td><td>0.3125170182067957</td><td>0.050433351417780596</td><td>0.07288029579643014</td><td>0.03160711929454978</td><td>0.3582649789442883</td><td>0.10730513801270859 </td><td>0.35728871819899594</td><td>0.38755135861012746</td><td>0.31756978525307644</td><td>0.38799905738633605</td><td>0.39187554665281255</td><td>0.07697101821709554</td><td>0.3533584385887243</td><td>0.43160862648939785</td><td>0.004181061097138359 </td><td>1.1985853353299714</td><td>0.7159522588667278</td><td>0.7401883205559914</td><td>0.001458002213670881 </td><td>0.1844875658591103         </td><td>0.2858533963794067</td><td>0.39378117811312713</td><td>0.3816790755191682</td><td>0.08406316024216015 </td><td>0.14115321917640625    </td><td>0.09136697339991684</td><td>0.46401038798328814</td><td>0.3832537207048933</td><td>0.6920243496994928 </td><td>0.07937170401770385</td><td>0.3305050018313828</td><td>0.26040025438337194</td><td>0.3837473019057166</td><td>27.663858170983517</td><td>0.11138682673754682 </td><td>0.4675503088837842</td><td>0.46969372776060514</td><td>0.2772870361962929 </td><td>0.4010307069279412 </td><td>0.047912454271439864 </td><td>0.044907733895604054 </td><td>0.42228130473418574</td><td>3.857406875580802     </td><td>0.005977097832499511 </td><td>0.007035128491572055</td><td>0.005358390458045498 </td><td>0.009075469747189318 </td><td>0.0037953517961154975 </td><td>0.15142394131128684        </td><td>0.13959451095609254        </td><td>0.10175125156946978     </td><td>0.07827785176832966    </td><td>0.16693336165515632     </td><td>0.033439135604935694</td><td>0.014162709018077363  </td><td>0.009713614095726882 </td><td>0.02030456319222482 </td><td>0.04082143402575615</td><td>0.49979104264768803     </td><td>0.034269383859045016</td><td>0.16963685735628023  </td><td>0.154982037339552    </td><td>0.2756358097746076   </td><td>0.359224554854979    </td><td>0.044700043000273956 </td><td>0.22930952416080458  </td><td>0.2138464987989423   </td><td>0.020621971690630465 </td><td>0.3178050765402212   </td><td>0.4366778249305726   </td><td>0.08131835512434799  </td><td>0.09774740104647778  </td><td>0.04539168537402779  </td><td>0.459762434415199    </td><td>0.1359324235993422   </td><td>0.4752799110731502   </td><td>0.49648547978008123  </td><td>0.49999898126624975</td><td>0.4291365365741038 </td><td>0.4199280100536045 </td><td>0.12252080045104266</td><td>0.4797209239174474 </td><td>0.4996252934347343 </td><td>0.003117255595601321  </td><td>2.7885867404942077  </td><td>0.4546169947173971</td><td>0.29262249618344455</td><td>0.4720597674317849 </td><td>0.27386048581089634</td><td>0.08071653190798445 </td><td>0.1761810503141933  </td><td>0.28214325155243297</td><td>0.14000070000525006</td></tr>\n",
       "<tr><td>zeros  </td><td>52944              </td><td>27213             </td><td>16513             </td><td>27066             </td><td>0                 </td><td>64127              </td><td>64595               </td><td>93490              </td><td>88631              </td><td>99691                </td><td>99453              </td><td>55427              </td><td>97915              </td><td>871                  </td><td>39610             </td><td>83858             </td><td>16443             </td><td>25170             </td><td>45685             </td><td>1602               </td><td>17506             </td><td>27778             </td><td>0                 </td><td>0                </td><td>55451             </td><td>98123              </td><td>99021              </td><td>96411             </td><td>92820              </td><td>99862              </td><td>97101             </td><td>97325             </td><td>99966               </td><td>94373              </td><td>89030             </td><td>99745               </td><td>99466              </td><td>99900              </td><td>84878             </td><td>98835               </td><td>84978              </td><td>81592              </td><td>88620              </td><td>81537              </td><td>81054              </td><td>99404              </td><td>85375             </td><td>75242              </td><td>1372                 </td><td>43314             </td><td>64719             </td><td>56179             </td><td>10                   </td><td>96472                      </td><td>91023             </td><td>80812              </td><td>82299             </td><td>63881               </td><td>6261                   </td><td>63                 </td><td>68627              </td><td>82112             </td><td>71780              </td><td>99366              </td><td>87519             </td><td>92684              </td><td>82053             </td><td>44093             </td><td>98706               </td><td>67694             </td><td>67118              </td><td>91572              </td><td>79832              </td><td>99732                </td><td>99760                </td><td>76744              </td><td>68792                 </td><td>13734                </td><td>13399               </td><td>61862                </td><td>54152                </td><td>71299                 </td><td>26596                      </td><td>28601                      </td><td>32697                   </td><td>31509                  </td><td>52955                   </td><td>43869               </td><td>62890                 </td><td>65383                </td><td>70778               </td><td>52365              </td><td>48546                   </td><td>20083               </td><td>77547                </td><td>77949                </td><td>73297                </td><td>67753                </td><td>79757                </td><td>75467                </td><td>76078                </td><td>79883                </td><td>70807                </td><td>59422                </td><td>79385                </td><td>79146                </td><td>79752                </td><td>55664                </td><td>78412                </td><td>52368                </td><td>44690                </td><td>23956              </td><td>11720              </td><td>11007              </td><td>47418              </td><td>30864              </td><td>51853              </td><td>60988                 </td><td>18966               </td><td>10903             </td><td>33826              </td><td>24837              </td><td>34308              </td><td>37114               </td><td>36161               </td><td>34101              </td><td>98000              </td></tr>\n",
       "<tr><td>missing</td><td>683                </td><td>0                 </td><td>0                 </td><td>0                 </td><td>20562             </td><td>7951               </td><td>0                   </td><td>0                  </td><td>0                  </td><td>0                    </td><td>0                  </td><td>0                  </td><td>0                  </td><td>3960                 </td><td>0                 </td><td>0                 </td><td>43282             </td><td>171               </td><td>0                 </td><td>43282              </td><td>43294             </td><td>43282             </td><td>43305             </td><td>43282            </td><td>0                 </td><td>0                  </td><td>0                  </td><td>0                 </td><td>0                  </td><td>0                  </td><td>0                 </td><td>0                 </td><td>0                   </td><td>0                  </td><td>0                 </td><td>0                   </td><td>0                  </td><td>0                  </td><td>0                 </td><td>0                   </td><td>0                  </td><td>0                  </td><td>0                  </td><td>0                  </td><td>0                  </td><td>0                  </td><td>0                 </td><td>0                  </td><td>62445                </td><td>0                 </td><td>0                 </td><td>0                 </td><td>39201                </td><td>0                          </td><td>0                 </td><td>0                  </td><td>0                 </td><td>0                   </td><td>171                    </td><td>16645              </td><td>0                  </td><td>0                 </td><td>0                  </td><td>0                  </td><td>0                 </td><td>0                  </td><td>0                 </td><td>43282             </td><td>38                  </td><td>38                </td><td>38                 </td><td>38                 </td><td>38                 </td><td>38                   </td><td>38                   </td><td>38                 </td><td>0                     </td><td>27540                </td><td>27540               </td><td>27540                </td><td>27540                </td><td>27540                 </td><td>27540                      </td><td>27540                      </td><td>27540                   </td><td>27540                  </td><td>27540                   </td><td>27540               </td><td>27540                 </td><td>27540                </td><td>27540               </td><td>27540              </td><td>0                       </td><td>0                   </td><td>20083                </td><td>20083                </td><td>20083                </td><td>20083                </td><td>20083                </td><td>20083                </td><td>20083                </td><td>20083                </td><td>20083                </td><td>20083                </td><td>20083                </td><td>20083                </td><td>20083                </td><td>20083                </td><td>20083                </td><td>20083                </td><td>20083                </td><td>51848              </td><td>51848              </td><td>51848              </td><td>51848              </td><td>51848              </td><td>171                </td><td>0                     </td><td>0                   </td><td>62641             </td><td>62641              </td><td>62641              </td><td>62641              </td><td>62641               </td><td>62641               </td><td>62641              </td><td>0                  </td></tr>\n",
       "<tr><td>0      </td><td>1.0                </td><td>0.0               </td><td>0.0               </td><td>0.0               </td><td>nan               </td><td>nan                </td><td>1.0                 </td><td>0.0                </td><td>0.0                </td><td>0.0                  </td><td>0.0                </td><td>0.0                </td><td>0.0                </td><td>1.0                  </td><td>0.0               </td><td>0.0               </td><td>0.0               </td><td>0.0               </td><td>0.0               </td><td>0.046511628        </td><td>0.0               </td><td>0.0               </td><td>3.0               </td><td>3.0              </td><td>2.0               </td><td>0.0                </td><td>0.0                </td><td>0.0               </td><td>0.0                </td><td>0.0                </td><td>0.0               </td><td>0.0               </td><td>0.0                 </td><td>0.0                </td><td>0.0               </td><td>0.0                 </td><td>0.0                </td><td>0.0                </td><td>1.0               </td><td>0.0                 </td><td>0.0                </td><td>0.0                </td><td>0.0                </td><td>0.0                </td><td>0.0                </td><td>0.0                </td><td>0.0               </td><td>0.0                </td><td>0.000191961          </td><td>1.0               </td><td>0.0               </td><td>0.0               </td><td>0.0016666570000000002</td><td>0.0                        </td><td>0.0               </td><td>0.0                </td><td>0.0               </td><td>0.125               </td><td>0.052631579000000005   </td><td>0.125              </td><td>0.0                </td><td>0.0               </td><td>0.0                </td><td>0.0                </td><td>0.0               </td><td>0.0                </td><td>0.0               </td><td>0.0               </td><td>0.0                 </td><td>0.0               </td><td>0.0                </td><td>0.0                </td><td>0.0                </td><td>0.0                  </td><td>0.0                  </td><td>0.0                </td><td>0.0                   </td><td>nan                  </td><td>nan                 </td><td>nan                  </td><td>nan                  </td><td>nan                   </td><td>nan                        </td><td>nan                        </td><td>nan                     </td><td>nan                    </td><td>nan                     </td><td>nan                 </td><td>nan                   </td><td>nan                  </td><td>nan                 </td><td>nan                </td><td>0.0                     </td><td>0.015625            </td><td>0.0                  </td><td>0.0                  </td><td>0.0                  </td><td>0.0                  </td><td>0.0                  </td><td>0.0                  </td><td>0.0                  </td><td>0.0                  </td><td>0.0                  </td><td>0.0                  </td><td>0.0                  </td><td>0.0                  </td><td>0.0                  </td><td>1.0                  </td><td>0.0                  </td><td>0.0                  </td><td>0.0                  </td><td>nan                </td><td>nan                </td><td>nan                </td><td>nan                </td><td>nan                </td><td>0.0                </td><td>0.00017413599999999995</td><td>2.0                 </td><td>nan               </td><td>nan                </td><td>nan                </td><td>nan                </td><td>nan                 </td><td>nan                 </td><td>nan                </td><td>0.0                </td></tr>\n",
       "<tr><td>1      </td><td>1.0                </td><td>0.0               </td><td>0.0               </td><td>0.0               </td><td>nan               </td><td>nan                </td><td>1.0                 </td><td>0.0                </td><td>0.0                </td><td>0.0                  </td><td>0.0                </td><td>0.0                </td><td>0.0                </td><td>1.0                  </td><td>0.0               </td><td>0.0               </td><td>0.0               </td><td>2.0               </td><td>0.0               </td><td>0.046511628        </td><td>0.0               </td><td>0.0               </td><td>5.0               </td><td>3.0              </td><td>2.0               </td><td>0.0                </td><td>0.0                </td><td>0.0               </td><td>0.0                </td><td>0.0                </td><td>0.0               </td><td>0.0               </td><td>0.0                 </td><td>0.0                </td><td>0.0               </td><td>0.0                 </td><td>0.0                </td><td>0.0                </td><td>0.0               </td><td>0.0                 </td><td>1.0                </td><td>0.0                </td><td>0.0                </td><td>0.0                </td><td>0.0                </td><td>0.0                </td><td>0.0               </td><td>0.0                </td><td>0.009675454          </td><td>1.0               </td><td>0.0               </td><td>0.0               </td><td>0.000166657          </td><td>0.0                        </td><td>0.0               </td><td>0.0                </td><td>0.0               </td><td>0.125               </td><td>0.052631579000000005   </td><td>0.175              </td><td>0.0                </td><td>0.0               </td><td>0.0                </td><td>0.0                </td><td>0.0               </td><td>0.0                </td><td>0.0               </td><td>0.0               </td><td>0.0                 </td><td>0.0               </td><td>0.0                </td><td>0.0                </td><td>0.0                </td><td>0.0                  </td><td>0.0                  </td><td>0.0                </td><td>0.0                   </td><td>nan                  </td><td>nan                 </td><td>nan                  </td><td>nan                  </td><td>nan                   </td><td>nan                        </td><td>nan                        </td><td>nan                     </td><td>nan                    </td><td>nan                     </td><td>nan                 </td><td>nan                   </td><td>nan                  </td><td>nan                 </td><td>nan                </td><td>0.0                     </td><td>0.015625            </td><td>0.0                  </td><td>0.0                  </td><td>0.0                  </td><td>0.0                  </td><td>0.0                  </td><td>0.0                  </td><td>0.0                  </td><td>0.0                  </td><td>0.0                  </td><td>0.0                  </td><td>0.0                  </td><td>0.0                  </td><td>0.0                  </td><td>0.0                  </td><td>0.0                  </td><td>1.0                  </td><td>0.0                  </td><td>nan                </td><td>nan                </td><td>nan                </td><td>nan                </td><td>nan                </td><td>0.0                </td><td>0.00872448            </td><td>0.0                 </td><td>nan               </td><td>nan                </td><td>nan                </td><td>nan                </td><td>nan                 </td><td>nan                 </td><td>nan                </td><td>0.0                </td></tr>\n",
       "<tr><td>2      </td><td>1.0                </td><td>0.0               </td><td>0.0               </td><td>0.0               </td><td>1.0               </td><td>0.0                </td><td>1.0                 </td><td>1.0                </td><td>1.0                </td><td>0.0                  </td><td>0.0                </td><td>1.0                </td><td>0.0                </td><td>1.0                  </td><td>1.0               </td><td>0.0               </td><td>0.0               </td><td>2.0               </td><td>1.0               </td><td>0.0                </td><td>0.0               </td><td>0.0               </td><td>5.0               </td><td>3.0              </td><td>2.0               </td><td>0.0                </td><td>0.0                </td><td>0.0               </td><td>0.0                </td><td>0.0                </td><td>0.0               </td><td>0.0               </td><td>0.0                 </td><td>0.0                </td><td>0.0               </td><td>0.0                 </td><td>0.0                </td><td>0.0                </td><td>1.0               </td><td>0.0                 </td><td>0.0                </td><td>0.0                </td><td>0.0                </td><td>0.0                </td><td>0.0                </td><td>0.0                </td><td>0.0               </td><td>0.0                </td><td>0.000292155          </td><td>1.0               </td><td>0.0               </td><td>1.0               </td><td>0.00012499           </td><td>0.0                        </td><td>0.0               </td><td>0.0                </td><td>0.0               </td><td>0.0                 </td><td>0.0                    </td><td>0.225              </td><td>0.0                </td><td>0.0               </td><td>0.0                </td><td>0.0                </td><td>0.0               </td><td>0.0                </td><td>0.0               </td><td>0.0               </td><td>0.0                 </td><td>0.0               </td><td>0.0                </td><td>1.0                </td><td>0.0                </td><td>0.0                  </td><td>0.0                  </td><td>0.0                </td><td>0.0                   </td><td>0.0                  </td><td>0.0                 </td><td>0.0                  </td><td>0.0                  </td><td>0.0                   </td><td>0.0                        </td><td>0.0                        </td><td>0.0                     </td><td>0.0                    </td><td>0.0                     </td><td>0.0                 </td><td>0.0                   </td><td>0.0                  </td><td>0.0                 </td><td>0.0                </td><td>0.0                     </td><td>0.03125             </td><td>0.0                  </td><td>0.0                  </td><td>0.0                  </td><td>0.0                  </td><td>0.0                  </td><td>0.0                  </td><td>0.0                  </td><td>0.0                  </td><td>1.0                  </td><td>0.0                  </td><td>0.0                  </td><td>0.0                  </td><td>0.0                  </td><td>1.0                  </td><td>0.0                  </td><td>0.0                  </td><td>0.0                  </td><td>nan                </td><td>nan                </td><td>nan                </td><td>nan                </td><td>nan                </td><td>0.0                </td><td>0.005359099           </td><td>0.0                 </td><td>1.0               </td><td>0.0                </td><td>0.0                </td><td>0.0                </td><td>0.0                 </td><td>0.0                 </td><td>0.0                </td><td>0.0                </td></tr>\n",
       "<tr><td>3      </td><td>1.0                </td><td>0.0               </td><td>0.0               </td><td>0.0               </td><td>nan               </td><td>0.0                </td><td>1.0                 </td><td>0.0                </td><td>0.0                </td><td>0.0                  </td><td>0.0                </td><td>0.0                </td><td>0.0                </td><td>1.0                  </td><td>0.0               </td><td>0.0               </td><td>0.0               </td><td>2.0               </td><td>0.0               </td><td>0.162790698        </td><td>1.0               </td><td>0.0               </td><td>5.0               </td><td>3.0              </td><td>2.0               </td><td>0.0                </td><td>0.0                </td><td>0.0               </td><td>0.0                </td><td>0.0                </td><td>0.0               </td><td>0.0               </td><td>0.0                 </td><td>0.0                </td><td>0.0               </td><td>0.0                 </td><td>0.0                </td><td>0.0                </td><td>0.0               </td><td>0.0                 </td><td>1.0                </td><td>0.0                </td><td>0.0                </td><td>0.0                </td><td>0.0                </td><td>0.0                </td><td>0.0               </td><td>0.0                </td><td>nan                  </td><td>1.0               </td><td>0.0               </td><td>0.0               </td><td>0.004166657          </td><td>0.0                        </td><td>0.0               </td><td>0.0                </td><td>0.0               </td><td>0.125               </td><td>0.210526316            </td><td>0.15               </td><td>0.0                </td><td>0.0               </td><td>0.0                </td><td>0.0                </td><td>0.0               </td><td>0.0                </td><td>0.0               </td><td>0.0               </td><td>0.0                 </td><td>0.0               </td><td>0.0                </td><td>0.0                </td><td>0.0                </td><td>0.0                  </td><td>0.0                  </td><td>0.0                </td><td>0.0                   </td><td>nan                  </td><td>nan                 </td><td>nan                  </td><td>nan                  </td><td>nan                   </td><td>nan                        </td><td>nan                        </td><td>nan                     </td><td>nan                    </td><td>nan                     </td><td>nan                 </td><td>nan                   </td><td>nan                  </td><td>nan                 </td><td>nan                </td><td>0.0                     </td><td>0.015625            </td><td>0.0                  </td><td>0.0                  </td><td>0.0                  </td><td>0.0                  </td><td>0.0                  </td><td>0.0                  </td><td>0.0                  </td><td>0.0                  </td><td>0.0                  </td><td>0.0                  </td><td>0.0                  </td><td>0.0                  </td><td>0.0                  </td><td>0.0                  </td><td>0.0                  </td><td>1.0                  </td><td>0.0                  </td><td>nan                </td><td>nan                </td><td>nan                </td><td>nan                </td><td>nan                </td><td>0.0                </td><td>0.0                   </td><td>2.0                 </td><td>nan               </td><td>nan                </td><td>nan                </td><td>nan                </td><td>nan                 </td><td>nan                 </td><td>nan                </td><td>0.0                </td></tr>\n",
       "<tr><td>4      </td><td>1.0                </td><td>0.0               </td><td>0.0               </td><td>0.0               </td><td>1.0               </td><td>0.0                </td><td>0.0                 </td><td>0.0                </td><td>0.0                </td><td>0.0                  </td><td>0.0                </td><td>1.0                </td><td>0.0                </td><td>1.0                  </td><td>1.0               </td><td>0.0               </td><td>0.0               </td><td>0.0               </td><td>1.0               </td><td>0.11627907         </td><td>2.0               </td><td>0.0               </td><td>2.0               </td><td>3.0              </td><td>2.0               </td><td>0.0                </td><td>0.0                </td><td>0.0               </td><td>0.0                </td><td>0.0                </td><td>0.0               </td><td>0.0               </td><td>0.0                 </td><td>0.0                </td><td>0.0               </td><td>0.0                 </td><td>0.0                </td><td>0.0                </td><td>1.0               </td><td>0.0                 </td><td>0.0                </td><td>0.0                </td><td>0.0                </td><td>0.0                </td><td>0.0                </td><td>0.0                </td><td>0.0               </td><td>0.0                </td><td>0.0006639080000000001</td><td>1.0               </td><td>1.0               </td><td>1.0               </td><td>8.329999999999999e-05</td><td>0.0                        </td><td>0.0               </td><td>0.0                </td><td>0.0               </td><td>0.0                 </td><td>0.078947368            </td><td>0.175              </td><td>0.0                </td><td>0.0               </td><td>0.0                </td><td>0.0                </td><td>0.0               </td><td>0.0                </td><td>0.0               </td><td>0.0               </td><td>0.0                 </td><td>1.0               </td><td>0.0                </td><td>0.0                </td><td>1.0                </td><td>0.0                  </td><td>0.0                  </td><td>0.0                </td><td>0.0                   </td><td>0.0                  </td><td>0.0                 </td><td>0.0                  </td><td>0.0                  </td><td>0.0                   </td><td>0.0                        </td><td>0.0                        </td><td>0.0                     </td><td>0.0                    </td><td>0.0                     </td><td>0.047169811         </td><td>0.0                   </td><td>0.0                  </td><td>0.0                 </td><td>0.0                </td><td>1.0                     </td><td>0.0625              </td><td>0.0                  </td><td>0.0                  </td><td>0.0                  </td><td>0.0                  </td><td>0.0                  </td><td>1.0                  </td><td>0.0                  </td><td>0.0                  </td><td>1.0                  </td><td>0.0                  </td><td>0.0                  </td><td>0.0                  </td><td>0.0                  </td><td>1.0                  </td><td>0.0                  </td><td>1.0                  </td><td>0.0                  </td><td>nan                </td><td>nan                </td><td>nan                </td><td>nan                </td><td>nan                </td><td>0.0                </td><td>0.000602821           </td><td>2.0                 </td><td>nan               </td><td>nan                </td><td>nan                </td><td>nan                </td><td>nan                 </td><td>nan                 </td><td>nan                </td><td>0.0                </td></tr>\n",
       "<tr><td>5      </td><td>1.0                </td><td>0.0               </td><td>0.0               </td><td>0.0               </td><td>nan               </td><td>0.0                </td><td>1.0                 </td><td>0.0                </td><td>0.0                </td><td>0.0                  </td><td>0.0                </td><td>0.0                </td><td>0.0                </td><td>1.0                  </td><td>0.0               </td><td>0.0               </td><td>0.0               </td><td>0.0               </td><td>0.0               </td><td>0.186046512        </td><td>1.0               </td><td>0.0               </td><td>3.0               </td><td>3.0              </td><td>2.0               </td><td>0.0                </td><td>0.0                </td><td>0.0               </td><td>0.0                </td><td>0.0                </td><td>0.0               </td><td>0.0               </td><td>0.0                 </td><td>0.0                </td><td>0.0               </td><td>0.0                 </td><td>0.0                </td><td>0.0                </td><td>1.0               </td><td>0.0                 </td><td>0.0                </td><td>0.0                </td><td>0.0                </td><td>0.0                </td><td>0.0                </td><td>0.0                </td><td>0.0               </td><td>0.0                </td><td>0.000265484          </td><td>1.0               </td><td>0.0               </td><td>0.0               </td><td>nan                  </td><td>0.0                        </td><td>0.0               </td><td>0.0                </td><td>0.0               </td><td>0.125               </td><td>0.210526316            </td><td>0.225              </td><td>0.0                </td><td>0.0               </td><td>0.0                </td><td>0.0                </td><td>0.0               </td><td>0.0                </td><td>0.0               </td><td>0.0               </td><td>0.0                 </td><td>0.0               </td><td>0.0                </td><td>0.0                </td><td>0.0                </td><td>0.0                  </td><td>0.0                  </td><td>0.0                </td><td>0.0                   </td><td>nan                  </td><td>nan                 </td><td>nan                  </td><td>nan                  </td><td>nan                   </td><td>nan                        </td><td>nan                        </td><td>nan                     </td><td>nan                    </td><td>nan                     </td><td>nan                 </td><td>nan                   </td><td>nan                  </td><td>nan                 </td><td>nan                </td><td>0.0                     </td><td>0.015625            </td><td>0.0                  </td><td>0.0                  </td><td>0.0                  </td><td>0.0                  </td><td>0.0                  </td><td>0.0                  </td><td>0.0                  </td><td>0.0                  </td><td>0.0                  </td><td>0.0                  </td><td>0.0                  </td><td>0.0                  </td><td>0.0                  </td><td>1.0                  </td><td>0.0                  </td><td>0.0                  </td><td>0.0                  </td><td>nan                </td><td>nan                </td><td>nan                </td><td>nan                </td><td>nan                </td><td>0.0                </td><td>0.000243492           </td><td>2.0                 </td><td>nan               </td><td>nan                </td><td>nan                </td><td>nan                </td><td>nan                 </td><td>nan                 </td><td>nan                </td><td>0.0                </td></tr>\n",
       "<tr><td>6      </td><td>1.0                </td><td>0.0               </td><td>0.0               </td><td>0.0               </td><td>nan               </td><td>0.0                </td><td>0.0                 </td><td>0.0                </td><td>0.0                </td><td>0.0                  </td><td>0.0                </td><td>0.0                </td><td>0.0                </td><td>1.0                  </td><td>0.0               </td><td>0.0               </td><td>0.0               </td><td>0.0               </td><td>0.0               </td><td>0.069767442        </td><td>2.0               </td><td>0.0               </td><td>3.0               </td><td>3.0              </td><td>2.0               </td><td>0.0                </td><td>0.0                </td><td>0.0               </td><td>0.0                </td><td>0.0                </td><td>0.0               </td><td>0.0               </td><td>0.0                 </td><td>0.0                </td><td>0.0               </td><td>0.0                 </td><td>0.0                </td><td>0.0                </td><td>1.0               </td><td>0.0                 </td><td>0.0                </td><td>0.0                </td><td>0.0                </td><td>0.0                </td><td>0.0                </td><td>0.0                </td><td>0.0               </td><td>0.0                </td><td>0.002922865          </td><td>1.0               </td><td>0.0               </td><td>0.0               </td><td>nan                  </td><td>0.0                        </td><td>0.0               </td><td>0.0                </td><td>0.0               </td><td>0.125               </td><td>0.078947368            </td><td>0.2                </td><td>0.0                </td><td>0.0               </td><td>0.0                </td><td>0.0                </td><td>0.0               </td><td>0.0                </td><td>0.0               </td><td>0.0               </td><td>0.0                 </td><td>0.0               </td><td>0.0                </td><td>0.0                </td><td>0.0                </td><td>0.0                  </td><td>0.0                  </td><td>0.0                </td><td>0.0                   </td><td>nan                  </td><td>nan                 </td><td>nan                  </td><td>nan                  </td><td>nan                   </td><td>nan                        </td><td>nan                        </td><td>nan                     </td><td>nan                    </td><td>nan                     </td><td>nan                 </td><td>nan                   </td><td>nan                  </td><td>nan                 </td><td>nan                </td><td>0.0                     </td><td>0.015625            </td><td>0.0                  </td><td>0.0                  </td><td>0.0                  </td><td>0.0                  </td><td>0.0                  </td><td>0.0                  </td><td>0.0                  </td><td>0.0                  </td><td>0.0                  </td><td>0.0                  </td><td>0.0                  </td><td>0.0                  </td><td>0.0                  </td><td>1.0                  </td><td>0.0                  </td><td>0.0                  </td><td>0.0                  </td><td>nan                </td><td>nan                </td><td>nan                </td><td>nan                </td><td>nan                </td><td>0.0                </td><td>0.002600318           </td><td>0.0                 </td><td>nan               </td><td>nan                </td><td>nan                </td><td>nan                </td><td>nan                 </td><td>nan                 </td><td>nan                </td><td>0.0                </td></tr>\n",
       "<tr><td>7      </td><td>1.0                </td><td>0.0               </td><td>0.0               </td><td>0.0               </td><td>nan               </td><td>0.0                </td><td>1.0                 </td><td>0.0                </td><td>0.0                </td><td>0.0                  </td><td>0.0                </td><td>0.0                </td><td>0.0                </td><td>1.0                  </td><td>0.0               </td><td>0.0               </td><td>0.0               </td><td>0.0               </td><td>0.0               </td><td>0.046511628        </td><td>0.0               </td><td>0.0               </td><td>5.0               </td><td>3.0              </td><td>2.0               </td><td>0.0                </td><td>0.0                </td><td>0.0               </td><td>0.0                </td><td>0.0                </td><td>0.0               </td><td>0.0               </td><td>0.0                 </td><td>0.0                </td><td>0.0               </td><td>0.0                 </td><td>0.0                </td><td>0.0                </td><td>0.0               </td><td>0.0                 </td><td>1.0                </td><td>0.0                </td><td>0.0                </td><td>0.0                </td><td>0.0                </td><td>0.0                </td><td>0.0               </td><td>0.0                </td><td>0.003267261          </td><td>1.0               </td><td>0.0               </td><td>0.0               </td><td>nan                  </td><td>0.0                        </td><td>0.0               </td><td>0.0                </td><td>0.0               </td><td>0.125               </td><td>0.052631579000000005   </td><td>0.15               </td><td>0.0                </td><td>0.0               </td><td>0.0                </td><td>0.0                </td><td>0.0               </td><td>0.0                </td><td>0.0               </td><td>0.0               </td><td>0.0                 </td><td>0.0               </td><td>0.0                </td><td>0.0                </td><td>0.0                </td><td>0.0                  </td><td>0.0                  </td><td>0.0                </td><td>0.0                   </td><td>nan                  </td><td>nan                 </td><td>nan                  </td><td>nan                  </td><td>nan                   </td><td>nan                        </td><td>nan                        </td><td>nan                     </td><td>nan                    </td><td>nan                     </td><td>nan                 </td><td>nan                   </td><td>nan                  </td><td>nan                 </td><td>nan                </td><td>0.0                     </td><td>0.015625            </td><td>0.0                  </td><td>0.0                  </td><td>0.0                  </td><td>0.0                  </td><td>0.0                  </td><td>0.0                  </td><td>0.0                  </td><td>0.0                  </td><td>0.0                  </td><td>0.0                  </td><td>0.0                  </td><td>0.0                  </td><td>0.0                  </td><td>0.0                  </td><td>0.0                  </td><td>1.0                  </td><td>0.0                  </td><td>nan                </td><td>nan                </td><td>nan                </td><td>nan                </td><td>nan                </td><td>0.0                </td><td>0.002886755           </td><td>0.0                 </td><td>nan               </td><td>nan                </td><td>nan                </td><td>nan                </td><td>nan                 </td><td>nan                 </td><td>nan                </td><td>0.0                </td></tr>\n",
       "<tr><td>8      </td><td>1.0                </td><td>0.0               </td><td>0.0               </td><td>0.0               </td><td>1.0               </td><td>0.0                </td><td>0.0                 </td><td>0.0                </td><td>0.0                </td><td>0.0                  </td><td>0.0                </td><td>0.0                </td><td>0.0                </td><td>1.0                  </td><td>1.0               </td><td>0.0               </td><td>0.0               </td><td>0.0               </td><td>1.0               </td><td>0.11627907         </td><td>2.0               </td><td>0.0               </td><td>1.0               </td><td>3.0              </td><td>2.0               </td><td>0.0                </td><td>0.0                </td><td>0.0               </td><td>0.0                </td><td>0.0                </td><td>0.0               </td><td>0.0               </td><td>0.0                 </td><td>0.0                </td><td>0.0               </td><td>0.0                 </td><td>0.0                </td><td>0.0                </td><td>1.0               </td><td>0.0                 </td><td>0.0                </td><td>0.0                </td><td>0.0                </td><td>0.0                </td><td>0.0                </td><td>0.0                </td><td>0.0               </td><td>0.0                </td><td>0.000154419          </td><td>2.0               </td><td>0.0               </td><td>0.0               </td><td>0.00024999           </td><td>0.0                        </td><td>0.0               </td><td>0.0                </td><td>0.0               </td><td>0.125               </td><td>0.131578947            </td><td>0.325              </td><td>0.0                </td><td>0.0               </td><td>0.0                </td><td>0.0                </td><td>0.0               </td><td>0.0                </td><td>0.0               </td><td>0.0               </td><td>0.0                 </td><td>0.0               </td><td>0.0                </td><td>0.0                </td><td>0.0                </td><td>0.0                  </td><td>0.0                  </td><td>0.0                </td><td>0.0                   </td><td>nan                  </td><td>nan                 </td><td>nan                  </td><td>nan                  </td><td>nan                   </td><td>nan                        </td><td>nan                        </td><td>nan                     </td><td>nan                    </td><td>nan                     </td><td>nan                 </td><td>nan                   </td><td>nan                  </td><td>nan                 </td><td>nan                </td><td>1.0                     </td><td>0.03125             </td><td>0.0                  </td><td>0.0                  </td><td>0.0                  </td><td>0.0                  </td><td>0.0                  </td><td>0.0                  </td><td>0.0                  </td><td>0.0                  </td><td>0.0                  </td><td>0.0                  </td><td>0.0                  </td><td>0.0                  </td><td>0.0                  </td><td>1.0                  </td><td>0.0                  </td><td>0.0                  </td><td>0.0                  </td><td>nan                </td><td>nan                </td><td>nan                </td><td>nan                </td><td>nan                </td><td>0.0                </td><td>0.00014021299999999998</td><td>2.0                 </td><td>nan               </td><td>nan                </td><td>nan                </td><td>nan                </td><td>nan                 </td><td>nan                 </td><td>nan                </td><td>0.0                </td></tr>\n",
       "<tr><td>9      </td><td>1.0                </td><td>0.0               </td><td>0.0               </td><td>0.0               </td><td>nan               </td><td>0.0                </td><td>0.0                 </td><td>0.0                </td><td>0.0                </td><td>0.0                  </td><td>0.0                </td><td>0.0                </td><td>0.0                </td><td>1.0                  </td><td>1.0               </td><td>0.0               </td><td>0.0               </td><td>0.0               </td><td>1.0               </td><td>0.139534884        </td><td>1.0               </td><td>0.0               </td><td>1.0               </td><td>3.0              </td><td>2.0               </td><td>0.0                </td><td>0.0                </td><td>0.0               </td><td>0.0                </td><td>0.0                </td><td>0.0               </td><td>0.0               </td><td>0.0                 </td><td>0.0                </td><td>0.0               </td><td>0.0                 </td><td>0.0                </td><td>0.0                </td><td>1.0               </td><td>0.0                 </td><td>0.0                </td><td>0.0                </td><td>0.0                </td><td>0.0                </td><td>0.0                </td><td>0.0                </td><td>0.0               </td><td>0.0                </td><td>0.000200745          </td><td>1.0               </td><td>0.0               </td><td>0.0               </td><td>0.000416657          </td><td>0.0                        </td><td>0.0               </td><td>0.0                </td><td>0.0               </td><td>0.125               </td><td>0.15789473699999998    </td><td>0.3                </td><td>0.0                </td><td>0.0               </td><td>0.0                </td><td>0.0                </td><td>0.0               </td><td>0.0                </td><td>0.0               </td><td>0.0               </td><td>0.0                 </td><td>0.0               </td><td>0.0                </td><td>0.0                </td><td>0.0                </td><td>0.0                  </td><td>0.0                  </td><td>0.0                </td><td>0.0                   </td><td>nan                  </td><td>nan                 </td><td>nan                  </td><td>nan                  </td><td>nan                   </td><td>nan                        </td><td>nan                        </td><td>nan                     </td><td>nan                    </td><td>nan                     </td><td>nan                 </td><td>nan                   </td><td>nan                  </td><td>nan                 </td><td>nan                </td><td>0.0                     </td><td>0.046875            </td><td>0.0                  </td><td>0.0                  </td><td>0.0                  </td><td>0.0                  </td><td>0.0                  </td><td>0.0                  </td><td>0.0                  </td><td>0.0                  </td><td>0.0                  </td><td>0.0                  </td><td>0.0                  </td><td>0.0                  </td><td>0.0                  </td><td>1.0                  </td><td>0.0                  </td><td>0.0                  </td><td>1.0                  </td><td>nan                </td><td>nan                </td><td>nan                </td><td>nan                </td><td>nan                </td><td>0.0                </td><td>0.000182278           </td><td>2.0                 </td><td>nan               </td><td>nan                </td><td>nan                </td><td>nan                </td><td>nan                 </td><td>nan                 </td><td>nan                </td><td>0.0                </td></tr>\n",
       "</tbody>\n",
       "</table>"
      ]
     },
     "metadata": {},
     "output_type": "display_data"
    }
   ],
   "source": [
    "hf = h2o.H2OFrame(df)\n",
    "hf.describe()"
   ]
  },
  {
   "cell_type": "markdown",
   "metadata": {},
   "source": [
    "### 2. 以 0.7 / 0.3 切割 Training / Validation Data"
   ]
  },
  {
   "cell_type": "code",
   "execution_count": 21,
   "metadata": {},
   "outputs": [
    {
     "name": "stdout",
     "output_type": "stream",
     "text": [
      "(70000, 126)\n",
      "(30000, 126)\n",
      "(70000, 1)\n",
      "(30000, 1)\n"
     ]
    }
   ],
   "source": [
    "hf_train, hf_vali = hf.split_frame(ratios = [.69975], seed = 1234)\n",
    "hf_y_train = hf_train[\"Y1\"]\n",
    "hf_y_vali = hf_vali[\"Y1\"]\n",
    "hf_train = hf_train[:-1]\n",
    "hf_vali = hf_vali[:-1]\n",
    "print(hf_train.shape)\n",
    "print(hf_vali.shape)\n",
    "print(hf_y_train.shape)\n",
    "print(hf_y_vali.shape)"
   ]
  },
  {
   "cell_type": "markdown",
   "metadata": {},
   "source": [
    "### 3. 將 Training / Validation Data 變數型態改為 factor 及 numeric"
   ]
  },
  {
   "cell_type": "code",
   "execution_count": 23,
   "metadata": {},
   "outputs": [
    {
     "name": "stdout",
     "output_type": "stream",
     "text": [
      "Rows:70000\n",
      "Cols:126\n",
      "\n",
      "\n"
     ]
    },
    {
     "data": {
      "text/html": [
       "<table>\n",
       "<thead>\n",
       "<tr><th>       </th><th>GENDER  </th><th>AGE  </th><th>CHARGE_CITY_CD  </th><th>CONTACT_CITY_CD  </th><th>EDUCATION_CD  </th><th>MARRIAGE_CD  </th><th>LAST_A_CCONTACT_DT  </th><th>L1YR_A_ISSUE_CNT   </th><th>LAST_A_ISSUE_DT  </th><th>L1YR_B_ISSUE_CNT     </th><th>LAST_B_ISSUE_DT  </th><th>CHANNEL_A_POL_CNT  </th><th>CHANNEL_B_POL_CNT   </th><th>OCCUPATION_CLASS_CD  </th><th>APC_CNT           </th><th>INSD_CNT           </th><th>APC_1ST_AGE  </th><th>INSD_1ST_AGE  </th><th>IF_2ND_GEN_IND  </th><th>APC_1ST_YEARDIF    </th><th>RFM_R  </th><th>REBUY_TIMES_CNT  </th><th>LEVEL  </th><th>RFM_M_LEVEL  </th><th>LIFE_CNT  </th><th>IF_ISSUE_A_IND  </th><th>IF_ISSUE_B_IND  </th><th>IF_ISSUE_C_IND  </th><th>IF_ISSUE_D_IND  </th><th>IF_ISSUE_E_IND  </th><th>IF_ISSUE_F_IND  </th><th>IF_ISSUE_G_IND  </th><th>IF_ISSUE_H_IND  </th><th>IF_ISSUE_I_IND  </th><th>IF_ISSUE_J_IND  </th><th>IF_ISSUE_K_IND  </th><th>IF_ISSUE_L_IND  </th><th>IF_ISSUE_M_IND  </th><th>IF_ISSUE_N_IND  </th><th>IF_ISSUE_O_IND  </th><th>IF_ISSUE_P_IND  </th><th>IF_ISSUE_Q_IND  </th><th>IF_ADD_F_IND  </th><th>IF_ADD_L_IND  </th><th>IF_ADD_Q_IND  </th><th>IF_ADD_G_IND  </th><th>IF_ADD_R_IND  </th><th>IF_ADD_IND  </th><th>ANNUAL_PREMIUM_AMT   </th><th>AG_CNT            </th><th>AG_NOW_CNT         </th><th>CLC_CUR_NUM       </th><th>ANNUAL_INCOME_AMT    </th><th>L1YR_PAYMENT_REMINDER_IND  </th><th>L1YR_LAPSE_IND  </th><th>LAST_B_CONTACT_DT  </th><th>LAST_C_DT  </th><th>BANK_NUMBER_CNT    </th><th>INSD_LAST_YEARDIF_CNT  </th><th>BMI                </th><th>IF_S_REAL_IND  </th><th>IF_Y_REAL_IND  </th><th>IM_CNT            </th><th>IM_IS_A_IND  </th><th>IM_IS_B_IND  </th><th>IM_IS_C_IND  </th><th>IM_IS_D_IND  </th><th>TERMINATION_RATE  </th><th>X_A_IND  </th><th>X_B_IND  </th><th>X_C_IND  </th><th>X_D_IND  </th><th>X_E_IND  </th><th>X_F_IND  </th><th>X_G_IND  </th><th>X_H_IND  </th><th>TOOL_VISIT_1YEAR_CNT  </th><th>DIEBENEFIT_AMT        </th><th>DIEACCIDENT_AMT     </th><th>POLICY_VALUE_AMT     </th><th>ANNUITY_AMT          </th><th>EXPIRATION_AMT      </th><th>ACCIDENT_HOSPITAL_REC_AMT  </th><th>DISEASES_HOSPITAL_REC_AMT  </th><th>OUTPATIENT_SURGERY_AMT  </th><th>INPATIENT_SURGERY_AMT  </th><th>PAY_LIMIT_MED_MISC_AMT  </th><th>FIRST_CANCER_AMT    </th><th>ILL_ACCELERATION_AMT  </th><th>ILL_ADDITIONAL_AMT   </th><th>LONG_TERM_CARE_AMT   </th><th>MONTHLY_CARE_AMT    </th><th>IF_HOUSEHOLD_CLAIM_IND  </th><th>LIFE_INSD_CNT      </th><th>IF_ISSUE_INSD_A_IND  </th><th>IF_ISSUE_INSD_B_IND  </th><th>IF_ISSUE_INSD_C_IND  </th><th>IF_ISSUE_INSD_D_IND  </th><th>IF_ISSUE_INSD_E_IND  </th><th>IF_ISSUE_INSD_F_IND  </th><th>IF_ISSUE_INSD_G_IND  </th><th>IF_ISSUE_INSD_H_IND  </th><th>IF_ISSUE_INSD_I_IND  </th><th>IF_ISSUE_INSD_J_IND  </th><th>IF_ISSUE_INSD_K_IND  </th><th>IF_ISSUE_INSD_L_IND  </th><th>IF_ISSUE_INSD_M_IND  </th><th>IF_ISSUE_INSD_N_IND  </th><th>IF_ISSUE_INSD_O_IND  </th><th>IF_ISSUE_INSD_P_IND  </th><th>IF_ISSUE_INSD_Q_IND  </th><th>IF_ADD_INSD_F_IND  </th><th>IF_ADD_INSD_L_IND  </th><th>IF_ADD_INSD_Q_IND  </th><th>IF_ADD_INSD_G_IND  </th><th>IF_ADD_INSD_R_IND  </th><th>IF_ADD_INSD_IND  </th><th>L1YR_GROSS_PRE_AMT    </th><th>CUST_9_SEGMENTS_CD  </th><th>FINANCETOOLS_A  </th><th>FINANCETOOLS_B  </th><th>FINANCETOOLS_C  </th><th>FINANCETOOLS_D  </th><th>FINANCETOOLS_E  </th><th>FINANCETOOLS_F  </th><th>FINANCETOOLS_G  </th></tr>\n",
       "</thead>\n",
       "<tbody>\n",
       "<tr><td>type   </td><td>enum    </td><td>enum </td><td>enum            </td><td>enum             </td><td>enum          </td><td>enum         </td><td>enum                </td><td>int                </td><td>enum             </td><td>int                  </td><td>enum             </td><td>int                </td><td>int                 </td><td>enum                 </td><td>int               </td><td>int                </td><td>enum         </td><td>enum          </td><td>enum            </td><td>real               </td><td>enum   </td><td>enum             </td><td>enum   </td><td>enum         </td><td>enum      </td><td>enum            </td><td>enum            </td><td>enum            </td><td>enum            </td><td>enum            </td><td>enum            </td><td>enum            </td><td>enum            </td><td>enum            </td><td>enum            </td><td>enum            </td><td>enum            </td><td>enum            </td><td>enum            </td><td>enum            </td><td>enum            </td><td>enum            </td><td>enum          </td><td>enum          </td><td>enum          </td><td>enum          </td><td>enum          </td><td>enum        </td><td>real                 </td><td>int               </td><td>int                </td><td>int               </td><td>real                 </td><td>enum                       </td><td>enum            </td><td>enum               </td><td>enum       </td><td>real               </td><td>real                   </td><td>real               </td><td>enum           </td><td>enum           </td><td>int               </td><td>enum         </td><td>enum         </td><td>enum         </td><td>enum         </td><td>real              </td><td>enum     </td><td>enum     </td><td>enum     </td><td>enum     </td><td>enum     </td><td>enum     </td><td>enum     </td><td>enum     </td><td>int                   </td><td>real                  </td><td>real                </td><td>real                 </td><td>real                 </td><td>real                </td><td>real                       </td><td>real                       </td><td>real                    </td><td>real                   </td><td>real                    </td><td>real                </td><td>real                  </td><td>real                 </td><td>real                 </td><td>real                </td><td>enum                    </td><td>real               </td><td>enum                 </td><td>enum                 </td><td>enum                 </td><td>enum                 </td><td>enum                 </td><td>enum                 </td><td>enum                 </td><td>enum                 </td><td>enum                 </td><td>enum                 </td><td>enum                 </td><td>enum                 </td><td>enum                 </td><td>enum                 </td><td>enum                 </td><td>enum                 </td><td>enum                 </td><td>enum               </td><td>enum               </td><td>enum               </td><td>enum               </td><td>enum               </td><td>enum             </td><td>real                  </td><td>enum                </td><td>enum            </td><td>enum            </td><td>enum            </td><td>enum            </td><td>enum            </td><td>enum            </td><td>enum            </td></tr>\n",
       "<tr><td>mins   </td><td>        </td><td>     </td><td>                </td><td>                 </td><td>              </td><td>             </td><td>                    </td><td>0.0                </td><td>                 </td><td>0.0                  </td><td>                 </td><td>0.0                </td><td>0.0                 </td><td>                     </td><td>0.0               </td><td>0.0                </td><td>             </td><td>              </td><td>                </td><td>0.0                </td><td>       </td><td>                 </td><td>       </td><td>             </td><td>          </td><td>                </td><td>                </td><td>                </td><td>                </td><td>                </td><td>                </td><td>                </td><td>                </td><td>                </td><td>                </td><td>                </td><td>                </td><td>                </td><td>                </td><td>                </td><td>                </td><td>                </td><td>              </td><td>              </td><td>              </td><td>              </td><td>              </td><td>            </td><td>0.0                  </td><td>0.0               </td><td>0.0                </td><td>0.0               </td><td>0.0                  </td><td>                           </td><td>                </td><td>                   </td><td>           </td><td>0.0                </td><td>0.0                    </td><td>0.0                </td><td>               </td><td>               </td><td>0.0               </td><td>             </td><td>             </td><td>             </td><td>             </td><td>0.0               </td><td>         </td><td>         </td><td>         </td><td>         </td><td>         </td><td>         </td><td>         </td><td>         </td><td>0.0                   </td><td>0.0                   </td><td>0.0                 </td><td>0.0                  </td><td>0.0                  </td><td>0.0                 </td><td>0.0                        </td><td>0.0                        </td><td>0.0                     </td><td>0.0                    </td><td>0.0                     </td><td>0.0                 </td><td>0.0                   </td><td>0.0                  </td><td>0.0                  </td><td>0.0                 </td><td>                        </td><td>0.0                </td><td>                     </td><td>                     </td><td>                     </td><td>                     </td><td>                     </td><td>                     </td><td>                     </td><td>                     </td><td>                     </td><td>                     </td><td>                     </td><td>                     </td><td>                     </td><td>                     </td><td>                     </td><td>                     </td><td>                     </td><td>                   </td><td>                   </td><td>                   </td><td>                   </td><td>                   </td><td>                 </td><td>0.0                   </td><td>                    </td><td>                </td><td>                </td><td>                </td><td>                </td><td>                </td><td>                </td><td>                </td></tr>\n",
       "<tr><td>mean   </td><td>        </td><td>     </td><td>                </td><td>                 </td><td>              </td><td>             </td><td>                    </td><td>0.11939999999999995</td><td>                 </td><td>0.0034000000000000002</td><td>                 </td><td>1.632728571428573  </td><td>0.030842857142857154</td><td>                     </td><td>0.6814142857142863</td><td>0.28264285714285714</td><td>             </td><td>              </td><td>                </td><td>0.2583607848672618 </td><td>       </td><td>                 </td><td>       </td><td>             </td><td>          </td><td>                </td><td>                </td><td>                </td><td>                </td><td>                </td><td>                </td><td>                </td><td>                </td><td>                </td><td>                </td><td>                </td><td>                </td><td>                </td><td>                </td><td>                </td><td>                </td><td>                </td><td>              </td><td>              </td><td>              </td><td>              </td><td>              </td><td>            </td><td>0.001233532495925406 </td><td>0.9730142857142864</td><td>0.45731428571428606</td><td>0.5573428571428569</td><td>0.0006139072006350699</td><td>                           </td><td>                </td><td>                   </td><td>           </td><td>0.05593571428571424</td><td>0.17260730606491698    </td><td>0.26406284794189705</td><td>               </td><td>               </td><td>0.3845428571428572</td><td>             </td><td>             </td><td>             </td><td>             </td><td>11.998725399019731</td><td>         </td><td>         </td><td>         </td><td>         </td><td>         </td><td>         </td><td>         </td><td>         </td><td>1.4058428571428558    </td><td>0.0030825501746231643 </td><td>0.004413054003447595</td><td>0.0008736904919162499</td><td>0.0023730939177456817</td><td>0.000307829398992483</td><td>0.151833740422685          </td><td>0.13687258270955177        </td><td>0.09025593114457474     </td><td>0.058733128787260426   </td><td>0.0946178027470581      </td><td>0.014265378962867474</td><td>0.00426711042360974   </td><td>0.0022231744578692578</td><td>0.0023696652904285874</td><td>0.019110723389468308</td><td>                        </td><td>0.03163125000000003</td><td>                     </td><td>                     </td><td>                     </td><td>                     </td><td>                     </td><td>                     </td><td>                     </td><td>                     </td><td>                     </td><td>                     </td><td>                     </td><td>                     </td><td>                     </td><td>                     </td><td>                     </td><td>                     </td><td>                     </td><td>                   </td><td>                   </td><td>                   </td><td>                   </td><td>                   </td><td>                 </td><td>0.0005305485281999996 </td><td>                    </td><td>                </td><td>                </td><td>                </td><td>                </td><td>                </td><td>                </td><td>                </td></tr>\n",
       "<tr><td>maxs   </td><td>        </td><td>     </td><td>                </td><td>                 </td><td>              </td><td>             </td><td>                    </td><td>16.0               </td><td>                 </td><td>4.0                  </td><td>                 </td><td>93.0               </td><td>14.0                </td><td>                     </td><td>4.0               </td><td>9.0                </td><td>             </td><td>              </td><td>                </td><td>0.9302326          </td><td>       </td><td>                 </td><td>       </td><td>             </td><td>          </td><td>                </td><td>                </td><td>                </td><td>                </td><td>                </td><td>                </td><td>                </td><td>                </td><td>                </td><td>                </td><td>                </td><td>                </td><td>                </td><td>                </td><td>                </td><td>                </td><td>                </td><td>              </td><td>              </td><td>              </td><td>              </td><td>              </td><td>            </td><td>0.3788604            </td><td>18.0              </td><td>10.0               </td><td>7.0               </td><td>0.25                 </td><td>                           </td><td>                </td><td>                   </td><td>           </td><td>0.875              </td><td>1.0                    </td><td>0.75               </td><td>               </td><td>               </td><td>4.0               </td><td>             </td><td>             </td><td>             </td><td>             </td><td>100.0             </td><td>         </td><td>         </td><td>         </td><td>         </td><td>         </td><td>         </td><td>         </td><td>         </td><td>112.0                 </td><td>0.3622524             </td><td>0.3622524           </td><td>0.3785324            </td><td>0.3773450999999999   </td><td>0.2044154           </td><td>0.8079999999999999         </td><td>0.8064515999999999         </td><td>0.952381                </td><td>0.8242424              </td><td>1.0                     </td><td>0.7345911999999999  </td><td>0.666666667           </td><td>0.3                  </td><td>0.8095238            </td><td>0.7302405           </td><td>                        </td><td>0.921875           </td><td>                     </td><td>                     </td><td>                     </td><td>                     </td><td>                     </td><td>                     </td><td>                     </td><td>                     </td><td>                     </td><td>                     </td><td>                     </td><td>                     </td><td>                     </td><td>                     </td><td>                     </td><td>                     </td><td>                     </td><td>                   </td><td>                   </td><td>                   </td><td>                   </td><td>                   </td><td>                 </td><td>0.3278146             </td><td>                    </td><td>                </td><td>                </td><td>                </td><td>                </td><td>                </td><td>                </td><td>                </td></tr>\n",
       "<tr><td>sigma  </td><td>        </td><td>     </td><td>                </td><td>                 </td><td>              </td><td>             </td><td>                    </td><td>0.5655638736504504 </td><td>                 </td><td>0.06360535081272106  </td><td>                 </td><td>3.380494990359584  </td><td>0.2570290793825316  </td><td>                     </td><td>0.6148472286770443</td><td>0.7404000777929239 </td><td>             </td><td>              </td><td>                </td><td>0.18311890585203225</td><td>       </td><td>                 </td><td>       </td><td>             </td><td>          </td><td>                </td><td>                </td><td>                </td><td>                </td><td>                </td><td>                </td><td>                </td><td>                </td><td>                </td><td>                </td><td>                </td><td>                </td><td>                </td><td>                </td><td>                </td><td>                </td><td>                </td><td>              </td><td>              </td><td>              </td><td>              </td><td>              </td><td>            </td><td>0.004334144256929022 </td><td>1.1929522030939714</td><td>0.7153117877308363 </td><td>0.7394821798811352</td><td>0.0016570557039330836</td><td>                           </td><td>                </td><td>                   </td><td>           </td><td>0.08398209959843808</td><td>0.14130519650739629    </td><td>0.09124129981571066</td><td>               </td><td>               </td><td>0.692524934695121 </td><td>             </td><td>             </td><td>             </td><td>             </td><td>27.61910834902165 </td><td>         </td><td>         </td><td>         </td><td>         </td><td>         </td><td>         </td><td>         </td><td>         </td><td>3.775786894028274     </td><td>0.006079263229176071  </td><td>0.00714421061112306 </td><td>0.0053736902965501755</td><td>0.00908712827450503  </td><td>0.003558890933875468</td><td>0.15175386162024646        </td><td>0.1399391023587577         </td><td>0.10204798912899592     </td><td>0.07823495614459382    </td><td>0.1669765654573306      </td><td>0.03341562800176776 </td><td>0.014008083113141119  </td><td>0.0097071128306856   </td><td>0.02040618626437269  </td><td>0.0411540349902729  </td><td>                        </td><td>0.03449771113943626</td><td>                     </td><td>                     </td><td>                     </td><td>                     </td><td>                     </td><td>                     </td><td>                     </td><td>                     </td><td>                     </td><td>                     </td><td>                     </td><td>                     </td><td>                     </td><td>                     </td><td>                     </td><td>                     </td><td>                     </td><td>                   </td><td>                   </td><td>                   </td><td>                   </td><td>                   </td><td>                 </td><td>0.003286536373314473  </td><td>                    </td><td>                </td><td>                </td><td>                </td><td>                </td><td>                </td><td>                </td><td>                </td></tr>\n",
       "<tr><td>zeros  </td><td>        </td><td>     </td><td>                </td><td>                 </td><td>              </td><td>             </td><td>                    </td><td>65442              </td><td>                 </td><td>69780                </td><td>                 </td><td>38781              </td><td>68550               </td><td>                     </td><td>27707             </td><td>58660              </td><td>             </td><td>              </td><td>                </td><td>1120               </td><td>       </td><td>                 </td><td>       </td><td>             </td><td>          </td><td>                </td><td>                </td><td>                </td><td>                </td><td>                </td><td>                </td><td>                </td><td>                </td><td>                </td><td>                </td><td>                </td><td>                </td><td>                </td><td>                </td><td>                </td><td>                </td><td>                </td><td>              </td><td>              </td><td>              </td><td>              </td><td>              </td><td>            </td><td>992                  </td><td>30239             </td><td>45246              </td><td>39288             </td><td>8                    </td><td>                           </td><td>                </td><td>                   </td><td>           </td><td>44741              </td><td>4371                   </td><td>46                 </td><td>               </td><td>               </td><td>50189             </td><td>             </td><td>             </td><td>             </td><td>             </td><td>31015             </td><td>         </td><td>         </td><td>         </td><td>         </td><td>         </td><td>         </td><td>         </td><td>         </td><td>48236                 </td><td>9639                  </td><td>9392                </td><td>43354                </td><td>37960                </td><td>50027               </td><td>18620                      </td><td>20043                      </td><td>22854                   </td><td>22077                  </td><td>37105                   </td><td>30744               </td><td>44066                 </td><td>45869                </td><td>49642                </td><td>36635               </td><td>                        </td><td>14003              </td><td>                     </td><td>                     </td><td>                     </td><td>                     </td><td>                     </td><td>                     </td><td>                     </td><td>                     </td><td>                     </td><td>                     </td><td>                     </td><td>                     </td><td>                     </td><td>                     </td><td>                     </td><td>                     </td><td>                     </td><td>                   </td><td>                   </td><td>                   </td><td>                   </td><td>                   </td><td>                 </td><td>42616                 </td><td>                    </td><td>                </td><td>                </td><td>                </td><td>                </td><td>                </td><td>                </td><td>                </td></tr>\n",
       "<tr><td>missing</td><td>469     </td><td>0    </td><td>0               </td><td>0                </td><td>14482         </td><td>5621         </td><td>0                   </td><td>0                  </td><td>0                </td><td>0                    </td><td>0                </td><td>0                  </td><td>0                   </td><td>2747                 </td><td>0                 </td><td>0                  </td><td>30215        </td><td>126           </td><td>0               </td><td>30215              </td><td>30222  </td><td>30215            </td><td>30232  </td><td>30215        </td><td>0         </td><td>0               </td><td>0               </td><td>0               </td><td>0               </td><td>0               </td><td>0               </td><td>0               </td><td>0               </td><td>0               </td><td>0               </td><td>0               </td><td>0               </td><td>0               </td><td>0               </td><td>0               </td><td>0               </td><td>0               </td><td>0             </td><td>0             </td><td>0             </td><td>0             </td><td>0             </td><td>0           </td><td>43617                </td><td>0                 </td><td>0                  </td><td>0                 </td><td>27485                </td><td>0                          </td><td>0               </td><td>0                  </td><td>0          </td><td>0                  </td><td>126                    </td><td>11621              </td><td>0              </td><td>0              </td><td>0                 </td><td>0            </td><td>0            </td><td>0            </td><td>0            </td><td>30215             </td><td>28       </td><td>28       </td><td>28       </td><td>28       </td><td>28       </td><td>28       </td><td>28       </td><td>28       </td><td>0                     </td><td>19182                 </td><td>19182               </td><td>19182                </td><td>19182                </td><td>19182               </td><td>19182                      </td><td>19182                      </td><td>19182                   </td><td>19182                  </td><td>19182                   </td><td>19182               </td><td>19182                 </td><td>19182                </td><td>19182                </td><td>19182               </td><td>0                       </td><td>0                  </td><td>14003                </td><td>14003                </td><td>14003                </td><td>14003                </td><td>14003                </td><td>14003                </td><td>14003                </td><td>14003                </td><td>14003                </td><td>14003                </td><td>14003                </td><td>14003                </td><td>14003                </td><td>14003                </td><td>14003                </td><td>14003                </td><td>14003                </td><td>36218              </td><td>36218              </td><td>36218              </td><td>36218              </td><td>36218              </td><td>126              </td><td>0                     </td><td>0                   </td><td>43853           </td><td>43853           </td><td>43853           </td><td>43853           </td><td>43853           </td><td>43853           </td><td>43853           </td></tr>\n",
       "<tr><td>0      </td><td>1       </td><td>0    </td><td>0               </td><td>0                </td><td>              </td><td>             </td><td>1                   </td><td>0.0                </td><td>0                </td><td>0.0                  </td><td>0                </td><td>0.0                </td><td>0.0                 </td><td>1                    </td><td>0.0               </td><td>0.0                </td><td>0            </td><td>2             </td><td>0               </td><td>0.046511628        </td><td>0      </td><td>0                </td><td>5      </td><td>3            </td><td>2         </td><td>0               </td><td>0               </td><td>0               </td><td>0               </td><td>0               </td><td>0               </td><td>0               </td><td>0               </td><td>0               </td><td>0               </td><td>0               </td><td>0               </td><td>0               </td><td>0               </td><td>0               </td><td>1               </td><td>0               </td><td>0             </td><td>0             </td><td>0             </td><td>0             </td><td>0             </td><td>0           </td><td>0.009675454          </td><td>1.0               </td><td>0.0                </td><td>0.0               </td><td>0.000166657          </td><td>0                          </td><td>0               </td><td>0                  </td><td>0          </td><td>0.125              </td><td>0.052631579000000005   </td><td>0.175              </td><td>0              </td><td>0              </td><td>0.0               </td><td>0            </td><td>0            </td><td>0            </td><td>0            </td><td>0.0               </td><td>0        </td><td>0        </td><td>0        </td><td>0        </td><td>0        </td><td>0        </td><td>0        </td><td>0        </td><td>0.0                   </td><td>nan                   </td><td>nan                 </td><td>nan                  </td><td>nan                  </td><td>nan                 </td><td>nan                        </td><td>nan                        </td><td>nan                     </td><td>nan                    </td><td>nan                     </td><td>nan                 </td><td>nan                   </td><td>nan                  </td><td>nan                  </td><td>nan                 </td><td>0                       </td><td>0.015625           </td><td>0                    </td><td>0                    </td><td>0                    </td><td>0                    </td><td>0                    </td><td>0                    </td><td>0                    </td><td>0                    </td><td>0                    </td><td>0                    </td><td>0                    </td><td>0                    </td><td>0                    </td><td>0                    </td><td>0                    </td><td>1                    </td><td>0                    </td><td>                   </td><td>                   </td><td>                   </td><td>                   </td><td>                   </td><td>0                </td><td>0.00872448            </td><td>0                   </td><td>                </td><td>                </td><td>                </td><td>                </td><td>                </td><td>                </td><td>                </td></tr>\n",
       "<tr><td>1      </td><td>1       </td><td>0    </td><td>0               </td><td>0                </td><td>1             </td><td>0            </td><td>1                   </td><td>1.0                </td><td>1                </td><td>0.0                  </td><td>0                </td><td>1.0                </td><td>0.0                 </td><td>1                    </td><td>1.0               </td><td>0.0                </td><td>0            </td><td>2             </td><td>1               </td><td>0.0                </td><td>0      </td><td>0                </td><td>5      </td><td>3            </td><td>2         </td><td>0               </td><td>0               </td><td>0               </td><td>0               </td><td>0               </td><td>0               </td><td>0               </td><td>0               </td><td>0               </td><td>0               </td><td>0               </td><td>0               </td><td>0               </td><td>1               </td><td>0               </td><td>0               </td><td>0               </td><td>0             </td><td>0             </td><td>0             </td><td>0             </td><td>0             </td><td>0           </td><td>0.000292155          </td><td>1.0               </td><td>0.0                </td><td>1.0               </td><td>0.00012499           </td><td>0                          </td><td>0               </td><td>0                  </td><td>0          </td><td>0.0                </td><td>0.0                    </td><td>0.225              </td><td>0              </td><td>0              </td><td>0.0               </td><td>0            </td><td>0            </td><td>0            </td><td>0            </td><td>0.0               </td><td>0        </td><td>0        </td><td>0        </td><td>1        </td><td>0        </td><td>0        </td><td>0        </td><td>0        </td><td>0.0                   </td><td>0.0                   </td><td>0.0                 </td><td>0.0                  </td><td>0.0                  </td><td>0.0                 </td><td>0.0                        </td><td>0.0                        </td><td>0.0                     </td><td>0.0                    </td><td>0.0                     </td><td>0.0                 </td><td>0.0                   </td><td>0.0                  </td><td>0.0                  </td><td>0.0                 </td><td>0                       </td><td>0.03125            </td><td>0                    </td><td>0                    </td><td>0                    </td><td>0                    </td><td>0                    </td><td>0                    </td><td>0                    </td><td>0                    </td><td>1                    </td><td>0                    </td><td>0                    </td><td>0                    </td><td>0                    </td><td>1                    </td><td>0                    </td><td>0                    </td><td>0                    </td><td>                   </td><td>                   </td><td>                   </td><td>                   </td><td>                   </td><td>0                </td><td>0.005359099           </td><td>0                   </td><td>1               </td><td>0               </td><td>0               </td><td>0               </td><td>0               </td><td>0               </td><td>0               </td></tr>\n",
       "<tr><td>2      </td><td>1       </td><td>0    </td><td>0               </td><td>0                </td><td>1             </td><td>0            </td><td>0                   </td><td>0.0                </td><td>0                </td><td>0.0                  </td><td>0                </td><td>1.0                </td><td>0.0                 </td><td>1                    </td><td>1.0               </td><td>0.0                </td><td>0            </td><td>0             </td><td>1               </td><td>0.11627907         </td><td>2      </td><td>0                </td><td>2      </td><td>3            </td><td>2         </td><td>0               </td><td>0               </td><td>0               </td><td>0               </td><td>0               </td><td>0               </td><td>0               </td><td>0               </td><td>0               </td><td>0               </td><td>0               </td><td>0               </td><td>0               </td><td>1               </td><td>0               </td><td>0               </td><td>0               </td><td>0             </td><td>0             </td><td>0             </td><td>0             </td><td>0             </td><td>0           </td><td>0.0006639080000000001</td><td>1.0               </td><td>1.0                </td><td>1.0               </td><td>8.329999999999999e-05</td><td>0                          </td><td>0               </td><td>0                  </td><td>0          </td><td>0.0                </td><td>0.078947368            </td><td>0.175              </td><td>0              </td><td>0              </td><td>0.0               </td><td>0            </td><td>0            </td><td>0            </td><td>0            </td><td>0.0               </td><td>0        </td><td>1        </td><td>0        </td><td>0        </td><td>1        </td><td>0        </td><td>0        </td><td>0        </td><td>0.0                   </td><td>0.0                   </td><td>0.0                 </td><td>0.0                  </td><td>0.0                  </td><td>0.0                 </td><td>0.0                        </td><td>0.0                        </td><td>0.0                     </td><td>0.0                    </td><td>0.0                     </td><td>0.047169811         </td><td>0.0                   </td><td>0.0                  </td><td>0.0                  </td><td>0.0                 </td><td>1                       </td><td>0.0625             </td><td>0                    </td><td>0                    </td><td>0                    </td><td>0                    </td><td>0                    </td><td>1                    </td><td>0                    </td><td>0                    </td><td>1                    </td><td>0                    </td><td>0                    </td><td>0                    </td><td>0                    </td><td>1                    </td><td>0                    </td><td>1                    </td><td>0                    </td><td>                   </td><td>                   </td><td>                   </td><td>                   </td><td>                   </td><td>0                </td><td>0.000602821           </td><td>2                   </td><td>                </td><td>                </td><td>                </td><td>                </td><td>                </td><td>                </td><td>                </td></tr>\n",
       "<tr><td>3      </td><td>1       </td><td>0    </td><td>0               </td><td>0                </td><td>              </td><td>0            </td><td>1                   </td><td>0.0                </td><td>0                </td><td>0.0                  </td><td>0                </td><td>0.0                </td><td>0.0                 </td><td>1                    </td><td>0.0               </td><td>0.0                </td><td>0            </td><td>0             </td><td>0               </td><td>0.186046512        </td><td>1      </td><td>0                </td><td>3      </td><td>3            </td><td>2         </td><td>0               </td><td>0               </td><td>0               </td><td>0               </td><td>0               </td><td>0               </td><td>0               </td><td>0               </td><td>0               </td><td>0               </td><td>0               </td><td>0               </td><td>0               </td><td>1               </td><td>0               </td><td>0               </td><td>0               </td><td>0             </td><td>0             </td><td>0             </td><td>0             </td><td>0             </td><td>0           </td><td>0.000265484          </td><td>1.0               </td><td>0.0                </td><td>0.0               </td><td>nan                  </td><td>0                          </td><td>0               </td><td>0                  </td><td>0          </td><td>0.125              </td><td>0.210526316            </td><td>0.225              </td><td>0              </td><td>0              </td><td>0.0               </td><td>0            </td><td>0            </td><td>0            </td><td>0            </td><td>0.0               </td><td>0        </td><td>0        </td><td>0        </td><td>0        </td><td>0        </td><td>0        </td><td>0        </td><td>0        </td><td>0.0                   </td><td>nan                   </td><td>nan                 </td><td>nan                  </td><td>nan                  </td><td>nan                 </td><td>nan                        </td><td>nan                        </td><td>nan                     </td><td>nan                    </td><td>nan                     </td><td>nan                 </td><td>nan                   </td><td>nan                  </td><td>nan                  </td><td>nan                 </td><td>0                       </td><td>0.015625           </td><td>0                    </td><td>0                    </td><td>0                    </td><td>0                    </td><td>0                    </td><td>0                    </td><td>0                    </td><td>0                    </td><td>0                    </td><td>0                    </td><td>0                    </td><td>0                    </td><td>0                    </td><td>1                    </td><td>0                    </td><td>0                    </td><td>0                    </td><td>                   </td><td>                   </td><td>                   </td><td>                   </td><td>                   </td><td>0                </td><td>0.000243492           </td><td>2                   </td><td>                </td><td>                </td><td>                </td><td>                </td><td>                </td><td>                </td><td>                </td></tr>\n",
       "<tr><td>4      </td><td>1       </td><td>0    </td><td>0               </td><td>0                </td><td>              </td><td>0            </td><td>0                   </td><td>0.0                </td><td>0                </td><td>0.0                  </td><td>0                </td><td>0.0                </td><td>0.0                 </td><td>1                    </td><td>0.0               </td><td>0.0                </td><td>0            </td><td>0             </td><td>0               </td><td>0.069767442        </td><td>2      </td><td>0                </td><td>3      </td><td>3            </td><td>2         </td><td>0               </td><td>0               </td><td>0               </td><td>0               </td><td>0               </td><td>0               </td><td>0               </td><td>0               </td><td>0               </td><td>0               </td><td>0               </td><td>0               </td><td>0               </td><td>1               </td><td>0               </td><td>0               </td><td>0               </td><td>0             </td><td>0             </td><td>0             </td><td>0             </td><td>0             </td><td>0           </td><td>0.002922865          </td><td>1.0               </td><td>0.0                </td><td>0.0               </td><td>nan                  </td><td>0                          </td><td>0               </td><td>0                  </td><td>0          </td><td>0.125              </td><td>0.078947368            </td><td>0.2                </td><td>0              </td><td>0              </td><td>0.0               </td><td>0            </td><td>0            </td><td>0            </td><td>0            </td><td>0.0               </td><td>0        </td><td>0        </td><td>0        </td><td>0        </td><td>0        </td><td>0        </td><td>0        </td><td>0        </td><td>0.0                   </td><td>nan                   </td><td>nan                 </td><td>nan                  </td><td>nan                  </td><td>nan                 </td><td>nan                        </td><td>nan                        </td><td>nan                     </td><td>nan                    </td><td>nan                     </td><td>nan                 </td><td>nan                   </td><td>nan                  </td><td>nan                  </td><td>nan                 </td><td>0                       </td><td>0.015625           </td><td>0                    </td><td>0                    </td><td>0                    </td><td>0                    </td><td>0                    </td><td>0                    </td><td>0                    </td><td>0                    </td><td>0                    </td><td>0                    </td><td>0                    </td><td>0                    </td><td>0                    </td><td>1                    </td><td>0                    </td><td>0                    </td><td>0                    </td><td>                   </td><td>                   </td><td>                   </td><td>                   </td><td>                   </td><td>0                </td><td>0.002600318           </td><td>0                   </td><td>                </td><td>                </td><td>                </td><td>                </td><td>                </td><td>                </td><td>                </td></tr>\n",
       "<tr><td>5      </td><td>1       </td><td>0    </td><td>0               </td><td>0                </td><td>              </td><td>0            </td><td>1                   </td><td>0.0                </td><td>0                </td><td>0.0                  </td><td>0                </td><td>0.0                </td><td>0.0                 </td><td>1                    </td><td>0.0               </td><td>0.0                </td><td>0            </td><td>0             </td><td>0               </td><td>0.046511628        </td><td>0      </td><td>0                </td><td>5      </td><td>3            </td><td>2         </td><td>0               </td><td>0               </td><td>0               </td><td>0               </td><td>0               </td><td>0               </td><td>0               </td><td>0               </td><td>0               </td><td>0               </td><td>0               </td><td>0               </td><td>0               </td><td>0               </td><td>0               </td><td>1               </td><td>0               </td><td>0             </td><td>0             </td><td>0             </td><td>0             </td><td>0             </td><td>0           </td><td>0.003267261          </td><td>1.0               </td><td>0.0                </td><td>0.0               </td><td>nan                  </td><td>0                          </td><td>0               </td><td>0                  </td><td>0          </td><td>0.125              </td><td>0.052631579000000005   </td><td>0.15               </td><td>0              </td><td>0              </td><td>0.0               </td><td>0            </td><td>0            </td><td>0            </td><td>0            </td><td>0.0               </td><td>0        </td><td>0        </td><td>0        </td><td>0        </td><td>0        </td><td>0        </td><td>0        </td><td>0        </td><td>0.0                   </td><td>nan                   </td><td>nan                 </td><td>nan                  </td><td>nan                  </td><td>nan                 </td><td>nan                        </td><td>nan                        </td><td>nan                     </td><td>nan                    </td><td>nan                     </td><td>nan                 </td><td>nan                   </td><td>nan                  </td><td>nan                  </td><td>nan                 </td><td>0                       </td><td>0.015625           </td><td>0                    </td><td>0                    </td><td>0                    </td><td>0                    </td><td>0                    </td><td>0                    </td><td>0                    </td><td>0                    </td><td>0                    </td><td>0                    </td><td>0                    </td><td>0                    </td><td>0                    </td><td>0                    </td><td>0                    </td><td>1                    </td><td>0                    </td><td>                   </td><td>                   </td><td>                   </td><td>                   </td><td>                   </td><td>0                </td><td>0.002886755           </td><td>0                   </td><td>                </td><td>                </td><td>                </td><td>                </td><td>                </td><td>                </td><td>                </td></tr>\n",
       "<tr><td>6      </td><td>1       </td><td>0    </td><td>0               </td><td>0                </td><td>1             </td><td>0            </td><td>0                   </td><td>0.0                </td><td>0                </td><td>0.0                  </td><td>0                </td><td>0.0                </td><td>0.0                 </td><td>1                    </td><td>1.0               </td><td>0.0                </td><td>0            </td><td>0             </td><td>1               </td><td>0.11627907         </td><td>2      </td><td>0                </td><td>1      </td><td>3            </td><td>2         </td><td>0               </td><td>0               </td><td>0               </td><td>0               </td><td>0               </td><td>0               </td><td>0               </td><td>0               </td><td>0               </td><td>0               </td><td>0               </td><td>0               </td><td>0               </td><td>1               </td><td>0               </td><td>0               </td><td>0               </td><td>0             </td><td>0             </td><td>0             </td><td>0             </td><td>0             </td><td>0           </td><td>0.000154419          </td><td>2.0               </td><td>0.0                </td><td>0.0               </td><td>0.00024999           </td><td>0                          </td><td>0               </td><td>0                  </td><td>0          </td><td>0.125              </td><td>0.131578947            </td><td>0.325              </td><td>0              </td><td>0              </td><td>0.0               </td><td>0            </td><td>0            </td><td>0            </td><td>0            </td><td>0.0               </td><td>0        </td><td>0        </td><td>0        </td><td>0        </td><td>0        </td><td>0        </td><td>0        </td><td>0        </td><td>0.0                   </td><td>nan                   </td><td>nan                 </td><td>nan                  </td><td>nan                  </td><td>nan                 </td><td>nan                        </td><td>nan                        </td><td>nan                     </td><td>nan                    </td><td>nan                     </td><td>nan                 </td><td>nan                   </td><td>nan                  </td><td>nan                  </td><td>nan                 </td><td>1                       </td><td>0.03125            </td><td>0                    </td><td>0                    </td><td>0                    </td><td>0                    </td><td>0                    </td><td>0                    </td><td>0                    </td><td>0                    </td><td>0                    </td><td>0                    </td><td>0                    </td><td>0                    </td><td>0                    </td><td>1                    </td><td>0                    </td><td>0                    </td><td>0                    </td><td>                   </td><td>                   </td><td>                   </td><td>                   </td><td>                   </td><td>0                </td><td>0.00014021299999999998</td><td>2                   </td><td>                </td><td>                </td><td>                </td><td>                </td><td>                </td><td>                </td><td>                </td></tr>\n",
       "<tr><td>7      </td><td>1       </td><td>0    </td><td>0               </td><td>0                </td><td>1             </td><td>0            </td><td>0                   </td><td>0.0                </td><td>0                </td><td>0.0                  </td><td>0                </td><td>1.0                </td><td>0.0                 </td><td>1                    </td><td>1.0               </td><td>0.0                </td><td>0            </td><td>2             </td><td>1               </td><td>0.11627907         </td><td>2      </td><td>0                </td><td>2      </td><td>3            </td><td>2         </td><td>0               </td><td>0               </td><td>0               </td><td>0               </td><td>0               </td><td>0               </td><td>0               </td><td>0               </td><td>0               </td><td>0               </td><td>0               </td><td>0               </td><td>0               </td><td>0               </td><td>0               </td><td>1               </td><td>0               </td><td>0             </td><td>0             </td><td>0             </td><td>0             </td><td>0             </td><td>0           </td><td>0.001100306          </td><td>1.0               </td><td>1.0                </td><td>1.0               </td><td>0.000208323          </td><td>0                          </td><td>0               </td><td>0                  </td><td>0          </td><td>0.125              </td><td>0.131578947            </td><td>0.2                </td><td>1              </td><td>0              </td><td>0.0               </td><td>0            </td><td>0            </td><td>0            </td><td>0            </td><td>0.0               </td><td>0        </td><td>0        </td><td>0        </td><td>0        </td><td>0        </td><td>0        </td><td>0        </td><td>0        </td><td>0.0                   </td><td>0.0                   </td><td>0.0                 </td><td>0.0                  </td><td>0.0                  </td><td>0.0                 </td><td>0.32                       </td><td>0.322580645                </td><td>0.14285714300000002     </td><td>0.103030303            </td><td>0.0                     </td><td>0.037735849         </td><td>0.0                   </td><td>0.0                  </td><td>0.0                  </td><td>0.045103093         </td><td>1                       </td><td>0.0625             </td><td>0                    </td><td>0                    </td><td>0                    </td><td>0                    </td><td>0                    </td><td>0                    </td><td>0                    </td><td>0                    </td><td>0                    </td><td>0                    </td><td>0                    </td><td>0                    </td><td>0                    </td><td>1                    </td><td>0                    </td><td>1                    </td><td>1                    </td><td>1                  </td><td>1                  </td><td>1                  </td><td>0                  </td><td>0                  </td><td>1                </td><td>0.000999067           </td><td>0                   </td><td>                </td><td>                </td><td>                </td><td>                </td><td>                </td><td>                </td><td>                </td></tr>\n",
       "<tr><td>8      </td><td>1       </td><td>0    </td><td>0               </td><td>0                </td><td>1             </td><td>0            </td><td>0                   </td><td>0.0                </td><td>0                </td><td>0.0                  </td><td>0                </td><td>0.0                </td><td>0.0                 </td><td>1                    </td><td>2.0               </td><td>0.0                </td><td>0            </td><td>0             </td><td>1               </td><td>0.162790698        </td><td>1      </td><td>0                </td><td>1      </td><td>3            </td><td>0         </td><td>0               </td><td>0               </td><td>0               </td><td>0               </td><td>0               </td><td>0               </td><td>0               </td><td>0               </td><td>0               </td><td>0               </td><td>0               </td><td>0               </td><td>0               </td><td>0               </td><td>0               </td><td>0               </td><td>0               </td><td>0             </td><td>0             </td><td>0             </td><td>0             </td><td>0             </td><td>0           </td><td>nan                  </td><td>1.0               </td><td>0.0                </td><td>0.0               </td><td>0.000166657          </td><td>0                          </td><td>0               </td><td>0                  </td><td>1          </td><td>0.125              </td><td>0.184210526            </td><td>0.2                </td><td>0              </td><td>0              </td><td>0.0               </td><td>0            </td><td>0            </td><td>0            </td><td>0            </td><td>100.0             </td><td>0        </td><td>0        </td><td>0        </td><td>0        </td><td>0        </td><td>0        </td><td>0        </td><td>0        </td><td>0.0                   </td><td>nan                   </td><td>nan                 </td><td>nan                  </td><td>nan                  </td><td>nan                 </td><td>nan                        </td><td>nan                        </td><td>nan                     </td><td>nan                    </td><td>nan                     </td><td>nan                 </td><td>nan                   </td><td>nan                  </td><td>nan                  </td><td>nan                 </td><td>1                       </td><td>0.0                </td><td>                     </td><td>                     </td><td>                     </td><td>                     </td><td>                     </td><td>                     </td><td>                     </td><td>                     </td><td>                     </td><td>                     </td><td>                     </td><td>                     </td><td>                     </td><td>                     </td><td>                     </td><td>                     </td><td>                     </td><td>                   </td><td>                   </td><td>                   </td><td>                   </td><td>                   </td><td>0                </td><td>0.0                   </td><td>2                   </td><td>1               </td><td>0               </td><td>0               </td><td>0               </td><td>0               </td><td>0               </td><td>0               </td></tr>\n",
       "<tr><td>9      </td><td>1       </td><td>0    </td><td>0               </td><td>0                </td><td>              </td><td>0            </td><td>1                   </td><td>0.0                </td><td>0                </td><td>0.0                  </td><td>1                </td><td>0.0                </td><td>1.0                 </td><td>1                    </td><td>0.0               </td><td>0.0                </td><td>0            </td><td>2             </td><td>0               </td><td>0.162790698        </td><td>0      </td><td>2                </td><td>4      </td><td>5            </td><td>2         </td><td>0               </td><td>0               </td><td>0               </td><td>0               </td><td>0               </td><td>1               </td><td>0               </td><td>0               </td><td>0               </td><td>0               </td><td>0               </td><td>0               </td><td>0               </td><td>1               </td><td>0               </td><td>0               </td><td>0               </td><td>0             </td><td>0             </td><td>0             </td><td>0             </td><td>0             </td><td>0           </td><td>0.000256174          </td><td>2.0               </td><td>1.0                </td><td>1.0               </td><td>nan                  </td><td>0                          </td><td>0               </td><td>0                  </td><td>0          </td><td>0.25               </td><td>0.026315789            </td><td>0.25               </td><td>0              </td><td>0              </td><td>0.0               </td><td>0            </td><td>0            </td><td>0            </td><td>0            </td><td>0.0               </td><td>0        </td><td>0        </td><td>0        </td><td>0        </td><td>0        </td><td>0        </td><td>0        </td><td>0        </td><td>0.0                   </td><td>0.00014994799999999998</td><td>0.000150075         </td><td>0.0                  </td><td>0.0                  </td><td>0.0                 </td><td>0.0                        </td><td>0.0                        </td><td>0.0                     </td><td>0.0                    </td><td>0.0                     </td><td>0.314465409         </td><td>0.0                   </td><td>0.0                  </td><td>0.0                  </td><td>0.0                 </td><td>1                       </td><td>0.03125            </td><td>0                    </td><td>0                    </td><td>0                    </td><td>0                    </td><td>0                    </td><td>1                    </td><td>0                    </td><td>0                    </td><td>0                    </td><td>0                    </td><td>0                    </td><td>0                    </td><td>0                    </td><td>1                    </td><td>0                    </td><td>0                    </td><td>0                    </td><td>                   </td><td>                   </td><td>                   </td><td>                   </td><td>                   </td><td>0                </td><td>0.000211104           </td><td>2                   </td><td>                </td><td>                </td><td>                </td><td>                </td><td>                </td><td>                </td><td>                </td></tr>\n",
       "</tbody>\n",
       "</table>"
      ]
     },
     "metadata": {},
     "output_type": "display_data"
    }
   ],
   "source": [
    "column_list = hf_train.col_names\n",
    "for i in column_list:\n",
    "    if i in categorical_vars:\n",
    "        hf_train[i] = hf_train[i].asfactor()\n",
    "    else:\n",
    "        hf_train[i] = hf_train[i].asnumeric()\n",
    "hf_train.describe()"
   ]
  },
  {
   "cell_type": "code",
   "execution_count": 25,
   "metadata": {},
   "outputs": [
    {
     "name": "stdout",
     "output_type": "stream",
     "text": [
      "Rows:30000\n",
      "Cols:126\n",
      "\n",
      "\n"
     ]
    },
    {
     "data": {
      "text/html": [
       "<table>\n",
       "<thead>\n",
       "<tr><th>       </th><th>GENDER  </th><th>AGE  </th><th>CHARGE_CITY_CD  </th><th>CONTACT_CITY_CD  </th><th>EDUCATION_CD  </th><th>MARRIAGE_CD  </th><th>LAST_A_CCONTACT_DT  </th><th>L1YR_A_ISSUE_CNT   </th><th>LAST_A_ISSUE_DT  </th><th>L1YR_B_ISSUE_CNT     </th><th>LAST_B_ISSUE_DT  </th><th>CHANNEL_A_POL_CNT  </th><th>CHANNEL_B_POL_CNT  </th><th>OCCUPATION_CLASS_CD  </th><th>APC_CNT           </th><th>INSD_CNT           </th><th>APC_1ST_AGE  </th><th>INSD_1ST_AGE  </th><th>IF_2ND_GEN_IND  </th><th>APC_1ST_YEARDIF    </th><th>RFM_R  </th><th>REBUY_TIMES_CNT  </th><th>LEVEL  </th><th>RFM_M_LEVEL  </th><th>LIFE_CNT  </th><th>IF_ISSUE_A_IND  </th><th>IF_ISSUE_B_IND  </th><th>IF_ISSUE_C_IND  </th><th>IF_ISSUE_D_IND  </th><th>IF_ISSUE_E_IND  </th><th>IF_ISSUE_F_IND  </th><th>IF_ISSUE_G_IND  </th><th>IF_ISSUE_H_IND  </th><th>IF_ISSUE_I_IND  </th><th>IF_ISSUE_J_IND  </th><th>IF_ISSUE_K_IND  </th><th>IF_ISSUE_L_IND  </th><th>IF_ISSUE_M_IND  </th><th>IF_ISSUE_N_IND  </th><th>IF_ISSUE_O_IND  </th><th>IF_ISSUE_P_IND  </th><th>IF_ISSUE_Q_IND  </th><th>IF_ADD_F_IND  </th><th>IF_ADD_L_IND  </th><th>IF_ADD_Q_IND  </th><th>IF_ADD_G_IND  </th><th>IF_ADD_R_IND  </th><th>IF_ADD_IND  </th><th>ANNUAL_PREMIUM_AMT   </th><th>AG_CNT            </th><th>AG_NOW_CNT         </th><th>CLC_CUR_NUM       </th><th>ANNUAL_INCOME_AMT    </th><th>L1YR_PAYMENT_REMINDER_IND  </th><th>L1YR_LAPSE_IND  </th><th>LAST_B_CONTACT_DT  </th><th>LAST_C_DT  </th><th>BANK_NUMBER_CNT    </th><th>INSD_LAST_YEARDIF_CNT  </th><th>BMI                </th><th>IF_S_REAL_IND  </th><th>IF_Y_REAL_IND  </th><th>IM_CNT             </th><th>IM_IS_A_IND  </th><th>IM_IS_B_IND  </th><th>IM_IS_C_IND  </th><th>IM_IS_D_IND  </th><th>TERMINATION_RATE  </th><th>X_A_IND  </th><th>X_B_IND  </th><th>X_C_IND  </th><th>X_D_IND  </th><th>X_E_IND  </th><th>X_F_IND  </th><th>X_G_IND  </th><th>X_H_IND  </th><th>TOOL_VISIT_1YEAR_CNT  </th><th>DIEBENEFIT_AMT       </th><th>DIEACCIDENT_AMT      </th><th>POLICY_VALUE_AMT     </th><th>ANNUITY_AMT         </th><th>EXPIRATION_AMT       </th><th>ACCIDENT_HOSPITAL_REC_AMT  </th><th>DISEASES_HOSPITAL_REC_AMT  </th><th>OUTPATIENT_SURGERY_AMT  </th><th>INPATIENT_SURGERY_AMT  </th><th>PAY_LIMIT_MED_MISC_AMT  </th><th>FIRST_CANCER_AMT    </th><th>ILL_ACCELERATION_AMT  </th><th>ILL_ADDITIONAL_AMT   </th><th>LONG_TERM_CARE_AMT   </th><th>MONTHLY_CARE_AMT   </th><th>IF_HOUSEHOLD_CLAIM_IND  </th><th>LIFE_INSD_CNT       </th><th>IF_ISSUE_INSD_A_IND  </th><th>IF_ISSUE_INSD_B_IND  </th><th>IF_ISSUE_INSD_C_IND  </th><th>IF_ISSUE_INSD_D_IND  </th><th>IF_ISSUE_INSD_E_IND  </th><th>IF_ISSUE_INSD_F_IND  </th><th>IF_ISSUE_INSD_G_IND  </th><th>IF_ISSUE_INSD_H_IND  </th><th>IF_ISSUE_INSD_I_IND  </th><th>IF_ISSUE_INSD_J_IND  </th><th>IF_ISSUE_INSD_K_IND  </th><th>IF_ISSUE_INSD_L_IND  </th><th>IF_ISSUE_INSD_M_IND  </th><th>IF_ISSUE_INSD_N_IND  </th><th>IF_ISSUE_INSD_O_IND  </th><th>IF_ISSUE_INSD_P_IND  </th><th>IF_ISSUE_INSD_Q_IND  </th><th>IF_ADD_INSD_F_IND  </th><th>IF_ADD_INSD_L_IND  </th><th>IF_ADD_INSD_Q_IND  </th><th>IF_ADD_INSD_G_IND  </th><th>IF_ADD_INSD_R_IND  </th><th>IF_ADD_INSD_IND  </th><th>L1YR_GROSS_PRE_AMT    </th><th>CUST_9_SEGMENTS_CD  </th><th>FINANCETOOLS_A  </th><th>FINANCETOOLS_B  </th><th>FINANCETOOLS_C  </th><th>FINANCETOOLS_D  </th><th>FINANCETOOLS_E  </th><th>FINANCETOOLS_F  </th><th>FINANCETOOLS_G  </th></tr>\n",
       "</thead>\n",
       "<tbody>\n",
       "<tr><td>type   </td><td>enum    </td><td>enum </td><td>enum            </td><td>enum             </td><td>enum          </td><td>enum         </td><td>enum                </td><td>int                </td><td>enum             </td><td>int                  </td><td>enum             </td><td>int                </td><td>int                </td><td>enum                 </td><td>int               </td><td>int                </td><td>enum         </td><td>enum          </td><td>enum            </td><td>real               </td><td>enum   </td><td>enum             </td><td>enum   </td><td>enum         </td><td>enum      </td><td>enum            </td><td>enum            </td><td>enum            </td><td>enum            </td><td>enum            </td><td>enum            </td><td>enum            </td><td>enum            </td><td>enum            </td><td>enum            </td><td>enum            </td><td>enum            </td><td>enum            </td><td>enum            </td><td>enum            </td><td>enum            </td><td>enum            </td><td>enum          </td><td>enum          </td><td>enum          </td><td>enum          </td><td>enum          </td><td>enum        </td><td>real                 </td><td>int               </td><td>int                </td><td>int               </td><td>real                 </td><td>enum                       </td><td>enum            </td><td>enum               </td><td>enum       </td><td>real               </td><td>real                   </td><td>real               </td><td>enum           </td><td>enum           </td><td>int                </td><td>enum         </td><td>enum         </td><td>enum         </td><td>enum         </td><td>real              </td><td>enum     </td><td>enum     </td><td>enum     </td><td>enum     </td><td>enum     </td><td>enum     </td><td>enum     </td><td>enum     </td><td>int                   </td><td>real                 </td><td>real                 </td><td>real                 </td><td>real                </td><td>real                 </td><td>real                       </td><td>real                       </td><td>real                    </td><td>real                   </td><td>real                    </td><td>real                </td><td>real                  </td><td>real                 </td><td>real                 </td><td>real               </td><td>enum                    </td><td>real                </td><td>enum                 </td><td>enum                 </td><td>enum                 </td><td>enum                 </td><td>enum                 </td><td>enum                 </td><td>enum                 </td><td>enum                 </td><td>enum                 </td><td>enum                 </td><td>enum                 </td><td>enum                 </td><td>enum                 </td><td>enum                 </td><td>enum                 </td><td>enum                 </td><td>enum                 </td><td>enum               </td><td>enum               </td><td>enum               </td><td>enum               </td><td>enum               </td><td>enum             </td><td>real                  </td><td>enum                </td><td>enum            </td><td>enum            </td><td>enum            </td><td>enum            </td><td>enum            </td><td>enum            </td><td>enum            </td></tr>\n",
       "<tr><td>mins   </td><td>        </td><td>     </td><td>                </td><td>                 </td><td>              </td><td>             </td><td>                    </td><td>0.0                </td><td>                 </td><td>0.0                  </td><td>                 </td><td>0.0                </td><td>0.0                </td><td>                     </td><td>0.0               </td><td>0.0                </td><td>             </td><td>              </td><td>                </td><td>0.0                </td><td>       </td><td>                 </td><td>       </td><td>             </td><td>          </td><td>                </td><td>                </td><td>                </td><td>                </td><td>                </td><td>                </td><td>                </td><td>                </td><td>                </td><td>                </td><td>                </td><td>                </td><td>                </td><td>                </td><td>                </td><td>                </td><td>                </td><td>              </td><td>              </td><td>              </td><td>              </td><td>              </td><td>            </td><td>0.0                  </td><td>0.0               </td><td>0.0                </td><td>0.0               </td><td>0.0                  </td><td>                           </td><td>                </td><td>                   </td><td>           </td><td>0.0                </td><td>0.0                    </td><td>0.0                </td><td>               </td><td>               </td><td>0.0                </td><td>             </td><td>             </td><td>             </td><td>             </td><td>0.0               </td><td>         </td><td>         </td><td>         </td><td>         </td><td>         </td><td>         </td><td>         </td><td>         </td><td>0.0                   </td><td>0.0                  </td><td>0.0                  </td><td>0.0                  </td><td>0.0                 </td><td>0.0                  </td><td>0.0                        </td><td>0.0                        </td><td>0.0                     </td><td>0.0                    </td><td>0.0                     </td><td>0.0                 </td><td>0.0                   </td><td>0.0                  </td><td>0.0                  </td><td>0.0                </td><td>                        </td><td>0.0                 </td><td>                     </td><td>                     </td><td>                     </td><td>                     </td><td>                     </td><td>                     </td><td>                     </td><td>                     </td><td>                     </td><td>                     </td><td>                     </td><td>                     </td><td>                     </td><td>                     </td><td>                     </td><td>                     </td><td>                     </td><td>                   </td><td>                   </td><td>                   </td><td>                   </td><td>                   </td><td>                 </td><td>0.0                   </td><td>                    </td><td>                </td><td>                </td><td>                </td><td>                </td><td>                </td><td>                </td><td>                </td></tr>\n",
       "<tr><td>mean   </td><td>        </td><td>     </td><td>                </td><td>                 </td><td>              </td><td>             </td><td>                    </td><td>0.11530000000000001</td><td>                 </td><td>0.0031666666666666666</td><td>                 </td><td>1.6160666666666659 </td><td>0.03163333333333334</td><td>                     </td><td>0.680266666666667 </td><td>0.28590000000000004</td><td>             </td><td>              </td><td>                </td><td>0.25972677856694043</td><td>       </td><td>                 </td><td>       </td><td>             </td><td>          </td><td>                </td><td>                </td><td>                </td><td>                </td><td>                </td><td>                </td><td>                </td><td>                </td><td>                </td><td>                </td><td>                </td><td>                </td><td>                </td><td>                </td><td>                </td><td>                </td><td>                </td><td>              </td><td>              </td><td>              </td><td>              </td><td>              </td><td>            </td><td>0.0012369890674006447</td><td>0.9743000000000004</td><td>0.45516666666666666</td><td>0.5572999999999999</td><td>0.0005904154066943777</td><td>                           </td><td>                </td><td>                   </td><td>           </td><td>0.05624166666666666</td><td>0.17220830852852617    </td><td>0.2646570707879565 </td><td>               </td><td>               </td><td>0.38199999999999995</td><td>             </td><td>             </td><td>             </td><td>             </td><td>12.307752908521824</td><td>         </td><td>         </td><td>         </td><td>         </td><td>         </td><td>         </td><td>         </td><td>         </td><td>1.4167333333333323    </td><td>0.0030720368671564545</td><td>0.004377371704713056 </td><td>0.0008548746176508638</td><td>0.002326608546668516</td><td>0.0003515623232603271</td><td>0.1511290775713889         </td><td>0.13616454726323812        </td><td>0.08913817805068848     </td><td>0.05902862516731355    </td><td>0.09413351353848995     </td><td>0.014329183001894463</td><td>0.0043224471366324745 </td><td>0.0022416351284539325</td><td>0.0024495121610756867</td><td>0.0184443722341743 </td><td>                        </td><td>0.031104166666666648</td><td>                     </td><td>                     </td><td>                     </td><td>                     </td><td>                     </td><td>                     </td><td>                     </td><td>                     </td><td>                     </td><td>                     </td><td>                     </td><td>                     </td><td>                     </td><td>                     </td><td>                     </td><td>                     </td><td>                     </td><td>                   </td><td>                   </td><td>                   </td><td>                   </td><td>                   </td><td>                 </td><td>0.0005133965867333333 </td><td>                    </td><td>                </td><td>                </td><td>                </td><td>                </td><td>                </td><td>                </td><td>                </td></tr>\n",
       "<tr><td>maxs   </td><td>        </td><td>     </td><td>                </td><td>                 </td><td>              </td><td>             </td><td>                    </td><td>22.0               </td><td>                 </td><td>2.0                  </td><td>                 </td><td>97.0               </td><td>17.0               </td><td>                     </td><td>4.0               </td><td>19.0               </td><td>             </td><td>              </td><td>                </td><td>0.8372093          </td><td>       </td><td>                 </td><td>       </td><td>             </td><td>          </td><td>                </td><td>                </td><td>                </td><td>                </td><td>                </td><td>                </td><td>                </td><td>                </td><td>                </td><td>                </td><td>                </td><td>                </td><td>                </td><td>                </td><td>                </td><td>                </td><td>                </td><td>              </td><td>              </td><td>              </td><td>              </td><td>              </td><td>            </td><td>0.1523081            </td><td>18.0              </td><td>8.0                </td><td>8.0               </td><td>0.04166666           </td><td>                           </td><td>                </td><td>                   </td><td>           </td><td>0.75               </td><td>0.9210526              </td><td>0.925              </td><td>               </td><td>               </td><td>4.0                </td><td>             </td><td>             </td><td>             </td><td>             </td><td>100.0             </td><td>         </td><td>         </td><td>         </td><td>         </td><td>         </td><td>         </td><td>         </td><td>         </td><td>176.0                 </td><td>0.1170767            </td><td>0.13256529999999994  </td><td>0.2385341            </td><td>0.3626428           </td><td>0.2875879000000001   </td><td>0.8                        </td><td>0.8602151                  </td><td>0.6825397               </td><td>0.7272727              </td><td>0.9375                  </td><td>0.6289308000000001  </td><td>0.5128205             </td><td>0.3                  </td><td>0.6428571            </td><td>0.8591065000000001 </td><td>                        </td><td>0.875               </td><td>                     </td><td>                     </td><td>                     </td><td>                     </td><td>                     </td><td>                     </td><td>                     </td><td>                     </td><td>                     </td><td>                     </td><td>                     </td><td>                     </td><td>                     </td><td>                     </td><td>                     </td><td>                     </td><td>                     </td><td>                   </td><td>                   </td><td>                   </td><td>                   </td><td>                   </td><td>                 </td><td>0.1380289             </td><td>                    </td><td>                </td><td>                </td><td>                </td><td>                </td><td>                </td><td>                </td><td>                </td></tr>\n",
       "<tr><td>sigma  </td><td>        </td><td>     </td><td>                </td><td>                 </td><td>              </td><td>             </td><td>                    </td><td>0.5527652560665124 </td><td>                 </td><td>0.05963855671853966  </td><td>                 </td><td>3.331280801225675  </td><td>0.2742903086050777 </td><td>                     </td><td>0.6148575964272961</td><td>0.7629639094550308 </td><td>             </td><td>              </td><td>                </td><td>0.18261582362004228</td><td>       </td><td>                 </td><td>       </td><td>             </td><td>          </td><td>                </td><td>                </td><td>                </td><td>                </td><td>                </td><td>                </td><td>                </td><td>                </td><td>                </td><td>                </td><td>                </td><td>                </td><td>                </td><td>                </td><td>                </td><td>                </td><td>                </td><td>              </td><td>              </td><td>              </td><td>              </td><td>              </td><td>            </td><td>0.003795304350987687 </td><td>1.2116469973889026</td><td>0.7174541543339251 </td><td>0.741845708016038 </td><td>0.0008268310826685405</td><td>                           </td><td>                </td><td>                   </td><td>           </td><td>0.08425301112058241</td><td>0.1408000339202579     </td><td>0.09166053221325729</td><td>               </td><td>               </td><td>0.6908631628118005 </td><td>             </td><td>             </td><td>             </td><td>             </td><td>27.768327666024764</td><td>         </td><td>         </td><td>         </td><td>         </td><td>         </td><td>         </td><td>         </td><td>         </td><td>4.041502746962324     </td><td>0.005730175883949099 </td><td>0.0067721831971048665</td><td>0.005322392077376645 </td><td>0.00904816092039405 </td><td>0.0042997075852667195</td><td>0.1506487488707617         </td><td>0.1387839616768331         </td><td>0.10104906394438698     </td><td>0.07837990174335115    </td><td>0.16683523349346677     </td><td>0.03349499955713902 </td><td>0.01451957205622006   </td><td>0.00972907495704372  </td><td>0.020064273780075883 </td><td>0.04002663616006903</td><td>                        </td><td>0.03372829721141655 </td><td>                     </td><td>                     </td><td>                     </td><td>                     </td><td>                     </td><td>                     </td><td>                     </td><td>                     </td><td>                     </td><td>                     </td><td>                     </td><td>                     </td><td>                     </td><td>                     </td><td>                     </td><td>                     </td><td>                     </td><td>                   </td><td>                   </td><td>                   </td><td>                   </td><td>                   </td><td>                 </td><td>0.002681031179157829  </td><td>                    </td><td>                </td><td>                </td><td>                </td><td>                </td><td>                </td><td>                </td><td>                </td></tr>\n",
       "<tr><td>zeros  </td><td>        </td><td>     </td><td>                </td><td>                 </td><td>              </td><td>             </td><td>                    </td><td>28048              </td><td>                 </td><td>29911                </td><td>                 </td><td>16646              </td><td>29365              </td><td>                     </td><td>11903             </td><td>25198              </td><td>             </td><td>              </td><td>                </td><td>482                </td><td>       </td><td>                 </td><td>       </td><td>             </td><td>          </td><td>                </td><td>                </td><td>                </td><td>                </td><td>                </td><td>                </td><td>                </td><td>                </td><td>                </td><td>                </td><td>                </td><td>                </td><td>                </td><td>                </td><td>                </td><td>                </td><td>                </td><td>              </td><td>              </td><td>              </td><td>              </td><td>              </td><td>            </td><td>380                  </td><td>13075             </td><td>19473              </td><td>16891             </td><td>2                    </td><td>                           </td><td>                </td><td>                   </td><td>           </td><td>19140              </td><td>1890                   </td><td>17                 </td><td>               </td><td>               </td><td>21591              </td><td>             </td><td>             </td><td>             </td><td>             </td><td>13078             </td><td>         </td><td>         </td><td>         </td><td>         </td><td>         </td><td>         </td><td>         </td><td>         </td><td>20556                 </td><td>4095                 </td><td>4007                 </td><td>18508                </td><td>16192               </td><td>21272                </td><td>7976                       </td><td>8558                       </td><td>9843                    </td><td>9432                   </td><td>15850                   </td><td>13125               </td><td>18824                 </td><td>19514                </td><td>21136                </td><td>15730              </td><td>                        </td><td>6080                </td><td>                     </td><td>                     </td><td>                     </td><td>                     </td><td>                     </td><td>                     </td><td>                     </td><td>                     </td><td>                     </td><td>                     </td><td>                     </td><td>                     </td><td>                     </td><td>                     </td><td>                     </td><td>                     </td><td>                     </td><td>                   </td><td>                   </td><td>                   </td><td>                   </td><td>                   </td><td>                 </td><td>18372                 </td><td>                    </td><td>                </td><td>                </td><td>                </td><td>                </td><td>                </td><td>                </td><td>                </td></tr>\n",
       "<tr><td>missing</td><td>214     </td><td>0    </td><td>0               </td><td>0                </td><td>6080          </td><td>2330         </td><td>0                   </td><td>0                  </td><td>0                </td><td>0                    </td><td>0                </td><td>0                  </td><td>0                  </td><td>1213                 </td><td>0                 </td><td>0                  </td><td>13067        </td><td>45            </td><td>0               </td><td>13067              </td><td>13072  </td><td>13067            </td><td>13073  </td><td>13067        </td><td>0         </td><td>0               </td><td>0               </td><td>0               </td><td>0               </td><td>0               </td><td>0               </td><td>0               </td><td>0               </td><td>0               </td><td>0               </td><td>0               </td><td>0               </td><td>0               </td><td>0               </td><td>0               </td><td>0               </td><td>0               </td><td>0             </td><td>0             </td><td>0             </td><td>0             </td><td>0             </td><td>0           </td><td>18828                </td><td>0                 </td><td>0                  </td><td>0                 </td><td>11716                </td><td>0                          </td><td>0               </td><td>0                  </td><td>0          </td><td>0                  </td><td>45                     </td><td>5024               </td><td>0              </td><td>0              </td><td>0                  </td><td>0            </td><td>0            </td><td>0            </td><td>0            </td><td>13067             </td><td>10       </td><td>10       </td><td>10       </td><td>10       </td><td>10       </td><td>10       </td><td>10       </td><td>10       </td><td>0                     </td><td>8358                 </td><td>8358                 </td><td>8358                 </td><td>8358                </td><td>8358                 </td><td>8358                       </td><td>8358                       </td><td>8358                    </td><td>8358                   </td><td>8358                    </td><td>8358                </td><td>8358                  </td><td>8358                 </td><td>8358                 </td><td>8358               </td><td>0                       </td><td>0                   </td><td>6080                 </td><td>6080                 </td><td>6080                 </td><td>6080                 </td><td>6080                 </td><td>6080                 </td><td>6080                 </td><td>6080                 </td><td>6080                 </td><td>6080                 </td><td>6080                 </td><td>6080                 </td><td>6080                 </td><td>6080                 </td><td>6080                 </td><td>6080                 </td><td>6080                 </td><td>15630              </td><td>15630              </td><td>15630              </td><td>15630              </td><td>15630              </td><td>45               </td><td>0                     </td><td>0                   </td><td>18788           </td><td>18788           </td><td>18788           </td><td>18788           </td><td>18788           </td><td>18788           </td><td>18788           </td></tr>\n",
       "<tr><td>0      </td><td>1       </td><td>0    </td><td>0               </td><td>0                </td><td>              </td><td>             </td><td>1                   </td><td>0.0                </td><td>0                </td><td>0.0                  </td><td>0                </td><td>0.0                </td><td>0.0                </td><td>1                    </td><td>0.0               </td><td>0.0                </td><td>0            </td><td>0             </td><td>0               </td><td>0.046511628        </td><td>0      </td><td>0                </td><td>3      </td><td>3            </td><td>2         </td><td>0               </td><td>0               </td><td>0               </td><td>0               </td><td>0               </td><td>0               </td><td>0               </td><td>0               </td><td>0               </td><td>0               </td><td>0               </td><td>0               </td><td>0               </td><td>1               </td><td>0               </td><td>0               </td><td>0               </td><td>0             </td><td>0             </td><td>0             </td><td>0             </td><td>0             </td><td>0           </td><td>0.000191961          </td><td>1.0               </td><td>0.0                </td><td>0.0               </td><td>0.0016666570000000002</td><td>0                          </td><td>0               </td><td>0                  </td><td>0          </td><td>0.125              </td><td>0.052631579000000005   </td><td>0.125              </td><td>0              </td><td>0              </td><td>0.0                </td><td>0            </td><td>0            </td><td>0            </td><td>0            </td><td>0.0               </td><td>0        </td><td>0        </td><td>0        </td><td>0        </td><td>0        </td><td>0        </td><td>0        </td><td>0        </td><td>0.0                   </td><td>nan                  </td><td>nan                  </td><td>nan                  </td><td>nan                 </td><td>nan                  </td><td>nan                        </td><td>nan                        </td><td>nan                     </td><td>nan                    </td><td>nan                     </td><td>nan                 </td><td>nan                   </td><td>nan                  </td><td>nan                  </td><td>nan                </td><td>0                       </td><td>0.015625            </td><td>0                    </td><td>0                    </td><td>0                    </td><td>0                    </td><td>0                    </td><td>0                    </td><td>0                    </td><td>0                    </td><td>0                    </td><td>0                    </td><td>0                    </td><td>0                    </td><td>0                    </td><td>1                    </td><td>0                    </td><td>0                    </td><td>0                    </td><td>                   </td><td>                   </td><td>                   </td><td>                   </td><td>                   </td><td>0                </td><td>0.00017413599999999995</td><td>2                   </td><td>                </td><td>                </td><td>                </td><td>                </td><td>                </td><td>                </td><td>                </td></tr>\n",
       "<tr><td>1      </td><td>1       </td><td>0    </td><td>0               </td><td>0                </td><td>              </td><td>0            </td><td>1                   </td><td>0.0                </td><td>0                </td><td>0.0                  </td><td>0                </td><td>0.0                </td><td>0.0                </td><td>1                    </td><td>0.0               </td><td>0.0                </td><td>0            </td><td>2             </td><td>0               </td><td>0.162790698        </td><td>1      </td><td>0                </td><td>5      </td><td>3            </td><td>2         </td><td>0               </td><td>0               </td><td>0               </td><td>0               </td><td>0               </td><td>0               </td><td>0               </td><td>0               </td><td>0               </td><td>0               </td><td>0               </td><td>0               </td><td>0               </td><td>0               </td><td>0               </td><td>1               </td><td>0               </td><td>0             </td><td>0             </td><td>0             </td><td>0             </td><td>0             </td><td>0           </td><td>nan                  </td><td>1.0               </td><td>0.0                </td><td>0.0               </td><td>0.004166657          </td><td>0                          </td><td>0               </td><td>0                  </td><td>0          </td><td>0.125              </td><td>0.210526316            </td><td>0.15               </td><td>0              </td><td>0              </td><td>0.0                </td><td>0            </td><td>0            </td><td>0            </td><td>0            </td><td>0.0               </td><td>0        </td><td>0        </td><td>0        </td><td>0        </td><td>0        </td><td>0        </td><td>0        </td><td>0        </td><td>0.0                   </td><td>nan                  </td><td>nan                  </td><td>nan                  </td><td>nan                 </td><td>nan                  </td><td>nan                        </td><td>nan                        </td><td>nan                     </td><td>nan                    </td><td>nan                     </td><td>nan                 </td><td>nan                   </td><td>nan                  </td><td>nan                  </td><td>nan                </td><td>0                       </td><td>0.015625            </td><td>0                    </td><td>0                    </td><td>0                    </td><td>0                    </td><td>0                    </td><td>0                    </td><td>0                    </td><td>0                    </td><td>0                    </td><td>0                    </td><td>0                    </td><td>0                    </td><td>0                    </td><td>0                    </td><td>0                    </td><td>1                    </td><td>0                    </td><td>                   </td><td>                   </td><td>                   </td><td>                   </td><td>                   </td><td>0                </td><td>0.0                   </td><td>2                   </td><td>                </td><td>                </td><td>                </td><td>                </td><td>                </td><td>                </td><td>                </td></tr>\n",
       "<tr><td>2      </td><td>1       </td><td>0    </td><td>0               </td><td>0                </td><td>              </td><td>0            </td><td>0                   </td><td>0.0                </td><td>0                </td><td>0.0                  </td><td>0                </td><td>0.0                </td><td>0.0                </td><td>1                    </td><td>1.0               </td><td>0.0                </td><td>0            </td><td>0             </td><td>1               </td><td>0.139534884        </td><td>1      </td><td>0                </td><td>1      </td><td>3            </td><td>2         </td><td>0               </td><td>0               </td><td>0               </td><td>0               </td><td>0               </td><td>0               </td><td>0               </td><td>0               </td><td>0               </td><td>0               </td><td>0               </td><td>0               </td><td>0               </td><td>1               </td><td>0               </td><td>0               </td><td>0               </td><td>0             </td><td>0             </td><td>0             </td><td>0             </td><td>0             </td><td>0           </td><td>0.000200745          </td><td>1.0               </td><td>0.0                </td><td>0.0               </td><td>0.000416657          </td><td>0                          </td><td>0               </td><td>0                  </td><td>0          </td><td>0.125              </td><td>0.15789473699999998    </td><td>0.3                </td><td>0              </td><td>0              </td><td>0.0                </td><td>0            </td><td>0            </td><td>0            </td><td>0            </td><td>0.0               </td><td>0        </td><td>0        </td><td>0        </td><td>0        </td><td>0        </td><td>0        </td><td>0        </td><td>0        </td><td>0.0                   </td><td>nan                  </td><td>nan                  </td><td>nan                  </td><td>nan                 </td><td>nan                  </td><td>nan                        </td><td>nan                        </td><td>nan                     </td><td>nan                    </td><td>nan                     </td><td>nan                 </td><td>nan                   </td><td>nan                  </td><td>nan                  </td><td>nan                </td><td>0                       </td><td>0.046875            </td><td>0                    </td><td>0                    </td><td>0                    </td><td>0                    </td><td>0                    </td><td>0                    </td><td>0                    </td><td>0                    </td><td>0                    </td><td>0                    </td><td>0                    </td><td>0                    </td><td>0                    </td><td>1                    </td><td>0                    </td><td>0                    </td><td>1                    </td><td>                   </td><td>                   </td><td>                   </td><td>                   </td><td>                   </td><td>0                </td><td>0.000182278           </td><td>2                   </td><td>                </td><td>                </td><td>                </td><td>                </td><td>                </td><td>                </td><td>                </td></tr>\n",
       "<tr><td>3      </td><td>1       </td><td>0    </td><td>0               </td><td>0                </td><td>1             </td><td>0            </td><td>0                   </td><td>0.0                </td><td>0                </td><td>0.0                  </td><td>0                </td><td>0.0                </td><td>0.0                </td><td>1                    </td><td>1.0               </td><td>1.0                </td><td>0            </td><td>0             </td><td>1               </td><td>0.209302326        </td><td>1      </td><td>0                </td><td>1      </td><td>3            </td><td>0         </td><td>0               </td><td>0               </td><td>0               </td><td>0               </td><td>0               </td><td>0               </td><td>0               </td><td>0               </td><td>0               </td><td>0               </td><td>0               </td><td>0               </td><td>0               </td><td>0               </td><td>0               </td><td>0               </td><td>0               </td><td>0             </td><td>0             </td><td>0             </td><td>0             </td><td>0             </td><td>0           </td><td>nan                  </td><td>1.0               </td><td>0.0                </td><td>0.0               </td><td>nan                  </td><td>0                          </td><td>0               </td><td>0                  </td><td>0          </td><td>0.0                </td><td>0.078947368            </td><td>0.15               </td><td>0              </td><td>0              </td><td>0.0                </td><td>0            </td><td>0            </td><td>0            </td><td>0            </td><td>0.0               </td><td>0        </td><td>0        </td><td>0        </td><td>0        </td><td>0        </td><td>0        </td><td>0        </td><td>0        </td><td>0.0                   </td><td>nan                  </td><td>nan                  </td><td>nan                  </td><td>nan                 </td><td>nan                  </td><td>nan                        </td><td>nan                        </td><td>nan                     </td><td>nan                    </td><td>nan                     </td><td>nan                 </td><td>nan                   </td><td>nan                  </td><td>nan                  </td><td>nan                </td><td>0                       </td><td>0.03125             </td><td>0                    </td><td>0                    </td><td>0                    </td><td>0                    </td><td>0                    </td><td>0                    </td><td>0                    </td><td>0                    </td><td>0                    </td><td>0                    </td><td>0                    </td><td>0                    </td><td>0                    </td><td>1                    </td><td>0                    </td><td>0                    </td><td>0                    </td><td>                   </td><td>                   </td><td>                   </td><td>                   </td><td>                   </td><td>0                </td><td>0.0                   </td><td>2                   </td><td>                </td><td>                </td><td>                </td><td>                </td><td>                </td><td>                </td><td>                </td></tr>\n",
       "<tr><td>4      </td><td>1       </td><td>0    </td><td>1               </td><td>1                </td><td>1             </td><td>0            </td><td>1                   </td><td>0.0                </td><td>0                </td><td>0.0                  </td><td>0                </td><td>1.0                </td><td>0.0                </td><td>1                    </td><td>1.0               </td><td>0.0                </td><td>0            </td><td>0             </td><td>1               </td><td>0.069767442        </td><td>2      </td><td>0                </td><td>5      </td><td>3            </td><td>2         </td><td>0               </td><td>0               </td><td>0               </td><td>0               </td><td>0               </td><td>0               </td><td>0               </td><td>0               </td><td>0               </td><td>0               </td><td>0               </td><td>0               </td><td>0               </td><td>0               </td><td>0               </td><td>1               </td><td>0               </td><td>0             </td><td>0             </td><td>0             </td><td>0             </td><td>0             </td><td>0           </td><td>0.019459171          </td><td>1.0               </td><td>1.0                </td><td>1.0               </td><td>0.00012499           </td><td>0                          </td><td>0               </td><td>0                  </td><td>0          </td><td>0.0                </td><td>0.078947368            </td><td>0.275              </td><td>0              </td><td>0              </td><td>0.0                </td><td>0            </td><td>0            </td><td>0            </td><td>0            </td><td>0.0               </td><td>0        </td><td>1        </td><td>0        </td><td>0        </td><td>0        </td><td>0        </td><td>1        </td><td>0        </td><td>1.0                   </td><td>0.030274696          </td><td>0.030274609          </td><td>0.0                  </td><td>0.07422306099999999 </td><td>0.0                  </td><td>0.0                        </td><td>0.0                        </td><td>0.0                     </td><td>0.0                    </td><td>0.0                     </td><td>0.0                 </td><td>0.0                   </td><td>0.0                  </td><td>0.0                  </td><td>0.0                </td><td>1                       </td><td>0.0625              </td><td>0                    </td><td>0                    </td><td>0                    </td><td>0                    </td><td>0                    </td><td>0                    </td><td>0                    </td><td>0                    </td><td>0                    </td><td>0                    </td><td>0                    </td><td>0                    </td><td>0                    </td><td>0                    </td><td>0                    </td><td>1                    </td><td>0                    </td><td>                   </td><td>                   </td><td>                   </td><td>                   </td><td>                   </td><td>0                </td><td>0.017311792           </td><td>0                   </td><td>1               </td><td>0               </td><td>0               </td><td>0               </td><td>0               </td><td>0               </td><td>0               </td></tr>\n",
       "<tr><td>5      </td><td>1       </td><td>0    </td><td>0               </td><td>0                </td><td>3             </td><td>0            </td><td>0                   </td><td>0.0                </td><td>0                </td><td>0.0                  </td><td>0                </td><td>2.0                </td><td>0.0                </td><td>1                    </td><td>0.0               </td><td>0.0                </td><td>0            </td><td>0             </td><td>0               </td><td>0.162790698        </td><td>1      </td><td>0                </td><td>1      </td><td>5            </td><td>2         </td><td>0               </td><td>0               </td><td>0               </td><td>0               </td><td>0               </td><td>0               </td><td>0               </td><td>0               </td><td>0               </td><td>0               </td><td>0               </td><td>0               </td><td>0               </td><td>1               </td><td>1               </td><td>0               </td><td>0               </td><td>0             </td><td>0             </td><td>0             </td><td>0             </td><td>0             </td><td>0           </td><td>0.000619463          </td><td>1.0               </td><td>0.0                </td><td>1.0               </td><td>8.329999999999999e-05</td><td>0                          </td><td>0               </td><td>0                  </td><td>1          </td><td>0.125              </td><td>0.184210526            </td><td>0.225              </td><td>0              </td><td>0              </td><td>0.0                </td><td>0            </td><td>0            </td><td>0            </td><td>0            </td><td>0.0               </td><td>0        </td><td>0        </td><td>1        </td><td>0        </td><td>0        </td><td>0        </td><td>0        </td><td>0        </td><td>0.0                   </td><td>nan                  </td><td>nan                  </td><td>nan                  </td><td>nan                 </td><td>nan                  </td><td>nan                        </td><td>nan                        </td><td>nan                     </td><td>nan                    </td><td>nan                     </td><td>nan                 </td><td>nan                   </td><td>nan                  </td><td>nan                  </td><td>nan                </td><td>0                       </td><td>0.03125             </td><td>0                    </td><td>0                    </td><td>0                    </td><td>0                    </td><td>0                    </td><td>0                    </td><td>0                    </td><td>0                    </td><td>0                    </td><td>0                    </td><td>0                    </td><td>0                    </td><td>0                    </td><td>1                    </td><td>1                    </td><td>0                    </td><td>0                    </td><td>                   </td><td>                   </td><td>                   </td><td>                   </td><td>                   </td><td>0                </td><td>0.000562464           </td><td>2                   </td><td>                </td><td>                </td><td>                </td><td>                </td><td>                </td><td>                </td><td>                </td></tr>\n",
       "<tr><td>6      </td><td>1       </td><td>0    </td><td>0               </td><td>0                </td><td>              </td><td>0            </td><td>1                   </td><td>0.0                </td><td>0                </td><td>0.0                  </td><td>0                </td><td>0.0                </td><td>0.0                </td><td>1                    </td><td>0.0               </td><td>0.0                </td><td>0            </td><td>0             </td><td>0               </td><td>0.11627907         </td><td>0      </td><td>2                </td><td>5      </td><td>5            </td><td>2         </td><td>0               </td><td>0               </td><td>0               </td><td>0               </td><td>0               </td><td>0               </td><td>0               </td><td>0               </td><td>0               </td><td>0               </td><td>0               </td><td>0               </td><td>0               </td><td>1               </td><td>0               </td><td>1               </td><td>0               </td><td>0             </td><td>0             </td><td>0             </td><td>0             </td><td>0             </td><td>0           </td><td>0.006065791          </td><td>1.0               </td><td>0.0                </td><td>0.0               </td><td>4.17e-05             </td><td>0                          </td><td>0               </td><td>0                  </td><td>0          </td><td>0.125              </td><td>0.0                    </td><td>0.125              </td><td>0              </td><td>0              </td><td>0.0                </td><td>0            </td><td>0            </td><td>0            </td><td>0            </td><td>0.0               </td><td>0        </td><td>0        </td><td>0        </td><td>0        </td><td>0        </td><td>0        </td><td>0        </td><td>0        </td><td>0.0                   </td><td>nan                  </td><td>nan                  </td><td>nan                  </td><td>nan                 </td><td>nan                  </td><td>nan                        </td><td>nan                        </td><td>nan                     </td><td>nan                    </td><td>nan                     </td><td>nan                 </td><td>nan                   </td><td>nan                  </td><td>nan                  </td><td>nan                </td><td>0                       </td><td>0.03125             </td><td>0                    </td><td>0                    </td><td>0                    </td><td>0                    </td><td>0                    </td><td>0                    </td><td>0                    </td><td>0                    </td><td>0                    </td><td>0                    </td><td>0                    </td><td>0                    </td><td>0                    </td><td>1                    </td><td>0                    </td><td>1                    </td><td>0                    </td><td>                   </td><td>                   </td><td>                   </td><td>                   </td><td>                   </td><td>0                </td><td>0.005559481999999999  </td><td>0                   </td><td>                </td><td>                </td><td>                </td><td>                </td><td>                </td><td>                </td><td>                </td></tr>\n",
       "<tr><td>7      </td><td>1       </td><td>0    </td><td>1               </td><td>1                </td><td>              </td><td>0            </td><td>0                   </td><td>0.0                </td><td>0                </td><td>0.0                  </td><td>0                </td><td>0.0                </td><td>0.0                </td><td>1                    </td><td>0.0               </td><td>0.0                </td><td>0            </td><td>0             </td><td>0               </td><td>0.186046512        </td><td>1      </td><td>0                </td><td>1      </td><td>3            </td><td>2         </td><td>0               </td><td>0               </td><td>0               </td><td>0               </td><td>0               </td><td>0               </td><td>0               </td><td>0               </td><td>0               </td><td>0               </td><td>0               </td><td>0               </td><td>0               </td><td>1               </td><td>0               </td><td>0               </td><td>0               </td><td>0             </td><td>0             </td><td>0             </td><td>0             </td><td>0             </td><td>0           </td><td>nan                  </td><td>1.0               </td><td>0.0                </td><td>0.0               </td><td>nan                  </td><td>0                          </td><td>0               </td><td>0                  </td><td>0          </td><td>0.125              </td><td>0.210526316            </td><td>0.175              </td><td>0              </td><td>0              </td><td>0.0                </td><td>0            </td><td>0            </td><td>0            </td><td>0            </td><td>0.0               </td><td>0        </td><td>0        </td><td>0        </td><td>0        </td><td>0        </td><td>0        </td><td>0        </td><td>0        </td><td>0.0                   </td><td>nan                  </td><td>nan                  </td><td>nan                  </td><td>nan                 </td><td>nan                  </td><td>nan                        </td><td>nan                        </td><td>nan                     </td><td>nan                    </td><td>nan                     </td><td>nan                 </td><td>nan                   </td><td>nan                  </td><td>nan                  </td><td>nan                </td><td>0                       </td><td>0.015625            </td><td>0                    </td><td>0                    </td><td>0                    </td><td>0                    </td><td>0                    </td><td>0                    </td><td>0                    </td><td>0                    </td><td>0                    </td><td>0                    </td><td>0                    </td><td>0                    </td><td>0                    </td><td>1                    </td><td>0                    </td><td>0                    </td><td>0                    </td><td>                   </td><td>                   </td><td>                   </td><td>                   </td><td>                   </td><td>0                </td><td>0.0                   </td><td>2                   </td><td>                </td><td>                </td><td>                </td><td>                </td><td>                </td><td>                </td><td>                </td></tr>\n",
       "<tr><td>8      </td><td>1       </td><td>0    </td><td>0               </td><td>0                </td><td>1             </td><td>0            </td><td>1                   </td><td>1.0                </td><td>1                </td><td>0.0                  </td><td>0                </td><td>1.0                </td><td>0.0                </td><td>1                    </td><td>0.0               </td><td>0.0                </td><td>0            </td><td>2             </td><td>0               </td><td>0.023255814        </td><td>0      </td><td>0                </td><td>5      </td><td>3            </td><td>2         </td><td>0               </td><td>0               </td><td>0               </td><td>0               </td><td>0               </td><td>0               </td><td>0               </td><td>0               </td><td>0               </td><td>0               </td><td>0               </td><td>0               </td><td>0               </td><td>0               </td><td>0               </td><td>1               </td><td>0               </td><td>0             </td><td>0             </td><td>0             </td><td>0             </td><td>0             </td><td>0           </td><td>0.003686873          </td><td>1.0               </td><td>1.0                </td><td>1.0               </td><td>nan                  </td><td>0                          </td><td>0               </td><td>0                  </td><td>0          </td><td>0.0                </td><td>0.026315789            </td><td>0.275              </td><td>0              </td><td>0              </td><td>0.0                </td><td>0            </td><td>0            </td><td>0            </td><td>0            </td><td>0.0               </td><td>0        </td><td>0        </td><td>0        </td><td>0        </td><td>0        </td><td>0        </td><td>0        </td><td>0        </td><td>2.0                   </td><td>nan                  </td><td>nan                  </td><td>nan                  </td><td>nan                 </td><td>nan                  </td><td>nan                        </td><td>nan                        </td><td>nan                     </td><td>nan                    </td><td>nan                     </td><td>nan                 </td><td>nan                   </td><td>nan                  </td><td>nan                  </td><td>nan                </td><td>0                       </td><td>0.015625            </td><td>0                    </td><td>0                    </td><td>0                    </td><td>0                    </td><td>0                    </td><td>0                    </td><td>0                    </td><td>0                    </td><td>0                    </td><td>0                    </td><td>0                    </td><td>0                    </td><td>0                    </td><td>0                    </td><td>0                    </td><td>1                    </td><td>0                    </td><td>                   </td><td>                   </td><td>                   </td><td>                   </td><td>                   </td><td>0                </td><td>0.003570094           </td><td>0                   </td><td>                </td><td>                </td><td>                </td><td>                </td><td>                </td><td>                </td><td>                </td></tr>\n",
       "<tr><td>9      </td><td>1       </td><td>0    </td><td>0               </td><td>0                </td><td>1             </td><td>0            </td><td>1                   </td><td>1.0                </td><td>1                </td><td>0.0                  </td><td>0                </td><td>3.0                </td><td>0.0                </td><td>1                    </td><td>0.0               </td><td>0.0                </td><td>0            </td><td>0             </td><td>0               </td><td>0.139534884        </td><td>0      </td><td>1                </td><td>5      </td><td>7            </td><td>3         </td><td>0               </td><td>0               </td><td>0               </td><td>0               </td><td>0               </td><td>0               </td><td>0               </td><td>0               </td><td>0               </td><td>0               </td><td>0               </td><td>0               </td><td>0               </td><td>1               </td><td>0               </td><td>1               </td><td>0               </td><td>0             </td><td>0             </td><td>0             </td><td>0             </td><td>0             </td><td>0           </td><td>0.007594879          </td><td>1.0               </td><td>1.0                </td><td>1.0               </td><td>0.001833323          </td><td>0                          </td><td>0               </td><td>0                  </td><td>0          </td><td>0.375              </td><td>0.0                    </td><td>0.15               </td><td>0              </td><td>0              </td><td>0.0                </td><td>0            </td><td>0            </td><td>0            </td><td>0            </td><td>0.0               </td><td>0        </td><td>0        </td><td>0        </td><td>0        </td><td>1        </td><td>0        </td><td>0        </td><td>0        </td><td>3.0                   </td><td>0.0                  </td><td>0.0                  </td><td>0.0                  </td><td>0.004058239         </td><td>0.0                  </td><td>0.0                        </td><td>0.0                        </td><td>0.0                     </td><td>0.0                    </td><td>0.0                     </td><td>0.0                 </td><td>0.0                   </td><td>0.0                  </td><td>0.0                  </td><td>0.0                </td><td>1                       </td><td>0.046875            </td><td>0                    </td><td>0                    </td><td>0                    </td><td>0                    </td><td>0                    </td><td>0                    </td><td>0                    </td><td>0                    </td><td>0                    </td><td>0                    </td><td>0                    </td><td>0                    </td><td>0                    </td><td>1                    </td><td>0                    </td><td>1                    </td><td>0                    </td><td>                   </td><td>                   </td><td>                   </td><td>                   </td><td>                   </td><td>0                </td><td>0.006633684           </td><td>0                   </td><td>                </td><td>                </td><td>                </td><td>                </td><td>                </td><td>                </td><td>                </td></tr>\n",
       "</tbody>\n",
       "</table>"
      ]
     },
     "metadata": {},
     "output_type": "display_data"
    }
   ],
   "source": [
    "column_list = hf_vali.col_names\n",
    "for i in column_list:\n",
    "    if i in categorical_vars:\n",
    "        hf_vali[i] = hf_vali[i].asfactor()\n",
    "    else:\n",
    "        hf_vali[i] = hf_vali[i].asnumeric()\n",
    "hf_vali.describe()"
   ]
  },
  {
   "cell_type": "markdown",
   "metadata": {},
   "source": [
    "### 4. 利用 Validation Data 進行 GLRM 的調參"
   ]
  },
  {
   "cell_type": "code",
   "execution_count": null,
   "metadata": {},
   "outputs": [],
   "source": [
    "glrm_params = {\n",
    "                'k': [3, 4, 5, 6, 7, 8]\n",
    "                'gamma_x': [0.0, 0.25, 0.5, 0.75, 1.0],               \n",
    "                'gamma_y': [0.0, 0.25, 0.5, 0.75, 1.0]\n",
    "                }"
   ]
  },
  {
   "cell_type": "code",
   "execution_count": null,
   "metadata": {},
   "outputs": [],
   "source": [
    "glrm_grid = H2OGridSearch(\n",
    "    model=H2OGeneralizedLowRankEstimator(loss=\"Quadratic\", regularization_x=\"L2\", regularization_y=\"L1\", \n",
    "                                         max_iterations=10, multi_loss='Categorical', init_step_size=1e-3,\n",
    "                                         min_step_size=1e-6),\n",
    "    grid_id='glrm_grid1',                  \n",
    "    hyper_params=glrm_params,             \n",
    "    search_criteria={\"strategy\": \"Cartesian\"})\n",
    "\n",
    "glrm_grid.train(training_frame=hf_vali)"
   ]
  },
  {
   "cell_type": "code",
   "execution_count": null,
   "metadata": {},
   "outputs": [],
   "source": [
    "glrm_gridperf = glrm_grid.get_grid(sort_by='RMSE', decreasing = False)\n",
    "glrm_gridperf"
   ]
  },
  {
   "cell_type": "code",
   "execution_count": null,
   "metadata": {},
   "outputs": [],
   "source": [
    "best_glrm_model = glrm_gridperf.models[0]\n",
    "best_glrm_model"
   ]
  },
  {
   "cell_type": "markdown",
   "metadata": {},
   "source": [
    "### 5. Training Data 進行 GLRM 訓練"
   ]
  },
  {
   "cell_type": "code",
   "execution_count": null,
   "metadata": {},
   "outputs": [],
   "source": [
    "k = 3, gamma_x = 0.001, gamma_y = 0.001\n",
    "glrm_model = H2OGeneralizedLowRankEstimator(k=k, loss=\"Quadratic\", regularization_x=\"L2\", regularization_y=\"L1\", max_iterations=10,\n",
    "                                      gamma_x=gamma_x, gamma_y=gamma_y, multi_loss='Categorical', init_step_size=1e-3, min_step_size=1e-6)\n",
    "glrm_model.train(training_frame=hf_train)\n",
    "glrm_model.show()"
   ]
  },
  {
   "cell_type": "code",
   "execution_count": null,
   "metadata": {},
   "outputs": [],
   "source": [
    "model_score = glrm_model.score_history()\n",
    "plt.xlabel(\"Iteration\")\n",
    "plt.ylabel(\"Objective\")\n",
    "plt.title(\"Objective Function Value per Iteration\")\n",
    "print(model_score)\n",
    "plt.plot(model_score[\"iterations\"], model_score[\"objective\"])\n",
    "plt.show()"
   ]
  },
  {
   "cell_type": "markdown",
   "metadata": {},
   "source": [
    "### 6. 將整數連續型變數中為負的補0"
   ]
  },
  {
   "cell_type": "code",
   "execution_count": null,
   "metadata": {},
   "outputs": [],
   "source": [
    "var_integer = [\"L1YR_A_ISSUE_CNT\", \"L1YR_B_ISSUE_CNT\", \"CHANNEL_A_POL_CNT\", \"CHANNEL_B_POL_CNT\", \"APC_CNT\", \\\n",
    "              \"INSD_CNT\", \"AG_CNT\", \"AG_NOW_CNT\", \"CLC_CUR_NUM\", \"IM_CNT\", \"TOOL_VISIT_1YEAR_CNT\"]\n",
    "\n",
    "def relu(data):\n",
    "    for i in data.columns:\n",
    "        if i in var_integer:\n",
    "            data[data[i]<0, i]=0\n",
    "    return(data)"
   ]
  },
  {
   "cell_type": "code",
   "execution_count": null,
   "metadata": {},
   "outputs": [],
   "source": [
    "hf_train_hat = glrm_model.predict(hf_train)\n",
    "hf_train_hat = relu(hf_train_hat)\n",
    "hf_train_hat"
   ]
  },
  {
   "cell_type": "markdown",
   "metadata": {},
   "source": [
    "### 7. 利用 Validation Data 驗證補值結果："
   ]
  },
  {
   "cell_type": "markdown",
   "metadata": {},
   "source": [
    "### 將 Validation Data 取出無 NaN 的部分，自行塞入 50% 的 NaN 驗證 GLRM 模型是否準確"
   ]
  },
  {
   "cell_type": "code",
   "execution_count": null,
   "metadata": {},
   "outputs": [],
   "source": [
    "hf_vali_real = hf_vali.na_omit()\n",
    "hf_vali_real.head()"
   ]
  },
  {
   "cell_type": "code",
   "execution_count": null,
   "metadata": {},
   "outputs": [],
   "source": [
    "hf_vali_na = h2o.deep_copy(hf_vali_real, 'vali_na')\n",
    "hf_vali_na = hf_vali_na.insert_missing_values(0.5)\n",
    "hf_vali_na.head()"
   ]
  },
  {
   "cell_type": "code",
   "execution_count": null,
   "metadata": {},
   "outputs": [],
   "source": [
    "column_list = hf_vali_na.col_names\n",
    "for i in column_list:\n",
    "    if i in categorical_vars:\n",
    "        hf_vali_na[i] = hf_vali_na[i].asfactor()\n",
    "    else:\n",
    "        hf_vali_na[i] = hf_vali_na[i].asnumeric()"
   ]
  },
  {
   "cell_type": "code",
   "execution_count": null,
   "metadata": {},
   "outputs": [],
   "source": [
    "hf_vali_hat = glrm_model.predict(hf_vali_na)\n",
    "hf_vali_hat = relu(hf_vali_hat)\n",
    "hf_vali_hat"
   ]
  },
  {
   "cell_type": "code",
   "execution_count": null,
   "metadata": {},
   "outputs": [],
   "source": [
    "def makelabel(data, dfna, name):\n",
    "    k = h2o.as_list(data).values.reshape(-1)\n",
    "    k1 = np.isnan(h2o.as_list(dfna).values.reshape(-1))\n",
    "    k = h2o.H2OFrame(k[k1])\n",
    "    k.names = [name]\n",
    "    return k"
   ]
  },
  {
   "cell_type": "code",
   "execution_count": null,
   "metadata": {},
   "outputs": [],
   "source": [
    "from h2o.model.regression import *\n",
    "\n",
    "label = makelabel(hf_vali_real, hf_vali_na, 'label')\n",
    "predict = makelabel(hf_vali_hat, hf_vali_na, 'predict')"
   ]
  },
  {
   "cell_type": "code",
   "execution_count": null,
   "metadata": {},
   "outputs": [],
   "source": [
    "fig, ax = plt.subplots()\n",
    "ax.scatter(h2o.as_list(predict), h2o.as_list(label), alpha=0.3)\n",
    "ax.plot(h2o.as_list(predict), h2o.as_list(predict), c='red')\n",
    "display(fig)"
   ]
  },
  {
   "cell_type": "markdown",
   "metadata": {},
   "source": [
    "### 查看補值結果"
   ]
  },
  {
   "cell_type": "code",
   "execution_count": null,
   "metadata": {},
   "outputs": [],
   "source": [
    "df_vali_real = hf_vali_real.as_data_frame(use_pandas = True)\n",
    "df_vali_na = hf_vali_na.as_data_frame(use_pandas = True)\n",
    "df_vali_hat = hf_vali_hat.as_data_frame(use_pandas = True)"
   ]
  },
  {
   "cell_type": "code",
   "execution_count": null,
   "metadata": {},
   "outputs": [],
   "source": [
    "df_vali_real = df_vali_real.astype(np.float32)\n",
    "df_vali_na = df_vali_na.astype(np.float32)\n",
    "df_vali_hat = df_vali_hat.astype(np.float32)\n",
    "\n",
    "vali_na_newpre_df = df_vali_na.copy()\n",
    "vali_na_newpre_df[df_vali_na.isna()] = df_vali_hat[df_vali_na.isna()].values"
   ]
  },
  {
   "cell_type": "code",
   "execution_count": null,
   "metadata": {},
   "outputs": [],
   "source": [
    "contin_no_seletor = []\n",
    "factor_no_select = []\n",
    "for var in df_vali_real.columns:\n",
    "    if var in conti_var:\n",
    "        mse = mean_squared_error(df_vali_real[var], vali_na_newpre_df[var])\n",
    "        if mse > 1:\n",
    "            contin_no_seletor.append(var)\n",
    "    if var in categorical_vars:\n",
    "        acc = accuracy_score(df_vali_real[var], vali_na_newpre_df[var])        \n",
    "        if acc < 0.85:\n",
    "            factor_no_select.append(var)\n",
    "            print('factor_vars', var,acc)"
   ]
  },
  {
   "cell_type": "markdown",
   "metadata": {},
   "source": [
    "### 補值結果差的不做補值"
   ]
  },
  {
   "cell_type": "markdown",
   "metadata": {},
   "source": [
    "### Training Data"
   ]
  },
  {
   "cell_type": "code",
   "execution_count": null,
   "metadata": {},
   "outputs": [],
   "source": [
    "train_glrm = hf_train.as_data_frame(use_pandas=True)\n",
    "train_hat = hf_train_hat.as_data_frame(use_pandas=True)\n",
    "\n",
    "train_glrm = train_glrm.astype(np.float32)\n",
    "train_hat = train_hat.astype(np.float32)\n",
    "\n",
    "train_glrm_new = train_glrm.copy()\n",
    "train_glrm_new[train_glrm.isna()] = train_hat[train_glrm.isna()].values\n",
    "\n",
    "for i in contin_no_seletor + factor_no_select:\n",
    "    train_glrm_new[train_glrm[i].isna()] = train_glrm[train_glrm[i].isna()].values"
   ]
  },
  {
   "cell_type": "markdown",
   "metadata": {},
   "source": [
    "### Validation Data "
   ]
  },
  {
   "cell_type": "code",
   "execution_count": null,
   "metadata": {},
   "outputs": [],
   "source": [
    "for i in contin_no_seletor + factor_no_select:\n",
    "    vali_na_newpre_df[df_vali_na[i].isna()] = df_vali_na[df_vali_na[i].isna()].values"
   ]
  },
  {
   "cell_type": "markdown",
   "metadata": {},
   "source": [
    "## 四、利用 REFCV 進行 Feature Selection"
   ]
  },
  {
   "cell_type": "markdown",
   "metadata": {},
   "source": [
    "### GLRM 補完值 Data 做 Feature Selection"
   ]
  },
  {
   "cell_type": "code",
   "execution_count": null,
   "metadata": {},
   "outputs": [],
   "source": [
    "estimator = xgb.XGBRegressor(objective=\"reg:logistic\", random_state=42, eval_metric='auc')\n",
    "selector = RFE(estimator=estimator, n_features_to_select=30)\n",
    "X_t_glrm = selector.fit_transform(train_glrm, y_train)\n",
    "X_train_glrm, X_test_glrm, y_train_glrm, y_test_glrm = model_selection.train_test_split(X_t_glrm, y_train,\n",
    "                                                                            test_size=0.25, random_state=0)"
   ]
  },
  {
   "cell_type": "code",
   "execution_count": null,
   "metadata": {},
   "outputs": [],
   "source": [
    "clf_t_glrm = xgb.XGBRegressor(objective=\"reg:logistic\", random_state=42, eval_metric='auc')\n",
    "\n",
    "clf_t_glrm.fit(X_train_glrm, y_train_glrm)\n",
    "y_pred = clf_t_glrm.predict(X_train_glrm)\n",
    "fpr, tpr, thresholds = metrics.roc_curve(y_train_glrm, y_pred, pos_label=1)\n",
    "auc = metrics.auc(fpr, tpr)\n",
    "print('after auc = ', auc)\n",
    "\n",
    "y_pred = clf_t_glrm.predict(X_test_glrm)\n",
    "fpr, tpr, thresholds = metrics.roc_curve(y_test_glrm, y_pred, pos_label=1)\n",
    "auc = metrics.auc(fpr, tpr)\n",
    "print('after test auc = ', auc)"
   ]
  },
  {
   "cell_type": "code",
   "execution_count": null,
   "metadata": {},
   "outputs": [],
   "source": [
    "features = X.columns[selector.get_support()]\n",
    "print('number:', len(features))\n",
    "print(features)"
   ]
  },
  {
   "cell_type": "markdown",
   "metadata": {},
   "source": [
    "### Training Data 只取重要的變數"
   ]
  },
  {
   "cell_type": "code",
   "execution_count": null,
   "metadata": {},
   "outputs": [],
   "source": [
    "var_names = list(train_glrm.columns)\n",
    "for var in var_names:\n",
    "    if var not in features:\n",
    "        train_glrm = train_glrm.drop(var, axis=1)\n",
    "train_glrm.head()"
   ]
  },
  {
   "cell_type": "markdown",
   "metadata": {},
   "source": [
    "### Validation Data 只取重要的變數"
   ]
  },
  {
   "cell_type": "code",
   "execution_count": null,
   "metadata": {},
   "outputs": [],
   "source": [
    "var_names = list(vali_na_newpre_df.columns)\n",
    "for var in var_names:\n",
    "    if var not in features:\n",
    "        vali_na_newpre_df = vali_na_newpre_df.drop(var, axis=1)\n",
    "vali_na_newpre_df.head()"
   ]
  },
  {
   "cell_type": "markdown",
   "metadata": {},
   "source": [
    "## 五、利用 XGBoost 進行訓練及預測"
   ]
  },
  {
   "cell_type": "markdown",
   "metadata": {},
   "source": [
    "### 1. Validation Data 使 XGBoost 自行補值，進行 XGBoost 調參"
   ]
  },
  {
   "cell_type": "code",
   "execution_count": null,
   "metadata": {},
   "outputs": [],
   "source": [
    "parameters = {'max_depth' : range(3, 10, 2), 'min_child_weight' : range(1, 6, 2)}\n",
    " \n",
    "model = xgb.XGBRegressor(objective=\"reg:logistic\", random_state=42, eval_metric='auc')\n",
    "clf = GridSearchCV(model, parameters, n_jobs=-1, cv=5, scoring='roc_auc', verbose=0)\n",
    "clf.fit(x_vali, y_vali)\n",
    " \n",
    "clf.best_params_, clf.best_score_"
   ]
  },
  {
   "cell_type": "code",
   "execution_count": null,
   "metadata": {},
   "outputs": [],
   "source": [
    "parameters = {'gamma' : [i / 10.0 for i in range(0, 5)]}\n",
    "model = xgb.XGBRegressor(objective=\"reg:logistic\", random_state=42, eval_metric='auc', max_depth=3,\n",
    "                        min_child_weight=5)\n",
    " \n",
    "clf = GridSearchCV(model, parameters,n_jobs=-1, cv=5, scoring='roc_auc', verbose=0)\n",
    "clf.fit(x_vali, y_vali)\n",
    "\n",
    "clf.best_params_, clf.best_score_"
   ]
  },
  {
   "cell_type": "code",
   "execution_count": null,
   "metadata": {},
   "outputs": [],
   "source": [
    "parameters = {'subsample' : [i / 10.0 for i in range(6, 10)], 'colsample_bytree' : [i / 10.0 for i in range(6, 10)]} \n",
    "model = xgb.XGBRegressor(objective=\"reg:logistic\", random_state=42, eval_metric='auc', max_depth=3, \n",
    "                         min_child_weight=5, gamma=0.1)\n",
    " \n",
    "clf = GridSearchCV(model, parameters, n_jobs=-1, cv=5, scoring='roc_auc', verbose=0)\n",
    "clf.fit(x_vali, y_vali)\n",
    " \n",
    "clf.best_params_, clf.best_score_"
   ]
  },
  {
   "cell_type": "code",
   "execution_count": null,
   "metadata": {},
   "outputs": [],
   "source": [
    "parameters = {\n",
    " 'reg_alpha' : [1e-5, 1e-4, 1e-3, 1e-2, 0.1, 1, 10, 100, 1000],\n",
    " 'reg_lambda' : [1e-5, 1e-4, 1e-3, 1e-2, 0.1, 1, 10, 100, 1000]\n",
    "}\n",
    "model = xgb.XGBRegressor(objective=\"reg:logistic\", random_state=42, eval_metric='auc', max_depth=3, min_child_weight=5, gamma = 0.1,\n",
    "                         colsample_bytree=0.8, subsample=0.7)\n",
    "clf = GridSearchCV(model, parameters, n_jobs=-1, cv = 5, scoring='roc_auc', verbose=0)\n",
    "clf.fit(x_vali, y_vali)\n",
    " \n",
    "clf.best_params_, clf.best_score_"
   ]
  },
  {
   "cell_type": "code",
   "execution_count": null,
   "metadata": {},
   "outputs": [],
   "source": [
    "parameters = {\n",
    " 'reg_alpha' : list(np.linspace(1e-3, 1e-1, 10)),\n",
    " 'reg_lambda' : list(np.linspace(1e-5, 1e-3, 10))\n",
    "}\n",
    "\n",
    "model = xgb.XGBRegressor(objective=\"reg:logistic\", random_state=42, eval_metric='auc', max_depth=3, min_child_weight=5, gamma=0.1,\n",
    "                         colsample_bytree=0.8, subsample=0.7)\n",
    "clf = GridSearchCV(model, parameters, n_jobs=-1, cv=5, scoring='roc_auc', verbose=0)\n",
    "clf.fit(x_vali, y_vali)\n",
    " \n",
    "clf.best_params_, clf.best_score_"
   ]
  },
  {
   "cell_type": "markdown",
   "metadata": {},
   "source": [
    "### 2. Training Data 使 XGBoost 自行補值，利用調參結果進行訓練"
   ]
  },
  {
   "cell_type": "code",
   "execution_count": null,
   "metadata": {},
   "outputs": [],
   "source": [
    "xgbc = xgb.XGBRegressor(objective=\"reg:logistic\", random_state=42, eval_metric='auc', max_depth=5, min_child_weight=1, gamma=0.1,\n",
    "                         colsample_bytree=0.8, subsample=0.8, reg_alpha=0.077, reg_lambda=0.00083)\n",
    "xgbc.fit(x_train, y_train)"
   ]
  },
  {
   "cell_type": "code",
   "execution_count": null,
   "metadata": {},
   "outputs": [],
   "source": [
    "y_pred_train = xgbc.predict(x_train)\n",
    "print(y_pred_train)"
   ]
  },
  {
   "cell_type": "code",
   "execution_count": null,
   "metadata": {},
   "outputs": [],
   "source": [
    "from sklearn import metrics\n",
    "fpr, tpr, thresholds = metrics.roc_curve(y_train, y_pred_train, pos_label=1)\n",
    "metrics.auc(fpr, tpr)"
   ]
  },
  {
   "cell_type": "code",
   "execution_count": null,
   "metadata": {},
   "outputs": [],
   "source": [
    "y_pred_vali = xgbc.predict(x_vali)\n",
    "fpr, tpr, thresholds = metrics.roc_curve(y_vali, y_pred_vali, pos_label=1)\n",
    "metrics.auc(fpr, tpr)"
   ]
  },
  {
   "cell_type": "markdown",
   "metadata": {},
   "source": [
    "### 3. Validation Data 利用 GLRM 補值，進行 XGBoost 調參"
   ]
  },
  {
   "cell_type": "code",
   "execution_count": null,
   "metadata": {},
   "outputs": [],
   "source": [
    "parameters = {'max_depth' : range(3, 10, 2), 'min_child_weight' : range(1, 6, 2)}\n",
    " \n",
    "model = xgb.XGBRegressor(objective=\"reg:logistic\", random_state=42, eval_metric='auc')\n",
    "clf = GridSearchCV(model, parameters, n_jobs=-1, cv=5, scoring='roc_auc', verbose=0)\n",
    "clf.fit(vali_na_newpre_df, y_vali)\n",
    " \n",
    "clf.best_params_, clf.best_score_"
   ]
  },
  {
   "cell_type": "code",
   "execution_count": null,
   "metadata": {},
   "outputs": [],
   "source": [
    "parameters = {'gamma' : [i / 10.0 for i in range(0, 5)]}\n",
    "model = xgb.XGBRegressor(objective=\"reg:logistic\", random_state=42, eval_metric='auc', max_depth=3,\n",
    "                        min_child_weight=5)\n",
    " \n",
    "clf = GridSearchCV(model, parameters,n_jobs=-1, cv=5, scoring='roc_auc', verbose=0)\n",
    "clf.fit(vali_na_newpre_df, y_vali)\n",
    "\n",
    "clf.best_params_, clf.best_score_"
   ]
  },
  {
   "cell_type": "code",
   "execution_count": null,
   "metadata": {},
   "outputs": [],
   "source": [
    "parameters = {'subsample' : [i / 10.0 for i in range(6, 10)], 'colsample_bytree' : [i / 10.0 for i in range(6, 10)]} \n",
    "model = xgb.XGBRegressor(objective=\"reg:logistic\", random_state=42, eval_metric='auc', max_depth=3, \n",
    "                         min_child_weight=5, gamma=0.1)\n",
    " \n",
    "clf = GridSearchCV(model, parameters, n_jobs=-1, cv=5, scoring='roc_auc', verbose=0)\n",
    "clf.fit(vali_na_newpre_df, y_vali)\n",
    " \n",
    "clf.best_params_, clf.best_score_"
   ]
  },
  {
   "cell_type": "code",
   "execution_count": null,
   "metadata": {},
   "outputs": [],
   "source": [
    "parameters = {\n",
    " 'reg_alpha' : [1e-5, 1e-4, 1e-3, 1e-2, 0.1, 1, 10, 100, 1000],\n",
    " 'reg_lambda' : [1e-5, 1e-4, 1e-3, 1e-2, 0.1, 1, 10, 100, 1000]\n",
    "}\n",
    "model = xgb.XGBRegressor(objective=\"reg:logistic\", random_state=42, eval_metric='auc', max_depth=3, min_child_weight=5, gamma = 0.1,\n",
    "                         colsample_bytree=0.8, subsample=0.7)\n",
    "clf = GridSearchCV(model, parameters, n_jobs=-1, cv = 5, scoring='roc_auc', verbose=0)\n",
    "clf.fit(vali_na_newpre_df, y_vali)\n",
    " \n",
    "clf.best_params_, clf.best_score_"
   ]
  },
  {
   "cell_type": "code",
   "execution_count": null,
   "metadata": {},
   "outputs": [],
   "source": [
    "parameters = {\n",
    " 'reg_alpha' : list(np.linspace(1e-3, 1e-1, 10)),\n",
    " 'reg_lambda' : list(np.linspace(1e-5, 1e-3, 10))\n",
    "}\n",
    "\n",
    "model = xgb.XGBRegressor(objective=\"reg:logistic\", random_state=42, eval_metric='auc', max_depth=3, min_child_weight=5, gamma=0.1,\n",
    "                         colsample_bytree=0.8, subsample=0.7)\n",
    "clf = GridSearchCV(model, parameters, n_jobs=-1, cv=5, scoring='roc_auc', verbose=0)\n",
    "clf.fit(vali_na_newpre_df, y_vali)\n",
    " \n",
    "clf.best_params_, clf.best_score_"
   ]
  },
  {
   "cell_type": "markdown",
   "metadata": {},
   "source": [
    "### 4. Training Data 利用 GLRM 補值，利用調參結果進行訓練"
   ]
  },
  {
   "cell_type": "code",
   "execution_count": null,
   "metadata": {},
   "outputs": [],
   "source": [
    "xgbc_glrm = xgb.XGBRegressor(objective=\"reg:logistic\", random_state=42, eval_metric='auc', max_depth=5, min_child_weight=1, gamma=0.1,\n",
    "                         colsample_bytree=0.8, subsample=0.8, reg_alpha=0.077, reg_lambda=0.00083)\n",
    "xgbc_glrm.fit(train_glrm, y_train)"
   ]
  },
  {
   "cell_type": "code",
   "execution_count": null,
   "metadata": {},
   "outputs": [],
   "source": [
    "y_pred_train_glrm = xgbc_glrm.predict(train_glrm)\n",
    "print(y_pred_train)"
   ]
  },
  {
   "cell_type": "code",
   "execution_count": null,
   "metadata": {},
   "outputs": [],
   "source": [
    "from sklearn import metrics\n",
    "fpr, tpr, thresholds = metrics.roc_curve(y_train, y_pred_train_glrm, pos_label=1)\n",
    "metrics.auc(fpr, tpr)"
   ]
  },
  {
   "cell_type": "code",
   "execution_count": null,
   "metadata": {},
   "outputs": [],
   "source": [
    "y_pred_vali_glrm = xgbc_glrm.predict(vali_na_newpre_df)\n",
    "fpr, tpr, thresholds = metrics.roc_curve(y_vali, y_pred_vali_glrm, pos_label=1)\n",
    "metrics.auc(fpr, tpr)"
   ]
  },
  {
   "cell_type": "markdown",
   "metadata": {},
   "source": [
    "## 六、帶入Testing Data"
   ]
  },
  {
   "cell_type": "code",
   "execution_count": null,
   "metadata": {},
   "outputs": [],
   "source": [
    "df_test = pd.read_csv(\"test.csv\", encoding = 'GB18030')\n",
    "ID = df_test[\"CUS_ID\"]\n",
    "df_test.index = df_test[\"CUS_ID\"]\n",
    "df_test = df_test.drop(\"CUS_ID\", axis=1)\n",
    "df_test.head()"
   ]
  },
  {
   "cell_type": "markdown",
   "metadata": {},
   "source": [
    "### 1. 資料整理"
   ]
  },
  {
   "cell_type": "code",
   "execution_count": null,
   "metadata": {},
   "outputs": [],
   "source": [
    "names = df_test.columns\n",
    "grade_range = {'低':'low', '中':'medium' , '中高': 'medium high', '高': 'high' }\n",
    "for name in names:\n",
    "    try :\n",
    "        if is_contains_chinese(df_test[name].values):\n",
    "            df_test[name] = df_test[name].map(grade_range)\n",
    "    except:\n",
    "        continue"
   ]
  },
  {
   "cell_type": "code",
   "execution_count": null,
   "metadata": {},
   "outputs": [],
   "source": [
    "df_test = df_test.drop(\"A_IND\", axis=1)\n",
    "df_test = df_test.drop(\"B_IND\", axis=1)\n",
    "df_test = df_test.drop(\"C_IND\", axis=1)\n",
    "df_test = df_test.drop(\"L1YR_C_CNT\", axis=1)"
   ]
  },
  {
   "cell_type": "code",
   "execution_count": null,
   "metadata": {},
   "outputs": [],
   "source": [
    "df_test = df_test.replace([\"Y\", \"N\"], [1, 0]) \n",
    "df_test = df_test.replace([\"M\", \"F\"], [1, 0])\n",
    "df_test = df_test.replace(['low', 'medium high', 'medium', 'high'], [0, 1, 2, 3])\n",
    "df_test = df_test.replace(['A1', 'A2', 'B1', 'B2', 'D', 'C1', 'C2', 'E'], [0, 1, 2, 3, 4, 5, 6, 7])\n",
    "df_test = df_test.replace(['A', 'B', 'C', 'D', 'E', 'F', 'G', 'H'], [0, 1, 2, 3, 4, 5, 6, 7])\n",
    "df_test.head()"
   ]
  },
  {
   "cell_type": "markdown",
   "metadata": {},
   "source": [
    "### 2. 進行 GLRM 補值"
   ]
  },
  {
   "cell_type": "code",
   "execution_count": null,
   "metadata": {},
   "outputs": [],
   "source": [
    "hf_test = h2o.H2OFrame(df_test)\n",
    "column_list = hf_test.col_names\n",
    "for i in column_list:\n",
    "    if i in categorical_vars:\n",
    "        hf_test[i] = hf_test[i].asfactor()\n",
    "    else:\n",
    "        hf_test[i] = hf_test[i].asnumeric()"
   ]
  },
  {
   "cell_type": "code",
   "execution_count": null,
   "metadata": {},
   "outputs": [],
   "source": [
    "hf_test_hat = glrm_model.predict(hf_test)\n",
    "hf_test_hat = relu(hf_test_hat)\n",
    "hf_test_hat"
   ]
  },
  {
   "cell_type": "code",
   "execution_count": null,
   "metadata": {},
   "outputs": [],
   "source": [
    "df_test = hf_test.as_data_frame(use_pandas = True)\n",
    "df_test_hat = hf_test_hat.as_data_frame(use_pandas = True)\n",
    "\n",
    "df_test = df_test.astype(np.float32)\n",
    "df_test_hat = df_test_hat.astype(np.float32)\n",
    "df_test[df_test.isna()] = df_test_hat[df_test.isna()].values"
   ]
  },
  {
   "cell_type": "markdown",
   "metadata": {},
   "source": [
    "### 3. 進行 XGBoost 預測"
   ]
  },
  {
   "cell_type": "code",
   "execution_count": null,
   "metadata": {},
   "outputs": [],
   "source": [
    "y_pred = xgbc.predict(df_test)"
   ]
  },
  {
   "cell_type": "code",
   "execution_count": null,
   "metadata": {},
   "outputs": [],
   "source": [
    "df_test[\"CUS_ID\"] = ID\n",
    "df_test[\"Ypred\"] = y_pred\n",
    "df_test.head()"
   ]
  },
  {
   "cell_type": "code",
   "execution_count": null,
   "metadata": {},
   "outputs": [],
   "source": [
    "final = df_test[[\"CUS_ID\", \"Ypred\"]]\n",
    "final.head()"
   ]
  }
 ],
 "metadata": {
  "kernelspec": {
   "display_name": "Python 3",
   "language": "python",
   "name": "python3"
  },
  "language_info": {
   "codemirror_mode": {
    "name": "ipython",
    "version": 3
   },
   "file_extension": ".py",
   "mimetype": "text/x-python",
   "name": "python",
   "nbconvert_exporter": "python",
   "pygments_lexer": "ipython3",
   "version": "3.6.10"
  }
 },
 "nbformat": 4,
 "nbformat_minor": 2
}
